{
 "cells": [
  {
   "cell_type": "code",
   "execution_count": 138,
   "metadata": {},
   "outputs": [
    {
     "name": "stdout",
     "output_type": "stream",
     "text": [
      "The autoreload extension is already loaded. To reload it, use:\n",
      "  %reload_ext autoreload\n"
     ]
    }
   ],
   "source": [
    "%load_ext autoreload\n",
    "%autoreload 2\n",
    "\n",
    "import numpy as np\n",
    "import pandas as pd\n",
    "import matplotlib.pyplot as plt\n",
    "\n",
    "import torch\n",
    "import torch.nn.functional as F\n",
    "import torch.nn as nn\n",
    "from torch.autograd import Variable\n",
    "\n",
    "import tqdm\n",
    "import os\n",
    "import mcbe\n",
    "from mpl_toolkits.mplot3d import Axes3D"
   ]
  },
  {
   "cell_type": "code",
   "execution_count": 139,
   "metadata": {},
   "outputs": [],
   "source": [
    "from sklearn.datasets import load_iris\n",
    "from sklearn.model_selection import train_test_split\n",
    "from sklearn.preprocessing import StandardScaler\n",
    "\n",
    "iris = load_iris()\n",
    "X = iris['data']\n",
    "y = iris['target']\n",
    "names = iris['target_names']\n",
    "feature_names = iris['feature_names']\n",
    "\n",
    "X_3 = X[:,[0,2,3]]\n",
    "\n",
    "# Scale data to have mean 0 and variance 1 \n",
    "# which is importance for convergence of the neural network\n",
    "scaler = StandardScaler()\n",
    "X_scaled = scaler.fit_transform(X_3)\n",
    "#m = np.amax(X_scaled)\n",
    "#X_ball = X_scaled/m\n",
    "\n",
    "# Split the data set into training and testing\n",
    "X_train, X_test, y_train, y_test = train_test_split(\n",
    "    X_scaled, y, test_size=0.2, random_state=2)"
   ]
  },
  {
   "cell_type": "code",
   "execution_count": 140,
   "metadata": {},
   "outputs": [],
   "source": [
    "X_train = Variable(torch.from_numpy(X_train)).float()\n",
    "y_train = Variable(torch.from_numpy(y_train)).long()\n",
    "X_test  = Variable(torch.from_numpy(X_test)).float()\n",
    "y_test  = Variable(torch.from_numpy(y_test)).long()"
   ]
  },
  {
   "cell_type": "code",
   "execution_count": 141,
   "metadata": {},
   "outputs": [],
   "source": [
    "# size of the first layer\n",
    "l1 = 6\n",
    "l2 = 27"
   ]
  },
  {
   "cell_type": "code",
   "execution_count": 142,
   "metadata": {},
   "outputs": [],
   "source": [
    "class Model(nn.Module):\n",
    "    def __init__(self, input_dim, l1):\n",
    "        super(Model, self).__init__()\n",
    "        self.layer1 = nn.Linear(input_dim, l1)\n",
    "        self.layer2 = nn.Linear(l1, l2)\n",
    "        self.layer3 = nn.Linear(l2, 3)\n",
    "        \n",
    "    def forward(self, x):\n",
    "        x = F.relu(self.layer1(x))\n",
    "        x = F.relu(self.layer2(x))\n",
    "        x = F.softmax(self.layer3(x), dim=1)\n",
    "        return x"
   ]
  },
  {
   "cell_type": "code",
   "execution_count": 165,
   "metadata": {},
   "outputs": [],
   "source": [
    "class Maxbias_loss(nn.Module):\n",
    "    def __init__(self):\n",
    "        super().__init__()\n",
    "\n",
    "    def forward(self, max_bias, bias):\n",
    "        return 0.1*np.linalg.norm(np.max(np.array([bias - max_bias, np.zeros_like(bias)]),axis=0))"
   ]
  },
  {
   "cell_type": "code",
   "execution_count": 166,
   "metadata": {},
   "outputs": [
    {
     "data": {
      "text/plain": [
       "Model(\n",
       "  (layer1): Linear(in_features=3, out_features=6, bias=True)\n",
       "  (layer2): Linear(in_features=6, out_features=27, bias=True)\n",
       "  (layer3): Linear(in_features=27, out_features=3, bias=True)\n",
       ")"
      ]
     },
     "execution_count": 166,
     "metadata": {},
     "output_type": "execute_result"
    }
   ],
   "source": [
    "model     = Model(X_train.shape[1],l1)\n",
    "optimizer = torch.optim.Adam(model.parameters(), lr=0.01)\n",
    "loss_fn_ce   = nn.CrossEntropyLoss() \n",
    "loss_fn_maxbias = Maxbias_loss()\n",
    "model"
   ]
  },
  {
   "cell_type": "code",
   "execution_count": 167,
   "metadata": {},
   "outputs": [
    {
     "data": {
      "text/plain": [
       "Model(\n",
       "  (layer1): Linear(in_features=3, out_features=6, bias=True)\n",
       "  (layer2): Linear(in_features=6, out_features=27, bias=True)\n",
       "  (layer3): Linear(in_features=27, out_features=3, bias=True)\n",
       ")"
      ]
     },
     "execution_count": 167,
     "metadata": {},
     "output_type": "execute_result"
    }
   ],
   "source": [
    "model_injective = Model(X_train.shape[1],l1)\n",
    "optimizer_injective = torch.optim.Adam(model_injective.parameters(), lr=0.01)\n",
    "model"
   ]
  },
  {
   "cell_type": "code",
   "execution_count": 168,
   "metadata": {},
   "outputs": [],
   "source": [
    "times_to_blowup = 3\n",
    "X_kd = mcbe.add_kd_samples(X_train,times_to_blowup)"
   ]
  },
  {
   "cell_type": "code",
   "execution_count": 181,
   "metadata": {},
   "outputs": [
    {
     "name": "stderr",
     "output_type": "stream",
     "text": [
      "100%|██████████| 100/100 [00:06<00:00, 15.48it/s]\n"
     ]
    },
    {
     "data": {
      "text/plain": [
       "array([0.96666664, 0.96666664, 0.96666664, 0.96666664, 0.96666664,\n",
       "       0.96666664, 0.96666664, 0.96666664, 0.96666664, 0.96666664,\n",
       "       0.96666664, 0.96666664, 0.96666664, 0.96666664, 0.96666664,\n",
       "       0.96666664, 0.96666664, 0.96666664, 0.96666664, 0.96666664,\n",
       "       0.96666664, 0.96666664, 0.96666664, 0.96666664, 0.96666664,\n",
       "       0.96666664, 0.96666664, 0.96666664, 0.96666664, 0.96666664,\n",
       "       0.96666664, 0.96666664, 0.96666664, 0.96666664, 0.96666664,\n",
       "       0.96666664, 0.96666664, 0.96666664, 0.96666664, 0.96666664,\n",
       "       0.96666664, 0.96666664, 0.96666664, 0.96666664, 0.96666664,\n",
       "       0.96666664, 0.96666664, 0.96666664, 0.96666664, 0.96666664,\n",
       "       0.96666664, 0.96666664, 0.96666664, 0.96666664, 0.96666664,\n",
       "       0.96666664, 0.96666664, 0.96666664, 0.96666664, 0.96666664,\n",
       "       0.96666664, 0.96666664, 0.96666664, 0.96666664, 0.96666664,\n",
       "       0.96666664, 0.96666664, 0.96666664, 0.96666664, 0.96666664,\n",
       "       0.96666664, 0.96666664, 0.96666664, 0.96666664, 0.96666664,\n",
       "       0.96666664, 0.96666664, 0.96666664, 0.96666664, 0.96666664,\n",
       "       0.96666664, 0.96666664, 0.96666664, 0.96666664, 0.96666664,\n",
       "       0.96666664, 0.96666664, 0.96666664, 0.96666664, 0.96666664,\n",
       "       0.96666664, 0.96666664, 0.96666664, 0.96666664, 0.96666664,\n",
       "       0.96666664, 0.96666664, 0.96666664, 0.96666664, 0.96666664])"
      ]
     },
     "execution_count": 181,
     "metadata": {},
     "output_type": "execute_result"
    }
   ],
   "source": [
    "EPOCHS  = 100\n",
    "\n",
    "weights = []\n",
    "weights_norm = []\n",
    "norms = []\n",
    "biases = np.zeros([EPOCHS + 1,l1])\n",
    "\n",
    "weights_injective = []\n",
    "weights_norm_injective = []\n",
    "norms_injective = []\n",
    "biases_injective = np.zeros([EPOCHS + 1,l1])\n",
    "\n",
    "w1 = model.layer1.weight\n",
    "b1 = model.layer1.bias\n",
    "m1 = w1.shape[0]\n",
    "n1 = w1.shape[1]\n",
    "norm = w1.pow(2).sum(keepdim=True,dim=1).sqrt()\n",
    "w1_norm = torch.div(w1,norm)\n",
    "w1_norm[w1_norm == np.inf] = 0\n",
    "\n",
    "w1_injective = model_injective.layer1.weight\n",
    "b1_injective = model_injective.layer1.bias\n",
    "\n",
    "weights.append(w1.detach().numpy())\n",
    "weights_norm.append(w1_norm.detach().numpy())\n",
    "norms.append(norm.detach().numpy())\n",
    "biases[0,:] = b1.detach().numpy()\n",
    "\n",
    "weights_injective.append(w1_injective.detach().numpy())\n",
    "weights_norm_injective.append(w1_norm.detach().numpy())\n",
    "norms_injective.append(norm.detach().numpy())\n",
    "biases_injective[0,:] = b1_injective.detach().numpy()\n",
    "\n",
    "\n",
    "#epoch counter\n",
    "k = 1\n",
    "\n",
    "loss_list     = np.zeros((EPOCHS,))\n",
    "accuracy_list = np.zeros((EPOCHS,))\n",
    "\n",
    "loss_list_injective     = np.zeros((EPOCHS,))\n",
    "ce_loss_list_injective = np.zeros((EPOCHS,))\n",
    "maxbias_loss_list_injective = np.zeros((EPOCHS,))\n",
    "accuracy_list_injective = np.zeros((EPOCHS,))\n",
    "\n",
    "for epoch in tqdm.trange(EPOCHS):\n",
    "\n",
    "    est_alpha_kd, subframes_kd, est_points_kd = mcbe.be_given_points(polytope=np.array(weights)[-1],points=X_kd, give_subframes=True)\n",
    "\n",
    "    y_pred = model(X_train)\n",
    "    loss = loss_fn_ce(y_pred, y_train)\n",
    "    loss_list[epoch] = loss.item()\n",
    "\n",
    "    y_pred_injective = model_injective(X_train)\n",
    "    loss_injective = loss_fn_ce(y_pred_injective, y_train) + loss_fn_maxbias(max_bias = est_alpha_kd , bias = b1.detach().numpy())\n",
    "    loss_list_injective[epoch] = loss_injective.item()\n",
    "    ce_loss_list_injective[epoch] = loss_fn_ce(y_pred_injective, y_train).item()\n",
    "    maxbias_loss_list_injective[epoch] = loss_fn_maxbias(max_bias = est_alpha_kd , bias = b1.detach().numpy()).item()\n",
    "    \n",
    "    # Zero gradients\n",
    "    optimizer.zero_grad()\n",
    "    loss.backward()\n",
    "    optimizer.step()\n",
    "\n",
    "    # Zero gradients\n",
    "    optimizer_injective.zero_grad()\n",
    "    loss_injective.backward()\n",
    "    optimizer_injective.step()\n",
    "\n",
    "    w1 = model.layer1.weight\n",
    "    b1 = model.layer1.bias\n",
    "\n",
    "    w1_injective = model_injective.layer1.weight\n",
    "    b1_injective = model_injective.layer1.bias\n",
    "\n",
    "\n",
    "    model_injective.layer1.bias = torch.nn.Parameter(torch.from_numpy(np.min(np.array([b1.detach().numpy(), est_alpha_kd]),axis=0)).float())\n",
    "    \n",
    "\n",
    "    norm = w1.pow(2).sum(keepdim=True,dim=1).sqrt()\n",
    "    w1_norm = torch.div(w1,norm)\n",
    "    w1_norm[w1_norm == np.inf] = 0\n",
    "\n",
    "    norm_injective = w1_injective.pow(2).sum(keepdim=True,dim=1).sqrt()\n",
    "    w1_norm_injective = torch.div(w1_injective,norm_injective)\n",
    "    w1_norm_injective[w1_norm_injective == np.inf] = 0\n",
    "    \n",
    "    \n",
    "    weights.append(w1.detach().numpy())\n",
    "    weights_norm.append(w1_norm.detach().numpy())\n",
    "    norms.append(norm.detach().numpy())\n",
    "    biases[k,:] = b1.detach().numpy()\n",
    "\n",
    "    weights_injective.append(w1_injective.detach().numpy())\n",
    "    weights_norm_injective.append(w1_norm_injective.detach().numpy())\n",
    "    norms_injective.append(norm_injective.detach().numpy())\n",
    "    biases_injective[k,:] = b1_injective.detach().numpy()\n",
    "    \n",
    "    with torch.no_grad():\n",
    "        y_pred = model(X_test)\n",
    "        correct = (torch.argmax(y_pred, dim=1) == y_test).type(torch.FloatTensor)\n",
    "        accuracy_list[epoch] = correct.mean()\n",
    "\n",
    "    with torch.no_grad():\n",
    "        y_pred_injective = model_injective(X_test)\n",
    "        correct_injective = (torch.argmax(y_pred_injective, dim=1) == y_test).type(torch.FloatTensor)\n",
    "        accuracy_list_injective[epoch] = correct_injective.mean()\n",
    "    \n",
    "    \n",
    "\n",
    "    \n",
    "    k = k+1\n",
    "\n",
    "accuracy_list\n",
    "accuracy_list_injective"
   ]
  },
  {
   "cell_type": "code",
   "execution_count": 182,
   "metadata": {},
   "outputs": [
    {
     "data": {
      "text/plain": [
       "Text(0, 0.5, 'Accuracy')"
      ]
     },
     "execution_count": 182,
     "metadata": {},
     "output_type": "execute_result"
    },
    {
     "data": {
      "image/png": "[encoded data removed]",
      "text/plain": [
       "<Figure size 640x480 with 1 Axes>"
      ]
     },
     "metadata": {},
     "output_type": "display_data"
    }
   ],
   "source": [
    "plt.plot(accuracy_list, label='Standard')\n",
    "plt.plot(accuracy_list_injective, label='Injective')\n",
    "plt.legend()\n",
    "plt.title('Accuracy')\n",
    "plt.xlabel('Epoch')\n",
    "plt.ylabel('Accuracy')"
   ]
  },
  {
   "cell_type": "code",
   "execution_count": 183,
   "metadata": {},
   "outputs": [
    {
     "data": {
      "text/plain": [
       "<matplotlib.legend.Legend at 0x2327f64ebd0>"
      ]
     },
     "execution_count": 183,
     "metadata": {},
     "output_type": "execute_result"
    },
    {
     "data": {
      "image/png": "[encoded data removed]",
      "text/plain": [
       "<Figure size 640x480 with 1 Axes>"
      ]
     },
     "metadata": {},
     "output_type": "display_data"
    }
   ],
   "source": [
    "\n",
    "plt.plot(loss_list_injective, label='total loss')\n",
    "plt.plot(ce_loss_list_injective, label='cross entropy loss')\n",
    "plt.plot(maxbias_loss_list_injective, label='maxbias loss')\n",
    "plt.legend()\n"
   ]
  },
  {
   "cell_type": "markdown",
   "metadata": {},
   "source": [
    "# mean over multiple trainings"
   ]
  },
  {
   "cell_type": "code",
   "execution_count": 149,
   "metadata": {},
   "outputs": [],
   "source": [
    "num_iter = 25\n",
    "accuracy = []\n",
    "accuracy_injective = []"
   ]
  },
  {
   "cell_type": "code",
   "execution_count": 150,
   "metadata": {},
   "outputs": [
    {
     "name": "stderr",
     "output_type": "stream",
     "text": [
      "100%|██████████| 25/25 [02:38<00:00,  6.33s/it]\n"
     ]
    }
   ],
   "source": [
    "for i in tqdm.tqdm(range(num_iter)):\n",
    "    \n",
    "    model     = Model(X_train.shape[1],l1)\n",
    "    optimizer = torch.optim.Adam(model.parameters(), lr=0.01)\n",
    "    loss_fn_ce   = nn.CrossEntropyLoss() \n",
    "    loss_fn_maxbias = Maxbias_loss()\n",
    "    model\n",
    "\n",
    "    model_injective = Model(X_train.shape[1],l1)\n",
    "    optimizer_injective = torch.optim.Adam(model_injective.parameters(), lr=0.01)\n",
    "    model\n",
    "\n",
    "    times_to_blowup = 3\n",
    "    X_kd = mcbe.add_kd_samples(X_train,times_to_blowup)\n",
    "\n",
    "\n",
    "    weights = []\n",
    "    weights_norm = []\n",
    "    norms = []\n",
    "    biases = np.zeros([EPOCHS + 1,l1])\n",
    "\n",
    "    weights_injective = []\n",
    "    weights_norm_injective = []\n",
    "    norms_injective = []\n",
    "    biases_injective = np.zeros([EPOCHS + 1,l1])\n",
    "\n",
    "    w1 = model.layer1.weight\n",
    "    b1 = model.layer1.bias\n",
    "    m1 = w1.shape[0]\n",
    "    n1 = w1.shape[1]\n",
    "    norm = w1.pow(2).sum(keepdim=True,dim=1).sqrt()\n",
    "    w1_norm = torch.div(w1,norm)\n",
    "    w1_norm[w1_norm == np.inf] = 0\n",
    "\n",
    "    w1_injective = model_injective.layer1.weight\n",
    "    b1_injective = model_injective.layer1.bias\n",
    "\n",
    "    weights.append(w1.detach().numpy())\n",
    "    weights_norm.append(w1_norm.detach().numpy())\n",
    "    norms.append(norm.detach().numpy())\n",
    "    biases[0,:] = b1.detach().numpy()\n",
    "\n",
    "    weights_injective.append(w1_injective.detach().numpy())\n",
    "    weights_norm_injective.append(w1_norm.detach().numpy())\n",
    "    norms_injective.append(norm.detach().numpy())\n",
    "    biases_injective[0,:] = b1_injective.detach().numpy()\n",
    "\n",
    "\n",
    "    #epoch counter\n",
    "    k = 1\n",
    "\n",
    "    loss_list     = np.zeros((EPOCHS,))\n",
    "    accuracy_list = np.zeros((EPOCHS,))\n",
    "\n",
    "    loss_list_injective     = np.zeros((EPOCHS,))\n",
    "    accuracy_list_injective = np.zeros((EPOCHS,))\n",
    "\n",
    "    for epoch in range(EPOCHS):\n",
    "\n",
    "        est_alpha_kd, subframes_kd, est_points_kd = mcbe.be_given_points(polytope=np.array(weights)[-1],points=X_kd, give_subframes=True)\n",
    "\n",
    "        y_pred = model(X_train)\n",
    "        loss = loss_fn_ce(y_pred, y_train)\n",
    "        loss_list[epoch] = loss.item()\n",
    "\n",
    "        y_pred_injective = model_injective(X_train)\n",
    "        loss_injective = loss_fn_ce(y_pred_injective, y_train) + loss_fn_maxbias(max_bias = est_alpha_kd , bias = b1.detach().numpy())\n",
    "        loss_list_injective[epoch] = loss_injective.item()\n",
    "        \n",
    "        # Zero gradients\n",
    "        optimizer.zero_grad()\n",
    "        loss.backward()\n",
    "        optimizer.step()\n",
    "\n",
    "        # Zero gradients\n",
    "        optimizer_injective.zero_grad()\n",
    "        loss_injective.backward()\n",
    "        optimizer_injective.step()\n",
    "\n",
    "        w1 = model.layer1.weight\n",
    "        b1 = model.layer1.bias\n",
    "\n",
    "        w1_injective = model_injective.layer1.weight\n",
    "        b1_injective = model_injective.layer1.bias\n",
    "\n",
    "\n",
    "        model_injective.layer1.bias = torch.nn.Parameter(torch.from_numpy(np.min(np.array([b1.detach().numpy(), est_alpha_kd]),axis=0)).float())\n",
    "        \n",
    "\n",
    "        norm = w1.pow(2).sum(keepdim=True,dim=1).sqrt()\n",
    "        w1_norm = torch.div(w1,norm)\n",
    "        w1_norm[w1_norm == np.inf] = 0\n",
    "\n",
    "        norm_injective = w1_injective.pow(2).sum(keepdim=True,dim=1).sqrt()\n",
    "        w1_norm_injective = torch.div(w1_injective,norm_injective)\n",
    "        w1_norm_injective[w1_norm_injective == np.inf] = 0\n",
    "        \n",
    "        \n",
    "        weights.append(w1.detach().numpy())\n",
    "        weights_norm.append(w1_norm.detach().numpy())\n",
    "        norms.append(norm.detach().numpy())\n",
    "        biases[k,:] = b1.detach().numpy()\n",
    "\n",
    "        weights_injective.append(w1_injective.detach().numpy())\n",
    "        weights_norm_injective.append(w1_norm_injective.detach().numpy())\n",
    "        norms_injective.append(norm_injective.detach().numpy())\n",
    "        biases_injective[k,:] = b1_injective.detach().numpy()\n",
    "        \n",
    "        with torch.no_grad():\n",
    "            y_pred = model(X_test)\n",
    "            correct = (torch.argmax(y_pred, dim=1) == y_test).type(torch.FloatTensor)\n",
    "            accuracy_list[epoch] = correct.mean()\n",
    "\n",
    "        with torch.no_grad():\n",
    "            y_pred_injective = model_injective(X_test)\n",
    "            correct_injective = (torch.argmax(y_pred_injective, dim=1) == y_test).type(torch.FloatTensor)\n",
    "            accuracy_list_injective[epoch] = correct_injective.mean()\n",
    "        \n",
    "        \n",
    "\n",
    "        \n",
    "        k = k+1\n",
    "\n",
    "    accuracy.append(accuracy_list)\n",
    "    accuracy_injective.append(accuracy_list_injective)"
   ]
  },
  {
   "cell_type": "code",
   "execution_count": 151,
   "metadata": {},
   "outputs": [],
   "source": [
    "accuracy = np.array(accuracy)\n",
    "accuracy_injective = np.array(accuracy_injective)"
   ]
  },
  {
   "cell_type": "code",
   "execution_count": 152,
   "metadata": {},
   "outputs": [],
   "source": [
    "mean_accuracy = np.mean(accuracy,axis=0)\n",
    "std_accuracy = np.std(accuracy,axis=0)\n",
    "mean_accuracy_injective = np.mean(accuracy_injective,axis=0)\n",
    "std_accuracy_injective = np.std(accuracy_injective,axis=0)"
   ]
  },
  {
   "cell_type": "code",
   "execution_count": 153,
   "metadata": {},
   "outputs": [
    {
     "data": {
      "text/plain": [
       "Text(0, 0.5, 'Accuracy')"
      ]
     },
     "execution_count": 153,
     "metadata": {},
     "output_type": "execute_result"
    },
    {
     "data": {
      "image/png": "[encoded data removed]",
      "text/plain": [
       "<Figure size 640x480 with 1 Axes>"
      ]
     },
     "metadata": {},
     "output_type": "display_data"
    }
   ],
   "source": [
    "plt.plot(mean_accuracy, label='Standard')\n",
    "plt.fill_between(range(EPOCHS), mean_accuracy-std_accuracy, mean_accuracy+std_accuracy, alpha=0.2)\n",
    "plt.plot(mean_accuracy_injective, label='Injective')\n",
    "plt.fill_between(range(EPOCHS), mean_accuracy_injective-std_accuracy_injective, mean_accuracy_injective+std_accuracy_injective, alpha=0.2)\n",
    "plt.legend()\n",
    "plt.xlabel('Epoch')\n",
    "plt.ylabel('Accuracy')"
   ]
  },
  {
   "cell_type": "code",
   "execution_count": 184,
   "metadata": {},
   "outputs": [],
   "source": [
    "#save the data\n",
    "np.save('mean_accuracy.npy', mean_accuracy)\n",
    "np.save('std_accuracy.npy', std_accuracy)\n",
    "np.save('mean_accuracy_injective_in_loss.npy', mean_accuracy_injective)\n",
    "np.save('std_accuracy_injective_in_loss.npy', std_accuracy_injective)"
   ]
  },
  {
   "cell_type": "code",
   "execution_count": null,
   "metadata": {},
   "outputs": [],
   "source": []
  }
 ],
 "metadata": {
  "kernelspec": {
   "display_name": "pbe",
   "language": "python",
   "name": "python3"
  },
  "language_info": {
   "codemirror_mode": {
    "name": "ipython",
    "version": 3
   },
   "file_extension": ".py",
   "mimetype": "text/x-python",
   "name": "python",
   "nbconvert_exporter": "python",
   "pygments_lexer": "ipython3",
   "version": "3.11.5"
  }
 },
 "nbformat": 4,
 "nbformat_minor": 2
}
