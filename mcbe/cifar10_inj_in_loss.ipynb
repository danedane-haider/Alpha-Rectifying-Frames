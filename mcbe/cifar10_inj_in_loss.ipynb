{
 "cells": [
  {
   "cell_type": "code",
   "execution_count": 3,
   "metadata": {},
   "outputs": [
    {
     "name": "stdout",
     "output_type": "stream",
     "text": [
      "WARNING:tensorflow:From c:\\Users\\heckert\\AppData\\Local\\anaconda3_new\\envs\\pbe\\Lib\\site-packages\\keras\\src\\losses.py:2976: The name tf.losses.sparse_softmax_cross_entropy is deprecated. Please use tf.compat.v1.losses.sparse_softmax_cross_entropy instead.\n",
      "\n"
     ]
    }
   ],
   "source": [
    "%load_ext autoreload\n",
    "%autoreload 2\n",
    "\n",
    "import numpy as np\n",
    "import pandas as pd\n",
    "import matplotlib.pyplot as plt\n",
    "\n",
    "import torch\n",
    "import torch.nn.functional as F\n",
    "import torch.nn as nn\n",
    "from torch.autograd import Variable\n",
    "\n",
    "import tqdm\n",
    "import os\n",
    "import mcbe\n",
    "from mpl_toolkits.mplot3d import Axes3D\n",
    "from sklearn.model_selection import train_test_split\n",
    "from sklearn.preprocessing import StandardScaler\n",
    "import keras.datasets\n",
    "from skimage.color import rgb2gray"
   ]
  },
  {
   "cell_type": "code",
   "execution_count": 4,
   "metadata": {},
   "outputs": [],
   "source": [
    "(X_train, y_train), (X_test, y_test) = keras.datasets.cifar10.load_data()"
   ]
  },
  {
   "cell_type": "code",
   "execution_count": 5,
   "metadata": {},
   "outputs": [],
   "source": [
    "#transform to grayscale\n",
    "X_train = rgb2gray(X_train)\n",
    "X_test = rgb2gray(X_test)"
   ]
  },
  {
   "cell_type": "code",
   "execution_count": 6,
   "metadata": {},
   "outputs": [],
   "source": [
    "#change image size\n"
   ]
  },
  {
   "cell_type": "code",
   "execution_count": 7,
   "metadata": {},
   "outputs": [],
   "source": [
    "X_train = np.array([X_train[i].flatten() for i in range(X_train.shape[0])])\n",
    "X_test = np.array([X_test[i].flatten() for i in range(X_test.shape[0])])"
   ]
  },
  {
   "cell_type": "code",
   "execution_count": 8,
   "metadata": {},
   "outputs": [],
   "source": [
    "#normalize data\n",
    "scaler = StandardScaler()\n",
    "X_train = scaler.fit_transform(X_train)\n",
    "X_test = scaler.transform(X_test)"
   ]
  },
  {
   "cell_type": "code",
   "execution_count": 9,
   "metadata": {},
   "outputs": [
    {
     "data": {
      "text/plain": [
       "(50000, 1024)"
      ]
     },
     "execution_count": 9,
     "metadata": {},
     "output_type": "execute_result"
    }
   ],
   "source": [
    "X_train.shape"
   ]
  },
  {
   "cell_type": "code",
   "execution_count": 9,
   "metadata": {},
   "outputs": [],
   "source": [
    "# size of the layers\n",
    "l1 = 2048\n",
    "l2 = 256\n",
    "l3 = 128"
   ]
  },
  {
   "cell_type": "code",
   "execution_count": 10,
   "metadata": {},
   "outputs": [],
   "source": [
    "class Model(nn.Module):\n",
    "    def __init__(self, input_dim, l1):\n",
    "        super(Model, self).__init__()\n",
    "        self.layer1 = nn.Linear(input_dim, l1)\n",
    "        self.layer2 = nn.Linear(l1, l2)\n",
    "        self.layer3 = nn.Linear(l2, l3)\n",
    "        self.layer4 = nn.Linear(l3, 10)\n",
    "\n",
    "        \n",
    "    def forward(self, x):\n",
    "        x = F.relu(self.layer1(x))\n",
    "        x = F.relu(self.layer2(x))\n",
    "        x = F.relu(self.layer3(x))\n",
    "        x = F.softmax(self.layer4(x), dim=1)\n",
    "        return x"
   ]
  },
  {
   "cell_type": "code",
   "execution_count": 11,
   "metadata": {},
   "outputs": [
    {
     "data": {
      "text/plain": [
       "Model(\n",
       "  (layer1): Linear(in_features=1024, out_features=2048, bias=True)\n",
       "  (layer2): Linear(in_features=2048, out_features=256, bias=True)\n",
       "  (layer3): Linear(in_features=256, out_features=128, bias=True)\n",
       "  (layer4): Linear(in_features=128, out_features=10, bias=True)\n",
       ")"
      ]
     },
     "execution_count": 11,
     "metadata": {},
     "output_type": "execute_result"
    }
   ],
   "source": [
    "model     = Model(X_train.shape[1],l1)\n",
    "optimizer = torch.optim.Adam(model.parameters(), lr=0.005)\n",
    "loss_fn   = nn.CrossEntropyLoss()\n",
    "model"
   ]
  },
  {
   "cell_type": "code",
   "execution_count": 23,
   "metadata": {},
   "outputs": [],
   "source": [
    "\n",
    "X_train = Variable(torch.from_numpy(X_train)).float()\n",
    "y_train = Variable(torch.from_numpy(y_train)).long()\n",
    "X_test  = Variable(torch.from_numpy(X_test)).float()\n",
    "y_test  = Variable(torch.from_numpy(y_test)).long()"
   ]
  },
  {
   "cell_type": "code",
   "execution_count": 13,
   "metadata": {},
   "outputs": [],
   "source": [
    "y_train = y_train.squeeze()\n",
    "y_test = y_test.squeeze()"
   ]
  },
  {
   "cell_type": "code",
   "execution_count": 14,
   "metadata": {},
   "outputs": [
    {
     "name": "stderr",
     "output_type": "stream",
     "text": [
      "  0%|          | 1/500 [00:04<36:16,  4.36s/it]"
     ]
    },
    {
     "name": "stdout",
     "output_type": "stream",
     "text": [
      "Epoch 0: Loss 2.302548885345459, Accuracy 0.14550000429153442\n"
     ]
    },
    {
     "name": "stderr",
     "output_type": "stream",
     "text": [
      "  1%|          | 6/500 [00:25<34:53,  4.24s/it]"
     ]
    },
    {
     "name": "stdout",
     "output_type": "stream",
     "text": [
      "Epoch 5: Loss 2.2484941482543945, Accuracy 0.21529999375343323\n"
     ]
    },
    {
     "name": "stderr",
     "output_type": "stream",
     "text": [
      "  2%|▏         | 11/500 [00:56<56:32,  6.94s/it]"
     ]
    },
    {
     "name": "stdout",
     "output_type": "stream",
     "text": [
      "Epoch 10: Loss 2.2264933586120605, Accuracy 0.2361000031232834\n"
     ]
    },
    {
     "name": "stderr",
     "output_type": "stream",
     "text": [
      "  3%|▎         | 16/500 [01:38<1:01:45,  7.66s/it]"
     ]
    },
    {
     "name": "stdout",
     "output_type": "stream",
     "text": [
      "Epoch 15: Loss 2.202925205230713, Accuracy 0.257099986076355\n"
     ]
    },
    {
     "name": "stderr",
     "output_type": "stream",
     "text": [
      "  4%|▍         | 21/500 [02:26<1:17:14,  9.68s/it]"
     ]
    },
    {
     "name": "stdout",
     "output_type": "stream",
     "text": [
      "Epoch 20: Loss 2.1932575702667236, Accuracy 0.2623000144958496\n"
     ]
    },
    {
     "name": "stderr",
     "output_type": "stream",
     "text": [
      "  5%|▌         | 26/500 [03:22<1:25:39, 10.84s/it]"
     ]
    },
    {
     "name": "stdout",
     "output_type": "stream",
     "text": [
      "Epoch 25: Loss 2.1824581623077393, Accuracy 0.27059999108314514\n"
     ]
    },
    {
     "name": "stderr",
     "output_type": "stream",
     "text": [
      "  6%|▌         | 31/500 [04:10<1:15:55,  9.71s/it]"
     ]
    },
    {
     "name": "stdout",
     "output_type": "stream",
     "text": [
      "Epoch 30: Loss 2.1767842769622803, Accuracy 0.2761000096797943\n"
     ]
    },
    {
     "name": "stderr",
     "output_type": "stream",
     "text": [
      "  7%|▋         | 36/500 [04:51<1:05:04,  8.42s/it]"
     ]
    },
    {
     "name": "stdout",
     "output_type": "stream",
     "text": [
      "Epoch 35: Loss 2.1687357425689697, Accuracy 0.2775999903678894\n"
     ]
    },
    {
     "name": "stderr",
     "output_type": "stream",
     "text": [
      "  8%|▊         | 41/500 [05:30<1:00:27,  7.90s/it]"
     ]
    },
    {
     "name": "stdout",
     "output_type": "stream",
     "text": [
      "Epoch 40: Loss 2.1628637313842773, Accuracy 0.27790001034736633\n"
     ]
    },
    {
     "name": "stderr",
     "output_type": "stream",
     "text": [
      "  9%|▉         | 46/500 [06:10<1:00:48,  8.04s/it]"
     ]
    },
    {
     "name": "stdout",
     "output_type": "stream",
     "text": [
      "Epoch 45: Loss 2.159250020980835, Accuracy 0.2822999954223633\n"
     ]
    },
    {
     "name": "stderr",
     "output_type": "stream",
     "text": [
      " 10%|█         | 51/500 [06:51<59:21,  7.93s/it]  "
     ]
    },
    {
     "name": "stdout",
     "output_type": "stream",
     "text": [
      "Epoch 50: Loss 2.1503000259399414, Accuracy 0.28679999709129333\n"
     ]
    },
    {
     "name": "stderr",
     "output_type": "stream",
     "text": [
      " 11%|█         | 56/500 [07:32<59:13,  8.00s/it]  "
     ]
    },
    {
     "name": "stdout",
     "output_type": "stream",
     "text": [
      "Epoch 55: Loss 2.1453397274017334, Accuracy 0.28929999470710754\n"
     ]
    },
    {
     "name": "stderr",
     "output_type": "stream",
     "text": [
      " 12%|█▏        | 61/500 [08:15<1:01:23,  8.39s/it]"
     ]
    },
    {
     "name": "stdout",
     "output_type": "stream",
     "text": [
      "Epoch 60: Loss 2.1373672485351562, Accuracy 0.2948000133037567\n"
     ]
    },
    {
     "name": "stderr",
     "output_type": "stream",
     "text": [
      " 13%|█▎        | 66/500 [08:53<55:11,  7.63s/it]  "
     ]
    },
    {
     "name": "stdout",
     "output_type": "stream",
     "text": [
      "Epoch 65: Loss 2.130892276763916, Accuracy 0.296999990940094\n"
     ]
    },
    {
     "name": "stderr",
     "output_type": "stream",
     "text": [
      " 14%|█▍        | 71/500 [09:28<49:24,  6.91s/it]"
     ]
    },
    {
     "name": "stdout",
     "output_type": "stream",
     "text": [
      "Epoch 70: Loss 2.120521068572998, Accuracy 0.30379998683929443\n"
     ]
    },
    {
     "name": "stderr",
     "output_type": "stream",
     "text": [
      " 15%|█▌        | 76/500 [10:04<47:55,  6.78s/it]"
     ]
    },
    {
     "name": "stdout",
     "output_type": "stream",
     "text": [
      "Epoch 75: Loss 2.1179847717285156, Accuracy 0.3028999865055084\n"
     ]
    },
    {
     "name": "stderr",
     "output_type": "stream",
     "text": [
      " 16%|█▌        | 81/500 [10:35<43:48,  6.27s/it]"
     ]
    },
    {
     "name": "stdout",
     "output_type": "stream",
     "text": [
      "Epoch 80: Loss 2.1096229553222656, Accuracy 0.3075999915599823\n"
     ]
    },
    {
     "name": "stderr",
     "output_type": "stream",
     "text": [
      " 17%|█▋        | 86/500 [11:07<43:55,  6.37s/it]"
     ]
    },
    {
     "name": "stdout",
     "output_type": "stream",
     "text": [
      "Epoch 85: Loss 2.0995280742645264, Accuracy 0.3061000108718872\n"
     ]
    },
    {
     "name": "stderr",
     "output_type": "stream",
     "text": [
      " 18%|█▊        | 91/500 [11:37<41:30,  6.09s/it]"
     ]
    },
    {
     "name": "stdout",
     "output_type": "stream",
     "text": [
      "Epoch 90: Loss 2.0968854427337646, Accuracy 0.30730000138282776\n"
     ]
    },
    {
     "name": "stderr",
     "output_type": "stream",
     "text": [
      " 19%|█▉        | 96/500 [12:06<39:38,  5.89s/it]"
     ]
    },
    {
     "name": "stdout",
     "output_type": "stream",
     "text": [
      "Epoch 95: Loss 2.094355344772339, Accuracy 0.31369999051094055\n"
     ]
    },
    {
     "name": "stderr",
     "output_type": "stream",
     "text": [
      " 20%|██        | 101/500 [12:33<35:34,  5.35s/it]"
     ]
    },
    {
     "name": "stdout",
     "output_type": "stream",
     "text": [
      "Epoch 100: Loss 2.0827198028564453, Accuracy 0.3107999861240387\n"
     ]
    },
    {
     "name": "stderr",
     "output_type": "stream",
     "text": [
      " 21%|██        | 106/500 [12:58<33:35,  5.12s/it]"
     ]
    },
    {
     "name": "stdout",
     "output_type": "stream",
     "text": [
      "Epoch 105: Loss 2.082639694213867, Accuracy 0.31610000133514404\n"
     ]
    },
    {
     "name": "stderr",
     "output_type": "stream",
     "text": [
      " 22%|██▏       | 111/500 [13:25<33:55,  5.23s/it]"
     ]
    },
    {
     "name": "stdout",
     "output_type": "stream",
     "text": [
      "Epoch 110: Loss 2.0782623291015625, Accuracy 0.31450000405311584\n"
     ]
    },
    {
     "name": "stderr",
     "output_type": "stream",
     "text": [
      " 23%|██▎       | 116/500 [13:51<33:01,  5.16s/it]"
     ]
    },
    {
     "name": "stdout",
     "output_type": "stream",
     "text": [
      "Epoch 115: Loss 2.0722365379333496, Accuracy 0.31439998745918274\n"
     ]
    },
    {
     "name": "stderr",
     "output_type": "stream",
     "text": [
      " 24%|██▍       | 121/500 [14:16<32:21,  5.12s/it]"
     ]
    },
    {
     "name": "stdout",
     "output_type": "stream",
     "text": [
      "Epoch 120: Loss 2.066416025161743, Accuracy 0.3154999911785126\n"
     ]
    },
    {
     "name": "stderr",
     "output_type": "stream",
     "text": [
      " 25%|██▌       | 126/500 [14:43<32:41,  5.24s/it]"
     ]
    },
    {
     "name": "stdout",
     "output_type": "stream",
     "text": [
      "Epoch 125: Loss 2.0627129077911377, Accuracy 0.3165999948978424\n"
     ]
    },
    {
     "name": "stderr",
     "output_type": "stream",
     "text": [
      " 26%|██▌       | 131/500 [15:07<30:32,  4.97s/it]"
     ]
    },
    {
     "name": "stdout",
     "output_type": "stream",
     "text": [
      "Epoch 130: Loss 2.064762592315674, Accuracy 0.3165999948978424\n"
     ]
    },
    {
     "name": "stderr",
     "output_type": "stream",
     "text": [
      " 27%|██▋       | 136/500 [15:31<28:21,  4.67s/it]"
     ]
    },
    {
     "name": "stdout",
     "output_type": "stream",
     "text": [
      "Epoch 135: Loss 2.0649044513702393, Accuracy 0.32100000977516174\n"
     ]
    },
    {
     "name": "stderr",
     "output_type": "stream",
     "text": [
      " 28%|██▊       | 141/500 [15:55<28:28,  4.76s/it]"
     ]
    },
    {
     "name": "stdout",
     "output_type": "stream",
     "text": [
      "Epoch 140: Loss 2.0574913024902344, Accuracy 0.31779998540878296\n"
     ]
    },
    {
     "name": "stderr",
     "output_type": "stream",
     "text": [
      " 29%|██▉       | 146/500 [16:18<27:02,  4.58s/it]"
     ]
    },
    {
     "name": "stdout",
     "output_type": "stream",
     "text": [
      "Epoch 145: Loss 2.0471444129943848, Accuracy 0.322299987077713\n"
     ]
    },
    {
     "name": "stderr",
     "output_type": "stream",
     "text": [
      " 30%|███       | 151/500 [16:40<24:33,  4.22s/it]"
     ]
    },
    {
     "name": "stdout",
     "output_type": "stream",
     "text": [
      "Epoch 150: Loss 2.042255401611328, Accuracy 0.31859999895095825\n"
     ]
    },
    {
     "name": "stderr",
     "output_type": "stream",
     "text": [
      " 31%|███       | 156/500 [16:57<20:31,  3.58s/it]"
     ]
    },
    {
     "name": "stdout",
     "output_type": "stream",
     "text": [
      "Epoch 155: Loss 2.039501667022705, Accuracy 0.32199999690055847\n"
     ]
    },
    {
     "name": "stderr",
     "output_type": "stream",
     "text": [
      " 32%|███▏      | 161/500 [17:15<19:47,  3.50s/it]"
     ]
    },
    {
     "name": "stdout",
     "output_type": "stream",
     "text": [
      "Epoch 160: Loss 2.034013032913208, Accuracy 0.3249000012874603\n"
     ]
    },
    {
     "name": "stderr",
     "output_type": "stream",
     "text": [
      " 33%|███▎      | 166/500 [17:32<19:09,  3.44s/it]"
     ]
    },
    {
     "name": "stdout",
     "output_type": "stream",
     "text": [
      "Epoch 165: Loss 2.029646873474121, Accuracy 0.3249000012874603\n"
     ]
    },
    {
     "name": "stderr",
     "output_type": "stream",
     "text": [
      " 34%|███▍      | 171/500 [17:50<18:55,  3.45s/it]"
     ]
    },
    {
     "name": "stdout",
     "output_type": "stream",
     "text": [
      "Epoch 170: Loss 2.0382745265960693, Accuracy 0.3215999901294708\n"
     ]
    },
    {
     "name": "stderr",
     "output_type": "stream",
     "text": [
      " 35%|███▌      | 176/500 [18:07<18:31,  3.43s/it]"
     ]
    },
    {
     "name": "stdout",
     "output_type": "stream",
     "text": [
      "Epoch 175: Loss 2.030799627304077, Accuracy 0.31929999589920044\n"
     ]
    },
    {
     "name": "stderr",
     "output_type": "stream",
     "text": [
      " 36%|███▌      | 181/500 [18:24<18:31,  3.48s/it]"
     ]
    },
    {
     "name": "stdout",
     "output_type": "stream",
     "text": [
      "Epoch 180: Loss 2.030093193054199, Accuracy 0.32429999113082886\n"
     ]
    },
    {
     "name": "stderr",
     "output_type": "stream",
     "text": [
      " 37%|███▋      | 186/500 [18:42<18:17,  3.49s/it]"
     ]
    },
    {
     "name": "stdout",
     "output_type": "stream",
     "text": [
      "Epoch 185: Loss 2.0193397998809814, Accuracy 0.3244999945163727\n"
     ]
    },
    {
     "name": "stderr",
     "output_type": "stream",
     "text": [
      " 38%|███▊      | 191/500 [18:59<17:37,  3.42s/it]"
     ]
    },
    {
     "name": "stdout",
     "output_type": "stream",
     "text": [
      "Epoch 190: Loss 2.0162532329559326, Accuracy 0.32429999113082886\n"
     ]
    },
    {
     "name": "stderr",
     "output_type": "stream",
     "text": [
      " 39%|███▉      | 196/500 [19:16<17:11,  3.39s/it]"
     ]
    },
    {
     "name": "stdout",
     "output_type": "stream",
     "text": [
      "Epoch 195: Loss 2.010319471359253, Accuracy 0.3280999958515167\n"
     ]
    },
    {
     "name": "stderr",
     "output_type": "stream",
     "text": [
      " 40%|████      | 201/500 [19:33<16:55,  3.40s/it]"
     ]
    },
    {
     "name": "stdout",
     "output_type": "stream",
     "text": [
      "Epoch 200: Loss 2.0040111541748047, Accuracy 0.33399999141693115\n"
     ]
    },
    {
     "name": "stderr",
     "output_type": "stream",
     "text": [
      " 41%|████      | 206/500 [19:50<16:38,  3.40s/it]"
     ]
    },
    {
     "name": "stdout",
     "output_type": "stream",
     "text": [
      "Epoch 205: Loss 2.006326913833618, Accuracy 0.34599998593330383\n"
     ]
    },
    {
     "name": "stderr",
     "output_type": "stream",
     "text": [
      " 42%|████▏     | 211/500 [20:07<16:23,  3.40s/it]"
     ]
    },
    {
     "name": "stdout",
     "output_type": "stream",
     "text": [
      "Epoch 210: Loss 1.9938561916351318, Accuracy 0.3456000089645386\n"
     ]
    },
    {
     "name": "stderr",
     "output_type": "stream",
     "text": [
      " 43%|████▎     | 216/500 [20:24<15:56,  3.37s/it]"
     ]
    },
    {
     "name": "stdout",
     "output_type": "stream",
     "text": [
      "Epoch 215: Loss 1.9892123937606812, Accuracy 0.3553999960422516\n"
     ]
    },
    {
     "name": "stderr",
     "output_type": "stream",
     "text": [
      " 44%|████▍     | 221/500 [20:41<15:46,  3.39s/it]"
     ]
    },
    {
     "name": "stdout",
     "output_type": "stream",
     "text": [
      "Epoch 220: Loss 1.9735393524169922, Accuracy 0.35030001401901245\n"
     ]
    },
    {
     "name": "stderr",
     "output_type": "stream",
     "text": [
      " 45%|████▌     | 226/500 [20:58<15:37,  3.42s/it]"
     ]
    },
    {
     "name": "stdout",
     "output_type": "stream",
     "text": [
      "Epoch 225: Loss 1.9626461267471313, Accuracy 0.3540000021457672\n"
     ]
    },
    {
     "name": "stderr",
     "output_type": "stream",
     "text": [
      " 46%|████▌     | 231/500 [21:15<15:06,  3.37s/it]"
     ]
    },
    {
     "name": "stdout",
     "output_type": "stream",
     "text": [
      "Epoch 230: Loss 1.9559861421585083, Accuracy 0.3571999967098236\n"
     ]
    },
    {
     "name": "stderr",
     "output_type": "stream",
     "text": [
      " 47%|████▋     | 236/500 [21:32<15:01,  3.41s/it]"
     ]
    },
    {
     "name": "stdout",
     "output_type": "stream",
     "text": [
      "Epoch 235: Loss 1.9629145860671997, Accuracy 0.35580000281333923\n"
     ]
    },
    {
     "name": "stderr",
     "output_type": "stream",
     "text": [
      " 48%|████▊     | 241/500 [21:49<15:03,  3.49s/it]"
     ]
    },
    {
     "name": "stdout",
     "output_type": "stream",
     "text": [
      "Epoch 240: Loss 1.9571812152862549, Accuracy 0.3578000068664551\n"
     ]
    },
    {
     "name": "stderr",
     "output_type": "stream",
     "text": [
      " 49%|████▉     | 246/500 [22:07<14:30,  3.43s/it]"
     ]
    },
    {
     "name": "stdout",
     "output_type": "stream",
     "text": [
      "Epoch 245: Loss 1.9449057579040527, Accuracy 0.3610000014305115\n"
     ]
    },
    {
     "name": "stderr",
     "output_type": "stream",
     "text": [
      " 50%|█████     | 251/500 [22:24<14:03,  3.39s/it]"
     ]
    },
    {
     "name": "stdout",
     "output_type": "stream",
     "text": [
      "Epoch 250: Loss 1.9412246942520142, Accuracy 0.3621000051498413\n"
     ]
    },
    {
     "name": "stderr",
     "output_type": "stream",
     "text": [
      " 51%|█████     | 256/500 [22:41<14:09,  3.48s/it]"
     ]
    },
    {
     "name": "stdout",
     "output_type": "stream",
     "text": [
      "Epoch 255: Loss 1.9325098991394043, Accuracy 0.3634999990463257\n"
     ]
    },
    {
     "name": "stderr",
     "output_type": "stream",
     "text": [
      " 52%|█████▏    | 261/500 [22:58<13:43,  3.45s/it]"
     ]
    },
    {
     "name": "stdout",
     "output_type": "stream",
     "text": [
      "Epoch 260: Loss 1.9231375455856323, Accuracy 0.35899999737739563\n"
     ]
    },
    {
     "name": "stderr",
     "output_type": "stream",
     "text": [
      " 53%|█████▎    | 266/500 [23:15<13:24,  3.44s/it]"
     ]
    },
    {
     "name": "stdout",
     "output_type": "stream",
     "text": [
      "Epoch 265: Loss 1.9175479412078857, Accuracy 0.36309999227523804\n"
     ]
    },
    {
     "name": "stderr",
     "output_type": "stream",
     "text": [
      " 54%|█████▍    | 271/500 [23:33<13:22,  3.50s/it]"
     ]
    },
    {
     "name": "stdout",
     "output_type": "stream",
     "text": [
      "Epoch 270: Loss 1.9178982973098755, Accuracy 0.3621000051498413\n"
     ]
    },
    {
     "name": "stderr",
     "output_type": "stream",
     "text": [
      " 55%|█████▌    | 276/500 [23:51<13:15,  3.55s/it]"
     ]
    },
    {
     "name": "stdout",
     "output_type": "stream",
     "text": [
      "Epoch 275: Loss 1.9163416624069214, Accuracy 0.3643999993801117\n"
     ]
    },
    {
     "name": "stderr",
     "output_type": "stream",
     "text": [
      " 56%|█████▌    | 281/500 [24:09<12:46,  3.50s/it]"
     ]
    },
    {
     "name": "stdout",
     "output_type": "stream",
     "text": [
      "Epoch 280: Loss 1.911906123161316, Accuracy 0.3637000024318695\n"
     ]
    },
    {
     "name": "stderr",
     "output_type": "stream",
     "text": [
      " 57%|█████▋    | 286/500 [24:26<12:21,  3.46s/it]"
     ]
    },
    {
     "name": "stdout",
     "output_type": "stream",
     "text": [
      "Epoch 285: Loss 1.9222617149353027, Accuracy 0.3659000098705292\n"
     ]
    },
    {
     "name": "stderr",
     "output_type": "stream",
     "text": [
      " 58%|█████▊    | 291/500 [24:44<12:45,  3.66s/it]"
     ]
    },
    {
     "name": "stdout",
     "output_type": "stream",
     "text": [
      "Epoch 290: Loss 1.9114456176757812, Accuracy 0.36809998750686646\n"
     ]
    },
    {
     "name": "stderr",
     "output_type": "stream",
     "text": [
      " 59%|█████▉    | 296/500 [25:04<12:57,  3.81s/it]"
     ]
    },
    {
     "name": "stdout",
     "output_type": "stream",
     "text": [
      "Epoch 295: Loss 1.9069976806640625, Accuracy 0.3652999997138977\n"
     ]
    },
    {
     "name": "stderr",
     "output_type": "stream",
     "text": [
      " 60%|██████    | 301/500 [25:22<12:10,  3.67s/it]"
     ]
    },
    {
     "name": "stdout",
     "output_type": "stream",
     "text": [
      "Epoch 300: Loss 1.9050648212432861, Accuracy 0.3635999858379364\n"
     ]
    },
    {
     "name": "stderr",
     "output_type": "stream",
     "text": [
      " 61%|██████    | 306/500 [25:40<11:33,  3.57s/it]"
     ]
    },
    {
     "name": "stdout",
     "output_type": "stream",
     "text": [
      "Epoch 305: Loss 1.9001375436782837, Accuracy 0.3684999942779541\n"
     ]
    },
    {
     "name": "stderr",
     "output_type": "stream",
     "text": [
      " 62%|██████▏   | 311/500 [25:58<11:36,  3.69s/it]"
     ]
    },
    {
     "name": "stdout",
     "output_type": "stream",
     "text": [
      "Epoch 310: Loss 1.8920565843582153, Accuracy 0.37279999256134033\n"
     ]
    },
    {
     "name": "stderr",
     "output_type": "stream",
     "text": [
      " 63%|██████▎   | 316/500 [26:17<11:32,  3.77s/it]"
     ]
    },
    {
     "name": "stdout",
     "output_type": "stream",
     "text": [
      "Epoch 315: Loss 1.8889360427856445, Accuracy 0.37040001153945923\n"
     ]
    },
    {
     "name": "stderr",
     "output_type": "stream",
     "text": [
      " 64%|██████▍   | 321/500 [26:35<10:37,  3.56s/it]"
     ]
    },
    {
     "name": "stdout",
     "output_type": "stream",
     "text": [
      "Epoch 320: Loss 1.8845735788345337, Accuracy 0.36970001459121704\n"
     ]
    },
    {
     "name": "stderr",
     "output_type": "stream",
     "text": [
      " 65%|██████▌   | 326/500 [26:52<09:57,  3.43s/it]"
     ]
    },
    {
     "name": "stdout",
     "output_type": "stream",
     "text": [
      "Epoch 325: Loss 1.881534218788147, Accuracy 0.3698999881744385\n"
     ]
    },
    {
     "name": "stderr",
     "output_type": "stream",
     "text": [
      " 66%|██████▌   | 331/500 [27:08<09:01,  3.20s/it]"
     ]
    },
    {
     "name": "stdout",
     "output_type": "stream",
     "text": [
      "Epoch 330: Loss 1.8790600299835205, Accuracy 0.36899998784065247\n"
     ]
    },
    {
     "name": "stderr",
     "output_type": "stream",
     "text": [
      " 67%|██████▋   | 336/500 [27:24<08:33,  3.13s/it]"
     ]
    },
    {
     "name": "stdout",
     "output_type": "stream",
     "text": [
      "Epoch 335: Loss 1.877092957496643, Accuracy 0.36959999799728394\n"
     ]
    },
    {
     "name": "stderr",
     "output_type": "stream",
     "text": [
      " 68%|██████▊   | 341/500 [27:39<08:17,  3.13s/it]"
     ]
    },
    {
     "name": "stdout",
     "output_type": "stream",
     "text": [
      "Epoch 340: Loss 1.8753138780593872, Accuracy 0.3682999908924103\n"
     ]
    },
    {
     "name": "stderr",
     "output_type": "stream",
     "text": [
      " 69%|██████▉   | 346/500 [27:55<08:00,  3.12s/it]"
     ]
    },
    {
     "name": "stdout",
     "output_type": "stream",
     "text": [
      "Epoch 345: Loss 1.8736302852630615, Accuracy 0.36730000376701355\n"
     ]
    },
    {
     "name": "stderr",
     "output_type": "stream",
     "text": [
      " 70%|███████   | 351/500 [28:11<07:39,  3.08s/it]"
     ]
    },
    {
     "name": "stdout",
     "output_type": "stream",
     "text": [
      "Epoch 350: Loss 1.8712540864944458, Accuracy 0.36730000376701355\n"
     ]
    },
    {
     "name": "stderr",
     "output_type": "stream",
     "text": [
      " 71%|███████   | 356/500 [28:26<07:21,  3.07s/it]"
     ]
    },
    {
     "name": "stdout",
     "output_type": "stream",
     "text": [
      "Epoch 355: Loss 1.8633040189743042, Accuracy 0.3790000081062317\n"
     ]
    },
    {
     "name": "stderr",
     "output_type": "stream",
     "text": [
      " 72%|███████▏  | 361/500 [28:42<07:28,  3.23s/it]"
     ]
    },
    {
     "name": "stdout",
     "output_type": "stream",
     "text": [
      "Epoch 360: Loss 1.9053362607955933, Accuracy 0.3522999882698059\n"
     ]
    },
    {
     "name": "stderr",
     "output_type": "stream",
     "text": [
      " 73%|███████▎  | 366/500 [29:00<07:52,  3.53s/it]"
     ]
    },
    {
     "name": "stdout",
     "output_type": "stream",
     "text": [
      "Epoch 365: Loss 1.8991233110427856, Accuracy 0.3792000114917755\n"
     ]
    },
    {
     "name": "stderr",
     "output_type": "stream",
     "text": [
      " 74%|███████▍  | 371/500 [29:17<07:26,  3.46s/it]"
     ]
    },
    {
     "name": "stdout",
     "output_type": "stream",
     "text": [
      "Epoch 370: Loss 1.8804188966751099, Accuracy 0.3840000033378601\n"
     ]
    },
    {
     "name": "stderr",
     "output_type": "stream",
     "text": [
      " 75%|███████▌  | 376/500 [29:34<07:02,  3.41s/it]"
     ]
    },
    {
     "name": "stdout",
     "output_type": "stream",
     "text": [
      "Epoch 375: Loss 1.8757538795471191, Accuracy 0.38690000772476196\n"
     ]
    },
    {
     "name": "stderr",
     "output_type": "stream",
     "text": [
      " 76%|███████▌  | 381/500 [29:52<06:54,  3.48s/it]"
     ]
    },
    {
     "name": "stdout",
     "output_type": "stream",
     "text": [
      "Epoch 380: Loss 1.8574918508529663, Accuracy 0.38679999113082886\n"
     ]
    },
    {
     "name": "stderr",
     "output_type": "stream",
     "text": [
      " 77%|███████▋  | 386/500 [30:09<06:29,  3.42s/it]"
     ]
    },
    {
     "name": "stdout",
     "output_type": "stream",
     "text": [
      "Epoch 385: Loss 1.8446708917617798, Accuracy 0.38269999623298645\n"
     ]
    },
    {
     "name": "stderr",
     "output_type": "stream",
     "text": [
      " 78%|███████▊  | 391/500 [30:26<06:15,  3.45s/it]"
     ]
    },
    {
     "name": "stdout",
     "output_type": "stream",
     "text": [
      "Epoch 390: Loss 1.8320600986480713, Accuracy 0.3865000009536743\n"
     ]
    },
    {
     "name": "stderr",
     "output_type": "stream",
     "text": [
      " 79%|███████▉  | 396/500 [30:44<06:01,  3.47s/it]"
     ]
    },
    {
     "name": "stdout",
     "output_type": "stream",
     "text": [
      "Epoch 395: Loss 1.836868405342102, Accuracy 0.388700008392334\n"
     ]
    },
    {
     "name": "stderr",
     "output_type": "stream",
     "text": [
      " 80%|████████  | 401/500 [31:01<05:38,  3.42s/it]"
     ]
    },
    {
     "name": "stdout",
     "output_type": "stream",
     "text": [
      "Epoch 400: Loss 1.8239632844924927, Accuracy 0.3921000063419342\n"
     ]
    },
    {
     "name": "stderr",
     "output_type": "stream",
     "text": [
      " 81%|████████  | 406/500 [31:18<05:14,  3.35s/it]"
     ]
    },
    {
     "name": "stdout",
     "output_type": "stream",
     "text": [
      "Epoch 405: Loss 1.81439208984375, Accuracy 0.39640000462532043\n"
     ]
    },
    {
     "name": "stderr",
     "output_type": "stream",
     "text": [
      " 82%|████████▏ | 411/500 [31:34<04:57,  3.34s/it]"
     ]
    },
    {
     "name": "stdout",
     "output_type": "stream",
     "text": [
      "Epoch 410: Loss 1.8190511465072632, Accuracy 0.38960000872612\n"
     ]
    },
    {
     "name": "stderr",
     "output_type": "stream",
     "text": [
      " 83%|████████▎ | 416/500 [31:52<04:46,  3.41s/it]"
     ]
    },
    {
     "name": "stdout",
     "output_type": "stream",
     "text": [
      "Epoch 415: Loss 1.8032498359680176, Accuracy 0.38769999146461487\n"
     ]
    },
    {
     "name": "stderr",
     "output_type": "stream",
     "text": [
      " 84%|████████▍ | 421/500 [32:09<04:28,  3.40s/it]"
     ]
    },
    {
     "name": "stdout",
     "output_type": "stream",
     "text": [
      "Epoch 420: Loss 1.8267948627471924, Accuracy 0.388700008392334\n"
     ]
    },
    {
     "name": "stderr",
     "output_type": "stream",
     "text": [
      " 85%|████████▌ | 426/500 [32:26<04:11,  3.40s/it]"
     ]
    },
    {
     "name": "stdout",
     "output_type": "stream",
     "text": [
      "Epoch 425: Loss 1.7968469858169556, Accuracy 0.3878999948501587\n"
     ]
    },
    {
     "name": "stderr",
     "output_type": "stream",
     "text": [
      " 86%|████████▌ | 431/500 [32:43<03:54,  3.40s/it]"
     ]
    },
    {
     "name": "stdout",
     "output_type": "stream",
     "text": [
      "Epoch 430: Loss 1.8098598718643188, Accuracy 0.3840000033378601\n"
     ]
    },
    {
     "name": "stderr",
     "output_type": "stream",
     "text": [
      " 87%|████████▋ | 436/500 [33:00<03:46,  3.53s/it]"
     ]
    },
    {
     "name": "stdout",
     "output_type": "stream",
     "text": [
      "Epoch 435: Loss 1.816756248474121, Accuracy 0.38830000162124634\n"
     ]
    },
    {
     "name": "stderr",
     "output_type": "stream",
     "text": [
      " 88%|████████▊ | 441/500 [33:17<03:23,  3.45s/it]"
     ]
    },
    {
     "name": "stdout",
     "output_type": "stream",
     "text": [
      "Epoch 440: Loss 1.7808719873428345, Accuracy 0.3894999921321869\n"
     ]
    },
    {
     "name": "stderr",
     "output_type": "stream",
     "text": [
      " 89%|████████▉ | 446/500 [33:35<03:10,  3.54s/it]"
     ]
    },
    {
     "name": "stdout",
     "output_type": "stream",
     "text": [
      "Epoch 445: Loss 1.7855231761932373, Accuracy 0.3865000009536743\n"
     ]
    },
    {
     "name": "stderr",
     "output_type": "stream",
     "text": [
      " 90%|█████████ | 451/500 [33:53<02:51,  3.51s/it]"
     ]
    },
    {
     "name": "stdout",
     "output_type": "stream",
     "text": [
      "Epoch 450: Loss 1.7690372467041016, Accuracy 0.38429999351501465\n"
     ]
    },
    {
     "name": "stderr",
     "output_type": "stream",
     "text": [
      " 91%|█████████ | 456/500 [34:10<02:33,  3.49s/it]"
     ]
    },
    {
     "name": "stdout",
     "output_type": "stream",
     "text": [
      "Epoch 455: Loss 1.7964725494384766, Accuracy 0.3880000114440918\n"
     ]
    },
    {
     "name": "stderr",
     "output_type": "stream",
     "text": [
      " 92%|█████████▏| 461/500 [34:28<02:18,  3.54s/it]"
     ]
    },
    {
     "name": "stdout",
     "output_type": "stream",
     "text": [
      "Epoch 460: Loss 1.7710762023925781, Accuracy 0.39160001277923584\n"
     ]
    },
    {
     "name": "stderr",
     "output_type": "stream",
     "text": [
      " 93%|█████████▎| 466/500 [34:45<01:58,  3.48s/it]"
     ]
    },
    {
     "name": "stdout",
     "output_type": "stream",
     "text": [
      "Epoch 465: Loss 1.7706058025360107, Accuracy 0.39800000190734863\n"
     ]
    },
    {
     "name": "stderr",
     "output_type": "stream",
     "text": [
      " 94%|█████████▍| 471/500 [35:03<01:41,  3.51s/it]"
     ]
    },
    {
     "name": "stdout",
     "output_type": "stream",
     "text": [
      "Epoch 470: Loss 1.7604057788848877, Accuracy 0.39739999175071716\n"
     ]
    },
    {
     "name": "stderr",
     "output_type": "stream",
     "text": [
      " 95%|█████████▌| 476/500 [35:20<01:24,  3.51s/it]"
     ]
    },
    {
     "name": "stdout",
     "output_type": "stream",
     "text": [
      "Epoch 475: Loss 1.7469370365142822, Accuracy 0.3950999975204468\n"
     ]
    },
    {
     "name": "stderr",
     "output_type": "stream",
     "text": [
      " 96%|█████████▌| 481/500 [35:38<01:05,  3.46s/it]"
     ]
    },
    {
     "name": "stdout",
     "output_type": "stream",
     "text": [
      "Epoch 480: Loss 1.7444403171539307, Accuracy 0.3928999900817871\n"
     ]
    },
    {
     "name": "stderr",
     "output_type": "stream",
     "text": [
      " 97%|█████████▋| 486/500 [35:56<00:49,  3.54s/it]"
     ]
    },
    {
     "name": "stdout",
     "output_type": "stream",
     "text": [
      "Epoch 485: Loss 1.7386366128921509, Accuracy 0.4004000127315521\n"
     ]
    },
    {
     "name": "stderr",
     "output_type": "stream",
     "text": [
      " 98%|█████████▊| 491/500 [36:13<00:31,  3.50s/it]"
     ]
    },
    {
     "name": "stdout",
     "output_type": "stream",
     "text": [
      "Epoch 490: Loss 1.729140281677246, Accuracy 0.3944999873638153\n"
     ]
    },
    {
     "name": "stderr",
     "output_type": "stream",
     "text": [
      " 99%|█████████▉| 496/500 [36:31<00:14,  3.53s/it]"
     ]
    },
    {
     "name": "stdout",
     "output_type": "stream",
     "text": [
      "Epoch 495: Loss 1.7239595651626587, Accuracy 0.39730000495910645\n"
     ]
    },
    {
     "name": "stderr",
     "output_type": "stream",
     "text": [
      "100%|██████████| 500/500 [36:45<00:00,  4.41s/it]\n"
     ]
    },
    {
     "data": {
      "text/plain": [
       "array([0.1455    , 0.1961    , 0.2009    , 0.1884    , 0.20919999,\n",
       "       0.21529999, 0.22040001, 0.22499999, 0.2255    , 0.2272    ,\n",
       "       0.2361    , 0.2419    , 0.2499    , 0.25330001, 0.25459999,\n",
       "       0.25709999, 0.2599    , 0.25909999, 0.25999999, 0.259     ,\n",
       "       0.26230001, 0.26550001, 0.26460001, 0.26460001, 0.26730001,\n",
       "       0.27059999, 0.2739    , 0.27540001, 0.2766    , 0.27360001,\n",
       "       0.27610001, 0.2782    , 0.27860001, 0.27959999, 0.27919999,\n",
       "       0.27759999, 0.2798    , 0.28169999, 0.28049999, 0.27810001,\n",
       "       0.27790001, 0.27720001, 0.28060001, 0.28      , 0.2798    ,\n",
       "       0.2823    , 0.28290001, 0.28389999, 0.2834    , 0.2843    ,\n",
       "       0.2868    , 0.28799999, 0.28659999, 0.28639999, 0.2888    ,\n",
       "       0.28929999, 0.29409999, 0.2938    , 0.2931    , 0.29300001,\n",
       "       0.29480001, 0.2978    , 0.29609999, 0.2999    , 0.29719999,\n",
       "       0.29699999, 0.29980001, 0.2999    , 0.30000001, 0.30230001,\n",
       "       0.30379999, 0.30469999, 0.30270001, 0.30149999, 0.3028    ,\n",
       "       0.30289999, 0.3044    , 0.3066    , 0.30320001, 0.30500001,\n",
       "       0.30759999, 0.30919999, 0.3064    , 0.30849999, 0.31099999,\n",
       "       0.30610001, 0.3098    , 0.30540001, 0.3091    , 0.3109    ,\n",
       "       0.3073    , 0.30970001, 0.3118    , 0.30829999, 0.31079999,\n",
       "       0.31369999, 0.30559999, 0.3123    , 0.31110001, 0.31330001,\n",
       "       0.31079999, 0.3109    , 0.3154    , 0.31380001, 0.31060001,\n",
       "       0.3161    , 0.31200001, 0.3098    , 0.31400001, 0.31349999,\n",
       "       0.3145    , 0.31670001, 0.3175    , 0.3161    , 0.31389999,\n",
       "       0.31439999, 0.3177    , 0.3197    , 0.3143    , 0.31580001,\n",
       "       0.31549999, 0.31760001, 0.3179    , 0.31690001, 0.31799999,\n",
       "       0.31659999, 0.31259999, 0.31659999, 0.31709999, 0.31330001,\n",
       "       0.31659999, 0.3179    , 0.3143    , 0.31510001, 0.31310001,\n",
       "       0.32100001, 0.31779999, 0.31560001, 0.31990001, 0.31779999,\n",
       "       0.31779999, 0.3163    , 0.31830001, 0.32170001, 0.32229999,\n",
       "       0.32229999, 0.31920001, 0.31900001, 0.32210001, 0.31850001,\n",
       "       0.3186    , 0.31729999, 0.32080001, 0.32100001, 0.3193    ,\n",
       "       0.322     , 0.31889999, 0.3238    , 0.32260001, 0.32249999,\n",
       "       0.3249    , 0.32339999, 0.32179999, 0.32100001, 0.32359999,\n",
       "       0.3249    , 0.32480001, 0.32440001, 0.32190001, 0.3163    ,\n",
       "       0.32159999, 0.32620001, 0.32269999, 0.32089999, 0.31999999,\n",
       "       0.3193    , 0.32049999, 0.3229    , 0.3263    , 0.31920001,\n",
       "       0.32429999, 0.32300001, 0.32359999, 0.32679999, 0.32800001,\n",
       "       0.32449999, 0.3249    , 0.3258    , 0.329     , 0.32749999,\n",
       "       0.32429999, 0.32949999, 0.32730001, 0.3283    , 0.33039999,\n",
       "       0.3281    , 0.33109999, 0.32820001, 0.331     , 0.33430001,\n",
       "       0.33399999, 0.33930001, 0.33660001, 0.3355    , 0.3382    ,\n",
       "       0.34599999, 0.33829999, 0.3439    , 0.34119999, 0.34729999,\n",
       "       0.34560001, 0.35460001, 0.35100001, 0.35210001, 0.34740001,\n",
       "       0.3554    , 0.35319999, 0.3502    , 0.3558    , 0.35210001,\n",
       "       0.35030001, 0.35280001, 0.35069999, 0.3594    , 0.35800001,\n",
       "       0.354     , 0.35510001, 0.3646    , 0.35679999, 0.3612    ,\n",
       "       0.3572    , 0.35530001, 0.35550001, 0.34459999, 0.3558    ,\n",
       "       0.3558    , 0.34580001, 0.3576    , 0.36019999, 0.35350001,\n",
       "       0.35780001, 0.3592    , 0.36149999, 0.36320001, 0.36140001,\n",
       "       0.361     , 0.35879999, 0.3624    , 0.3554    , 0.3603    ,\n",
       "       0.36210001, 0.35769999, 0.3594    , 0.36210001, 0.3624    ,\n",
       "       0.3635    , 0.36309999, 0.35179999, 0.36739999, 0.36570001,\n",
       "       0.359     , 0.3662    , 0.36570001, 0.36160001, 0.36629999,\n",
       "       0.36309999, 0.36070001, 0.3612    , 0.3594    , 0.36449999,\n",
       "       0.36210001, 0.3567    , 0.3691    , 0.3633    , 0.361     ,\n",
       "       0.3644    , 0.36579999, 0.3633    , 0.36899999, 0.36230001,\n",
       "       0.3637    , 0.3594    , 0.3628    , 0.3592    , 0.35879999,\n",
       "       0.36590001, 0.36109999, 0.36179999, 0.366     , 0.36520001,\n",
       "       0.36809999, 0.36500001, 0.361     , 0.3664    , 0.36669999,\n",
       "       0.3653    , 0.3644    , 0.36649999, 0.37029999, 0.3687    ,\n",
       "       0.36359999, 0.3624    , 0.3646    , 0.3662    , 0.3644    ,\n",
       "       0.36849999, 0.36809999, 0.3644    , 0.3714    , 0.37329999,\n",
       "       0.37279999, 0.37130001, 0.368     , 0.3664    , 0.36700001,\n",
       "       0.37040001, 0.37149999, 0.37149999, 0.37189999, 0.36970001,\n",
       "       0.36970001, 0.37180001, 0.37      , 0.37180001, 0.37149999,\n",
       "       0.36989999, 0.36919999, 0.36930001, 0.37180001, 0.37090001,\n",
       "       0.36899999, 0.3696    , 0.36970001, 0.3687    , 0.3696    ,\n",
       "       0.3696    , 0.3712    , 0.37029999, 0.3691    , 0.3678    ,\n",
       "       0.36829999, 0.3687    , 0.36770001, 0.36750001, 0.36759999,\n",
       "       0.3673    , 0.36570001, 0.3669    , 0.36700001, 0.36629999,\n",
       "       0.3673    , 0.3689    , 0.37380001, 0.3757    , 0.37729999,\n",
       "       0.37900001, 0.37369999, 0.3768    , 0.3547    , 0.36610001,\n",
       "       0.35229999, 0.37099999, 0.37549999, 0.3766    , 0.37900001,\n",
       "       0.37920001, 0.37459999, 0.3849    , 0.38609999, 0.3845    ,\n",
       "       0.384     , 0.38420001, 0.37819999, 0.382     , 0.3768    ,\n",
       "       0.38690001, 0.3856    , 0.38550001, 0.38139999, 0.38699999,\n",
       "       0.38679999, 0.384     , 0.3899    , 0.3919    , 0.39390001,\n",
       "       0.3827    , 0.3858    , 0.39210001, 0.38730001, 0.39230001,\n",
       "       0.3865    , 0.38679999, 0.38980001, 0.38690001, 0.39160001,\n",
       "       0.38870001, 0.3935    , 0.39559999, 0.39449999, 0.39430001,\n",
       "       0.39210001, 0.40259999, 0.3996    , 0.38780001, 0.3946    ,\n",
       "       0.3964    , 0.39300001, 0.3915    , 0.39199999, 0.3876    ,\n",
       "       0.38960001, 0.3908    , 0.39050001, 0.39500001, 0.39359999,\n",
       "       0.38769999, 0.39430001, 0.3892    , 0.38319999, 0.3874    ,\n",
       "       0.38870001, 0.38850001, 0.3854    , 0.398     , 0.3971    ,\n",
       "       0.38789999, 0.38679999, 0.38690001, 0.38049999, 0.3899    ,\n",
       "       0.384     , 0.38730001, 0.39070001, 0.38330001, 0.3874    ,\n",
       "       0.3883    , 0.38209999, 0.3955    , 0.39019999, 0.39539999,\n",
       "       0.38949999, 0.3906    , 0.3976    , 0.3935    , 0.39300001,\n",
       "       0.3865    , 0.38960001, 0.38940001, 0.3942    , 0.3944    ,\n",
       "       0.38429999, 0.39570001, 0.39379999, 0.38150001, 0.38640001,\n",
       "       0.38800001, 0.38159999, 0.39480001, 0.3973    , 0.39390001,\n",
       "       0.39160001, 0.3976    , 0.39669999, 0.3883    , 0.39050001,\n",
       "       0.398     , 0.39829999, 0.3937    , 0.39160001, 0.3953    ,\n",
       "       0.39739999, 0.39539999, 0.39379999, 0.3937    , 0.3951    ,\n",
       "       0.3951    , 0.39320001, 0.39480001, 0.39829999, 0.39070001,\n",
       "       0.39289999, 0.39919999, 0.39520001, 0.398     , 0.39649999,\n",
       "       0.40040001, 0.39579999, 0.39050001, 0.40040001, 0.39680001,\n",
       "       0.39449999, 0.39660001, 0.39969999, 0.39989999, 0.396     ,\n",
       "       0.3973    , 0.39950001, 0.39989999, 0.40040001, 0.39969999])"
      ]
     },
     "execution_count": 14,
     "metadata": {},
     "output_type": "execute_result"
    }
   ],
   "source": [
    "#initialize lists\n",
    "\n",
    "EPOCHS  = 500\n",
    "\n",
    "weights = []\n",
    "weights_norm = []\n",
    "norms = []\n",
    "biases = np.zeros([EPOCHS + 1,l1])\n",
    "\n",
    "w1 = model.layer1.weight\n",
    "b1 = model.layer1.bias\n",
    "m1 = w1.shape[0]\n",
    "n1 = w1.shape[1]\n",
    "norm = w1.pow(2).sum(keepdim=True,dim=1).sqrt()\n",
    "w1_norm = torch.div(w1,norm)\n",
    "w1_norm[w1_norm == np.inf] = 0\n",
    "\n",
    "    \n",
    "weights.append(w1.detach().numpy())\n",
    "weights_norm.append(w1_norm.detach().numpy())\n",
    "norms.append(norm.detach().numpy())\n",
    "biases[0,:] = b1.detach().numpy()\n",
    "\n",
    "#epoch counter\n",
    "k = 1\n",
    "\n",
    "\n",
    "loss_list     = np.zeros((EPOCHS,))\n",
    "accuracy_list = np.zeros((EPOCHS,))\n",
    "\n",
    "for epoch in tqdm.trange(EPOCHS):\n",
    "    y_pred = model(X_train)\n",
    "    loss = loss_fn(y_pred, y_train)\n",
    "    loss_list[epoch] = loss.item()\n",
    "    \n",
    "    # Zero gradients\n",
    "    optimizer.zero_grad()\n",
    "    loss.backward()\n",
    "    optimizer.step()\n",
    "    \n",
    "    with torch.no_grad():\n",
    "        y_pred = model(X_test)\n",
    "        correct = (torch.argmax(y_pred, dim=1) == y_test).type(torch.FloatTensor)\n",
    "        accuracy_list[epoch] = correct.mean()\n",
    "        if epoch % 5 == 0:\n",
    "            print(f\"Epoch {epoch}: Loss {loss.item()}, Accuracy {correct.mean()}\")\n",
    "    \n",
    "    \n",
    "    \n",
    "    w1 = model.layer1.weight\n",
    "    b1 = model.layer1.bias\n",
    "    norm = w1.pow(2).sum(keepdim=True,dim=1).sqrt()\n",
    "    w1_norm = torch.div(w1,norm)\n",
    "    w1_norm[w1_norm == np.inf] = 0\n",
    "    \n",
    "    weights.append(w1.detach().numpy())\n",
    "    weights_norm.append(w1_norm.detach().numpy())\n",
    "    norms.append(norm.detach().numpy())\n",
    "    biases[k,:] = b1.detach().numpy()\n",
    "    \n",
    "    k = k+1\n",
    "   \n",
    "accuracy_list"
   ]
  },
  {
   "cell_type": "code",
   "execution_count": 15,
   "metadata": {},
   "outputs": [
    {
     "data": {
      "text/plain": [
       "Text(0, 0.5, 'Accuracy')"
      ]
     },
     "execution_count": 15,
     "metadata": {},
     "output_type": "execute_result"
    },
    {
     "data": {
      "image/png": "[encoded data removed]",
      "text/plain": [
       "<Figure size 640x480 with 1 Axes>"
      ]
     },
     "metadata": {},
     "output_type": "display_data"
    }
   ],
   "source": [
    "plt.plot(accuracy_list)\n",
    "plt.xlabel('Epoch')\n",
    "plt.ylabel('Accuracy')"
   ]
  },
  {
   "cell_type": "code",
   "execution_count": 24,
   "metadata": {},
   "outputs": [
    {
     "data": {
      "text/plain": [
       "torch.Size([50000, 1024])"
      ]
     },
     "execution_count": 24,
     "metadata": {},
     "output_type": "execute_result"
    }
   ],
   "source": [
    "X_train.shape"
   ]
  },
  {
   "cell_type": "code",
   "execution_count": 27,
   "metadata": {},
   "outputs": [
    {
     "name": "stderr",
     "output_type": "stream",
     "text": [
      "100%|██████████| 100000/100000 [16:14:48<00:00,  1.71it/s]       \n"
     ]
    },
    {
     "name": "stdout",
     "output_type": "stream",
     "text": [
      "done\n"
     ]
    },
    {
     "data": {
      "text/plain": [
       "0.82"
      ]
     },
     "execution_count": 27,
     "metadata": {},
     "output_type": "execute_result"
    }
   ],
   "source": [
    "est_alpha_kd = mcbe.dd_mcbe(np.array(weights)[-1], X_train, num_estimation_points=100000, dd_method=\"kde\")\n",
    "print(\"done\")\n",
    "percent_inj_kd = mcbe.check_injectivity_naive(W = np.array(weights)[-1], b=est_alpha_kd, points=X_test[:1000,:],iter=X_test.shape[0])\n",
    "percent_inj_kd"
   ]
  },
  {
   "cell_type": "code",
   "execution_count": 17,
   "metadata": {},
   "outputs": [
    {
     "name": "stderr",
     "output_type": "stream",
     "text": [
      "  0%|          | 0/10 [00:00<?, ?it/s]"
     ]
    },
    {
     "name": "stdout",
     "output_type": "stream",
     "text": [
      "kernel done\n",
      "blowup done\n"
     ]
    },
    {
     "name": "stderr",
     "output_type": "stream",
     "text": [
      " 10%|█         | 1/10 [41:27<6:13:09, 2487.73s/it]"
     ]
    },
    {
     "name": "stdout",
     "output_type": "stream",
     "text": [
      "mcbe done\n",
      "kernel done\n",
      "blowup done\n"
     ]
    },
    {
     "name": "stderr",
     "output_type": "stream",
     "text": [
      " 20%|██        | 2/10 [1:22:45<5:30:53, 2481.63s/it]"
     ]
    },
    {
     "name": "stdout",
     "output_type": "stream",
     "text": [
      "mcbe done\n"
     ]
    },
    {
     "name": "stderr",
     "output_type": "stream",
     "text": [
      " 20%|██        | 2/10 [1:36:16<6:25:06, 2888.37s/it]\n"
     ]
    },
    {
     "ename": "KeyboardInterrupt",
     "evalue": "",
     "output_type": "error",
     "traceback": [
      "\u001b[1;31m---------------------------------------------------------------------------\u001b[0m",
      "\u001b[1;31mKeyboardInterrupt\u001b[0m                         Traceback (most recent call last)",
      "Cell \u001b[1;32mIn[17], line 15\u001b[0m\n\u001b[0;32m     11\u001b[0m \u001b[38;5;28;01mfor\u001b[39;00m i \u001b[38;5;129;01min\u001b[39;00m tqdm\u001b[38;5;241m.\u001b[39mtqdm(\u001b[38;5;28mrange\u001b[39m(num_iter)):\n\u001b[0;32m     12\u001b[0m \n\u001b[0;32m     13\u001b[0m     \u001b[38;5;66;03m#kernel density estimation\u001b[39;00m\n\u001b[0;32m     14\u001b[0m     est_alpha_kd \u001b[38;5;241m=\u001b[39m mcbe\u001b[38;5;241m.\u001b[39mdd_mcbe(np\u001b[38;5;241m.\u001b[39marray(weights)[\u001b[38;5;241m-\u001b[39m\u001b[38;5;241m1\u001b[39m], X_train, num_estimation_points, dd_method\u001b[38;5;241m=\u001b[39m\u001b[38;5;124m\"\u001b[39m\u001b[38;5;124mkd\u001b[39m\u001b[38;5;124m\"\u001b[39m)\n\u001b[1;32m---> 15\u001b[0m     percent_inj_kd \u001b[38;5;241m=\u001b[39m mcbe\u001b[38;5;241m.\u001b[39mcheck_injectivity_naive(W \u001b[38;5;241m=\u001b[39m np\u001b[38;5;241m.\u001b[39marray(weights)[\u001b[38;5;241m-\u001b[39m\u001b[38;5;241m1\u001b[39m], b\u001b[38;5;241m=\u001b[39mest_alpha_kd, points\u001b[38;5;241m=\u001b[39mX_test,\u001b[38;5;28miter\u001b[39m\u001b[38;5;241m=\u001b[39mX_test\u001b[38;5;241m.\u001b[39mshape[\u001b[38;5;241m0\u001b[39m])\n\u001b[0;32m     16\u001b[0m     inj_kd\u001b[38;5;241m.\u001b[39mappend(percent_inj_kd)\n\u001b[0;32m     17\u001b[0m     \u001b[38;5;28mprint\u001b[39m(\u001b[38;5;124m\"\u001b[39m\u001b[38;5;124mkernel done\u001b[39m\u001b[38;5;124m\"\u001b[39m)\n",
      "File \u001b[1;32mc:\\Users\\heckert\\Documents\\GitHub\\Alpha-rectifying-frames\\mcbe\\mcbe.py:309\u001b[0m, in \u001b[0;36mcheck_injectivity_naive\u001b[1;34m(W, b, iter, distribution, radius, radius_inner, points)\u001b[0m\n\u001b[0;32m    304\u001b[0m     \u001b[38;5;28miter\u001b[39m \u001b[38;5;241m=\u001b[39m \u001b[38;5;28mlen\u001b[39m(points)\n\u001b[0;32m    307\u001b[0m \u001b[38;5;28;01mfor\u001b[39;00m i \u001b[38;5;129;01min\u001b[39;00m \u001b[38;5;28mrange\u001b[39m(\u001b[38;5;241m0\u001b[39m, \u001b[38;5;28miter\u001b[39m):\n\u001b[1;32m--> 309\u001b[0m     \u001b[38;5;28;01mif\u001b[39;00m \u001b[38;5;28mlist\u001b[39m(points):\n\u001b[0;32m    310\u001b[0m         x \u001b[38;5;241m=\u001b[39m points[i]\n\u001b[0;32m    312\u001b[0m     \u001b[38;5;28;01melse\u001b[39;00m:\n",
      "File \u001b[1;32mc:\\Users\\heckert\\AppData\\Local\\anaconda3_new\\envs\\pbe\\Lib\\site-packages\\torch\\_tensor.py:940\u001b[0m, in \u001b[0;36mTensor.__iter__\u001b[1;34m(self)\u001b[0m\n\u001b[0;32m    931\u001b[0m \u001b[38;5;28;01mif\u001b[39;00m torch\u001b[38;5;241m.\u001b[39m_C\u001b[38;5;241m.\u001b[39m_get_tracing_state():\n\u001b[0;32m    932\u001b[0m     warnings\u001b[38;5;241m.\u001b[39mwarn(\n\u001b[0;32m    933\u001b[0m         \u001b[38;5;124m\"\u001b[39m\u001b[38;5;124mIterating over a tensor might cause the trace to be incorrect. \u001b[39m\u001b[38;5;124m\"\u001b[39m\n\u001b[0;32m    934\u001b[0m         \u001b[38;5;124m\"\u001b[39m\u001b[38;5;124mPassing a tensor of different shape won\u001b[39m\u001b[38;5;124m'\u001b[39m\u001b[38;5;124mt change the number of \u001b[39m\u001b[38;5;124m\"\u001b[39m\n\u001b[1;32m   (...)\u001b[0m\n\u001b[0;32m    938\u001b[0m         stacklevel\u001b[38;5;241m=\u001b[39m\u001b[38;5;241m2\u001b[39m,\n\u001b[0;32m    939\u001b[0m     )\n\u001b[1;32m--> 940\u001b[0m \u001b[38;5;28;01mreturn\u001b[39;00m \u001b[38;5;28miter\u001b[39m(\u001b[38;5;28mself\u001b[39m\u001b[38;5;241m.\u001b[39munbind(\u001b[38;5;241m0\u001b[39m))\n",
      "\u001b[1;31mKeyboardInterrupt\u001b[0m: "
     ]
    }
   ],
   "source": [
    "num_iter = 10\n",
    "num_estimation_points = 25000\n",
    "\n",
    "inj_kd = []\n",
    "inj_rd = []\n",
    "inj_blowup = []\n",
    "inj_mcbe = []\n",
    "inj_og = []\n",
    "inj_small_bias = []\n",
    "\n",
    "for i in tqdm.tqdm(range(num_iter)):\n",
    "\n",
    "    #kernel density estimation\n",
    "    est_alpha_kd = mcbe.dd_mcbe(np.array(weights)[-1], X_train, num_estimation_points, dd_method=\"kd\")\n",
    "    percent_inj_kd = mcbe.check_injectivity_naive(W = np.array(weights)[-1], b=est_alpha_kd, points=X_test,iter=X_test.shape[0])\n",
    "    inj_kd.append(percent_inj_kd)\n",
    "    print(\"kernel done\")\n",
    "\n",
    "    #blown up data\n",
    "    est_alpha_blowup = mcbe.dd_mcbe(np.array(weights)[-1], X_train,  num_estimation_points, dd_method=\"blowup\")\n",
    "    percent_inj_blowup = mcbe.check_injectivity_naive(W = np.array(weights)[-1], b=est_alpha_blowup, points=X_test,iter=X_test.shape[0])\n",
    "    inj_blowup.append(percent_inj_blowup)\n",
    "    print(\"blowup done\")\n",
    "\n",
    "    #mcbe\n",
    "    est_alpha = mcbe.mcbe(polytope=np.array(weights)[-1],N=num_estimation_points,distribution=\"normal\",radius=np.max(np.array(X_train)), sample_on_sphere=False)\n",
    "    percent_inj = mcbe.check_injectivity_naive(W = np.array(weights)[-1], b=est_alpha, points=X_test,iter=X_test.shape[0])\n",
    "    inj_mcbe.append(percent_inj)\n",
    "    print(\"mcbe done\")"
   ]
  },
  {
   "cell_type": "code",
   "execution_count": null,
   "metadata": {},
   "outputs": [],
   "source": [
    "#compare inj lists in boxplots\n",
    "fig = plt.figure(figsize=(10, 8))\n",
    "ax = fig.add_subplot(111)\n",
    "ax.boxplot([inj_kd,inj_blowup,inj_mcbe],labels=[\"kd\",\"blowup\",\"mcbe\"])\n",
    "plt.title(\"percent of injectivity on test set for differnet bias estimation methods\")"
   ]
  },
  {
   "cell_type": "code",
   "execution_count": null,
   "metadata": {},
   "outputs": [],
   "source": []
  }
 ],
 "metadata": {
  "kernelspec": {
   "display_name": "pbe",
   "language": "python",
   "name": "python3"
  },
  "language_info": {
   "codemirror_mode": {
    "name": "ipython",
    "version": 3
   },
   "file_extension": ".py",
   "mimetype": "text/x-python",
   "name": "python",
   "nbconvert_exporter": "python",
   "pygments_lexer": "ipython3",
   "version": "3.11.5"
  }
 },
 "nbformat": 4,
 "nbformat_minor": 2
}
