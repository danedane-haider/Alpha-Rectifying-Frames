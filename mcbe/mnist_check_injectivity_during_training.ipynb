{
 "cells": [
  {
   "cell_type": "code",
   "execution_count": 2,
   "metadata": {},
   "outputs": [
    {
     "name": "stdout",
     "output_type": "stream",
     "text": [
      "WARNING:tensorflow:From c:\\Users\\heckert\\AppData\\Local\\anaconda3_new\\envs\\pbe\\Lib\\site-packages\\keras\\src\\losses.py:2976: The name tf.losses.sparse_softmax_cross_entropy is deprecated. Please use tf.compat.v1.losses.sparse_softmax_cross_entropy instead.\n",
      "\n"
     ]
    }
   ],
   "source": [
    "%load_ext autoreload\n",
    "%autoreload 2\n",
    "\n",
    "import numpy as np\n",
    "import pandas as pd\n",
    "import matplotlib.pyplot as plt\n",
    "\n",
    "import torch\n",
    "import torch.nn.functional as F\n",
    "import torch.nn as nn\n",
    "from torch.autograd import Variable\n",
    "\n",
    "import tqdm\n",
    "import os\n",
    "import mcbe\n",
    "from mpl_toolkits.mplot3d import Axes3D\n",
    "from sklearn.model_selection import train_test_split\n",
    "from sklearn.preprocessing import StandardScaler\n",
    "import keras.datasets"
   ]
  },
  {
   "cell_type": "code",
   "execution_count": 3,
   "metadata": {},
   "outputs": [],
   "source": [
    "(X_train, y_train), (X_test, y_test) = keras.datasets.mnist.load_data()"
   ]
  },
  {
   "cell_type": "code",
   "execution_count": 4,
   "metadata": {},
   "outputs": [],
   "source": [
    "X_train = np.array([X_train[i].flatten() for i in range(X_train.shape[0])])\n",
    "X_test = np.array([X_test[i].flatten() for i in range(X_test.shape[0])])"
   ]
  },
  {
   "cell_type": "code",
   "execution_count": 5,
   "metadata": {},
   "outputs": [],
   "source": [
    "#normalize data\n",
    "scaler = StandardScaler()\n",
    "X_train = scaler.fit_transform(X_train)\n",
    "X_test = scaler.transform(X_test)"
   ]
  },
  {
   "cell_type": "code",
   "execution_count": 6,
   "metadata": {},
   "outputs": [],
   "source": [
    "# size of the layers\n",
    "l1 = 1024\n",
    "l2 = 128\n"
   ]
  },
  {
   "cell_type": "code",
   "execution_count": 7,
   "metadata": {},
   "outputs": [],
   "source": [
    "class Model(nn.Module):\n",
    "    def __init__(self, input_dim, l1):\n",
    "        super(Model, self).__init__()\n",
    "        self.layer1 = nn.Linear(input_dim, l1)\n",
    "        self.layer2 = nn.Linear(l1, l2)\n",
    "        self.layer3 = nn.Linear(l2, 10)\n",
    "        \n",
    "    def forward(self, x):\n",
    "        x = F.relu(self.layer1(x))\n",
    "        x = F.relu(self.layer2(x))\n",
    "        x = F.softmax(self.layer3(x), dim=1)\n",
    "        return x"
   ]
  },
  {
   "cell_type": "code",
   "execution_count": 8,
   "metadata": {},
   "outputs": [
    {
     "data": {
      "text/plain": [
       "Model(\n",
       "  (layer1): Linear(in_features=784, out_features=1024, bias=True)\n",
       "  (layer2): Linear(in_features=1024, out_features=128, bias=True)\n",
       "  (layer3): Linear(in_features=128, out_features=10, bias=True)\n",
       ")"
      ]
     },
     "execution_count": 8,
     "metadata": {},
     "output_type": "execute_result"
    }
   ],
   "source": [
    "model     = Model(X_train.shape[1],l1)\n",
    "optimizer = torch.optim.Adam(model.parameters(), lr=0.01)\n",
    "loss_fn   = nn.CrossEntropyLoss()\n",
    "model"
   ]
  },
  {
   "cell_type": "code",
   "execution_count": 9,
   "metadata": {},
   "outputs": [],
   "source": [
    "\n",
    "X_train = Variable(torch.from_numpy(X_train)).float()\n",
    "y_train = Variable(torch.from_numpy(y_train)).long()\n",
    "X_test  = Variable(torch.from_numpy(X_test)).float()\n",
    "y_test  = Variable(torch.from_numpy(y_test)).long()"
   ]
  },
  {
   "cell_type": "code",
   "execution_count": 18,
   "metadata": {},
   "outputs": [
    {
     "name": "stderr",
     "output_type": "stream",
     "text": [
      "  0%|          | 0/50 [00:00<?, ?it/s]"
     ]
    },
    {
     "name": "stdout",
     "output_type": "stream",
     "text": [
      "Epoch 0: Loss 2.301530361175537, Accuracy 0.38280001282691956\n",
      "check inj\n"
     ]
    },
    {
     "name": "stderr",
     "output_type": "stream",
     "text": [
      "  2%|▏         | 1/50 [00:08<06:51,  8.39s/it]"
     ]
    },
    {
     "name": "stdout",
     "output_type": "stream",
     "text": [
      "percent_inj:  0.0\n"
     ]
    },
    {
     "name": "stderr",
     "output_type": "stream",
     "text": [
      " 10%|█         | 5/50 [00:22<03:06,  4.15s/it]"
     ]
    },
    {
     "name": "stdout",
     "output_type": "stream",
     "text": [
      "Epoch 5: Loss 1.6806524991989136, Accuracy 0.7864000201225281\n",
      "check inj\n"
     ]
    },
    {
     "name": "stderr",
     "output_type": "stream",
     "text": [
      " 12%|█▏        | 6/50 [00:32<04:22,  5.97s/it]"
     ]
    },
    {
     "name": "stdout",
     "output_type": "stream",
     "text": [
      "percent_inj:  0.0\n"
     ]
    },
    {
     "name": "stderr",
     "output_type": "stream",
     "text": [
      " 20%|██        | 10/50 [00:52<03:41,  5.54s/it]"
     ]
    },
    {
     "name": "stdout",
     "output_type": "stream",
     "text": [
      "Epoch 10: Loss 1.5941206216812134, Accuracy 0.8743000030517578\n",
      "check inj\n"
     ]
    },
    {
     "name": "stderr",
     "output_type": "stream",
     "text": [
      " 22%|██▏       | 11/50 [01:05<04:57,  7.63s/it]"
     ]
    },
    {
     "name": "stdout",
     "output_type": "stream",
     "text": [
      "percent_inj:  0.0\n"
     ]
    },
    {
     "name": "stderr",
     "output_type": "stream",
     "text": [
      " 30%|███       | 15/50 [01:50<04:18,  7.40s/it]\n"
     ]
    },
    {
     "ename": "KeyboardInterrupt",
     "evalue": "",
     "output_type": "error",
     "traceback": [
      "\u001b[1;31m---------------------------------------------------------------------------\u001b[0m",
      "\u001b[1;31mKeyboardInterrupt\u001b[0m                         Traceback (most recent call last)",
      "Cell \u001b[1;32mIn[18], line 39\u001b[0m\n\u001b[0;32m     37\u001b[0m \u001b[38;5;66;03m# Zero gradients\u001b[39;00m\n\u001b[0;32m     38\u001b[0m optimizer\u001b[38;5;241m.\u001b[39mzero_grad()\n\u001b[1;32m---> 39\u001b[0m loss\u001b[38;5;241m.\u001b[39mbackward()\n\u001b[0;32m     40\u001b[0m optimizer\u001b[38;5;241m.\u001b[39mstep()\n\u001b[0;32m     42\u001b[0m \u001b[38;5;28;01mwith\u001b[39;00m torch\u001b[38;5;241m.\u001b[39mno_grad():\n",
      "File \u001b[1;32mc:\\Users\\heckert\\AppData\\Local\\anaconda3_new\\envs\\pbe\\Lib\\site-packages\\torch\\_tensor.py:487\u001b[0m, in \u001b[0;36mTensor.backward\u001b[1;34m(self, gradient, retain_graph, create_graph, inputs)\u001b[0m\n\u001b[0;32m    477\u001b[0m \u001b[38;5;28;01mif\u001b[39;00m has_torch_function_unary(\u001b[38;5;28mself\u001b[39m):\n\u001b[0;32m    478\u001b[0m     \u001b[38;5;28;01mreturn\u001b[39;00m handle_torch_function(\n\u001b[0;32m    479\u001b[0m         Tensor\u001b[38;5;241m.\u001b[39mbackward,\n\u001b[0;32m    480\u001b[0m         (\u001b[38;5;28mself\u001b[39m,),\n\u001b[1;32m   (...)\u001b[0m\n\u001b[0;32m    485\u001b[0m         inputs\u001b[38;5;241m=\u001b[39minputs,\n\u001b[0;32m    486\u001b[0m     )\n\u001b[1;32m--> 487\u001b[0m torch\u001b[38;5;241m.\u001b[39mautograd\u001b[38;5;241m.\u001b[39mbackward(\n\u001b[0;32m    488\u001b[0m     \u001b[38;5;28mself\u001b[39m, gradient, retain_graph, create_graph, inputs\u001b[38;5;241m=\u001b[39minputs\n\u001b[0;32m    489\u001b[0m )\n",
      "File \u001b[1;32mc:\\Users\\heckert\\AppData\\Local\\anaconda3_new\\envs\\pbe\\Lib\\site-packages\\torch\\autograd\\__init__.py:200\u001b[0m, in \u001b[0;36mbackward\u001b[1;34m(tensors, grad_tensors, retain_graph, create_graph, grad_variables, inputs)\u001b[0m\n\u001b[0;32m    195\u001b[0m     retain_graph \u001b[38;5;241m=\u001b[39m create_graph\n\u001b[0;32m    197\u001b[0m \u001b[38;5;66;03m# The reason we repeat same the comment below is that\u001b[39;00m\n\u001b[0;32m    198\u001b[0m \u001b[38;5;66;03m# some Python versions print out the first line of a multi-line function\u001b[39;00m\n\u001b[0;32m    199\u001b[0m \u001b[38;5;66;03m# calls in the traceback and some print out the last line\u001b[39;00m\n\u001b[1;32m--> 200\u001b[0m Variable\u001b[38;5;241m.\u001b[39m_execution_engine\u001b[38;5;241m.\u001b[39mrun_backward(  \u001b[38;5;66;03m# Calls into the C++ engine to run the backward pass\u001b[39;00m\n\u001b[0;32m    201\u001b[0m     tensors, grad_tensors_, retain_graph, create_graph, inputs,\n\u001b[0;32m    202\u001b[0m     allow_unreachable\u001b[38;5;241m=\u001b[39m\u001b[38;5;28;01mTrue\u001b[39;00m, accumulate_grad\u001b[38;5;241m=\u001b[39m\u001b[38;5;28;01mTrue\u001b[39;00m)\n",
      "\u001b[1;31mKeyboardInterrupt\u001b[0m: "
     ]
    }
   ],
   "source": [
    "#initialize lists\n",
    "\n",
    "EPOCHS  = 50\n",
    "\n",
    "weights = []\n",
    "weights_norm = []\n",
    "norms = []\n",
    "biases = np.zeros([EPOCHS + 1,l1])\n",
    "percent_inj_list = []\n",
    "\n",
    "w1 = model.layer1.weight\n",
    "b1 = model.layer1.bias\n",
    "m1 = w1.shape[0]\n",
    "n1 = w1.shape[1]\n",
    "norm = w1.pow(2).sum(keepdim=True,dim=1).sqrt()\n",
    "w1_norm = torch.div(w1,norm)\n",
    "w1_norm[w1_norm == np.inf] = 0\n",
    "\n",
    "    \n",
    "weights.append(w1.detach().numpy())\n",
    "weights_norm.append(w1_norm.detach().numpy())\n",
    "norms.append(norm.detach().numpy())\n",
    "biases[0,:] = b1.detach().numpy()\n",
    "\n",
    "#epoch counter\n",
    "k = 1\n",
    "\n",
    "\n",
    "loss_list     = np.zeros((EPOCHS,))\n",
    "accuracy_list = np.zeros((EPOCHS,))\n",
    "\n",
    "for epoch in tqdm.trange(EPOCHS):\n",
    "    y_pred = model(X_train)\n",
    "    loss = loss_fn(y_pred, y_train)\n",
    "    loss_list[epoch] = loss.item()\n",
    "    \n",
    "    # Zero gradients\n",
    "    optimizer.zero_grad()\n",
    "    loss.backward()\n",
    "    optimizer.step()\n",
    "    \n",
    "    with torch.no_grad():\n",
    "        y_pred = model(X_test)\n",
    "        correct = (torch.argmax(y_pred, dim=1) == y_test).type(torch.FloatTensor)\n",
    "        accuracy_list[epoch] = correct.mean()\n",
    "        if epoch % 5 == 0:\n",
    "            print(f\"Epoch {epoch}: Loss {loss.item()}, Accuracy {correct.mean()}\")\n",
    "    \n",
    "    \n",
    "    \n",
    "    w1 = model.layer1.weight\n",
    "    b1 = model.layer1.bias\n",
    "\n",
    "    if epoch % 5 == 0:\n",
    "        print(\"check inj\")\n",
    "        # check injectivity \n",
    "        percent_inj = mcbe.check_injectivity_naive(w1.detach().numpy(),b1.detach().numpy(),points=X_test[:1000,:],iter=X_test[:1000,:].shape[0])\n",
    "        percent_inj_list.append(percent_inj)\n",
    "        print(\"percent_inj: \", percent_inj)\n",
    "\n",
    "    norm = w1.pow(2).sum(keepdim=True,dim=1).sqrt()\n",
    "    w1_norm = torch.div(w1,norm)\n",
    "    w1_norm[w1_norm == np.inf] = 0\n",
    "    \n",
    "    weights.append(w1.detach().numpy())\n",
    "    weights_norm.append(w1_norm.detach().numpy())\n",
    "    norms.append(norm.detach().numpy())\n",
    "    biases[k,:] = b1.detach().numpy()\n",
    "    \n",
    "    k = k+1\n",
    "   \n",
    "accuracy_list"
   ]
  },
  {
   "cell_type": "code",
   "execution_count": 19,
   "metadata": {},
   "outputs": [
    {
     "data": {
      "text/plain": [
       "Text(0, 0.5, 'Accuracy')"
      ]
     },
     "execution_count": 19,
     "metadata": {},
     "output_type": "execute_result"
    },
    {
     "data": {
      "image/png": "[encoded data removed]",
      "text/plain": [
       "<Figure size 640x480 with 1 Axes>"
      ]
     },
     "metadata": {},
     "output_type": "display_data"
    }
   ],
   "source": [
    "plt.plot(accuracy_list)\n",
    "plt.xlabel('Epoch')\n",
    "plt.ylabel('Accuracy')"
   ]
  },
  {
   "cell_type": "markdown",
   "metadata": {},
   "source": [
    "# mean over multiple trainings"
   ]
  },
  {
   "cell_type": "code",
   "execution_count": 14,
   "metadata": {},
   "outputs": [],
   "source": [
    "EPOCHS = 50\n",
    "num_iter = 10\n",
    "percent_inj2 = []\n",
    "redundandency = 2"
   ]
  },
  {
   "cell_type": "code",
   "execution_count": 15,
   "metadata": {},
   "outputs": [
    {
     "name": "stderr",
     "output_type": "stream",
     "text": [
      "  0%|          | 0/10 [00:00<?, ?it/s]"
     ]
    },
    {
     "name": "stdout",
     "output_type": "stream",
     "text": [
      "Epoch 0: Loss 2.3017966747283936, Accuracy 0.3582000136375427\n",
      "check inj\n"
     ]
    },
    {
     "name": "stderr",
     "output_type": "stream",
     "text": []
    },
    {
     "name": "stdout",
     "output_type": "stream",
     "text": [
      "percent_inj:  0.249\n"
     ]
    },
    {
     "name": "stderr",
     "output_type": "stream",
     "text": []
    },
    {
     "name": "stdout",
     "output_type": "stream",
     "text": [
      "Epoch 5: Loss 1.8191099166870117, Accuracy 0.6496000289916992\n",
      "check inj\n"
     ]
    },
    {
     "name": "stderr",
     "output_type": "stream",
     "text": []
    },
    {
     "name": "stdout",
     "output_type": "stream",
     "text": [
      "percent_inj:  0.274\n"
     ]
    },
    {
     "name": "stderr",
     "output_type": "stream",
     "text": []
    },
    {
     "name": "stdout",
     "output_type": "stream",
     "text": [
      "Epoch 10: Loss 1.7719894647598267, Accuracy 0.6980999708175659\n",
      "check inj\n"
     ]
    },
    {
     "name": "stderr",
     "output_type": "stream",
     "text": []
    },
    {
     "name": "stdout",
     "output_type": "stream",
     "text": [
      "percent_inj:  0.337\n"
     ]
    },
    {
     "name": "stderr",
     "output_type": "stream",
     "text": []
    },
    {
     "name": "stdout",
     "output_type": "stream",
     "text": [
      "Epoch 15: Loss 1.749098539352417, Accuracy 0.722000002861023\n",
      "check inj\n"
     ]
    },
    {
     "name": "stderr",
     "output_type": "stream",
     "text": []
    },
    {
     "name": "stdout",
     "output_type": "stream",
     "text": [
      "percent_inj:  0.367\n"
     ]
    },
    {
     "name": "stderr",
     "output_type": "stream",
     "text": []
    },
    {
     "name": "stdout",
     "output_type": "stream",
     "text": [
      "Epoch 20: Loss 1.729794979095459, Accuracy 0.7373999953269958\n",
      "check inj\n"
     ]
    },
    {
     "name": "stderr",
     "output_type": "stream",
     "text": []
    },
    {
     "name": "stdout",
     "output_type": "stream",
     "text": [
      "percent_inj:  0.376\n"
     ]
    },
    {
     "name": "stderr",
     "output_type": "stream",
     "text": []
    },
    {
     "name": "stdout",
     "output_type": "stream",
     "text": [
      "Epoch 25: Loss 1.7175939083099365, Accuracy 0.7462999820709229\n",
      "check inj\n"
     ]
    },
    {
     "name": "stderr",
     "output_type": "stream",
     "text": []
    },
    {
     "name": "stdout",
     "output_type": "stream",
     "text": [
      "percent_inj:  0.391\n"
     ]
    },
    {
     "name": "stderr",
     "output_type": "stream",
     "text": []
    },
    {
     "name": "stdout",
     "output_type": "stream",
     "text": [
      "Epoch 30: Loss 1.7098040580749512, Accuracy 0.7512999773025513\n",
      "check inj\n"
     ]
    },
    {
     "name": "stderr",
     "output_type": "stream",
     "text": []
    },
    {
     "name": "stdout",
     "output_type": "stream",
     "text": [
      "percent_inj:  0.392\n"
     ]
    },
    {
     "name": "stderr",
     "output_type": "stream",
     "text": []
    },
    {
     "name": "stdout",
     "output_type": "stream",
     "text": [
      "Epoch 35: Loss 1.7045915126800537, Accuracy 0.7542999982833862\n",
      "check inj\n"
     ]
    },
    {
     "name": "stderr",
     "output_type": "stream",
     "text": []
    },
    {
     "name": "stdout",
     "output_type": "stream",
     "text": [
      "percent_inj:  0.389\n"
     ]
    },
    {
     "name": "stderr",
     "output_type": "stream",
     "text": []
    },
    {
     "name": "stdout",
     "output_type": "stream",
     "text": [
      "Epoch 40: Loss 1.7002506256103516, Accuracy 0.7581999897956848\n",
      "check inj\n"
     ]
    },
    {
     "name": "stderr",
     "output_type": "stream",
     "text": []
    },
    {
     "name": "stdout",
     "output_type": "stream",
     "text": [
      "percent_inj:  0.395\n"
     ]
    },
    {
     "name": "stderr",
     "output_type": "stream",
     "text": []
    },
    {
     "name": "stdout",
     "output_type": "stream",
     "text": [
      "Epoch 45: Loss 1.6975040435791016, Accuracy 0.7591999769210815\n",
      "check inj\n"
     ]
    },
    {
     "name": "stderr",
     "output_type": "stream",
     "text": []
    },
    {
     "name": "stdout",
     "output_type": "stream",
     "text": [
      "percent_inj:  0.395\n"
     ]
    },
    {
     "name": "stderr",
     "output_type": "stream",
     "text": [
      "100%|██████████| 50/50 [06:00<00:00,  7.22s/it]\n",
      " 10%|█         | 1/10 [06:00<54:08, 360.97s/it]"
     ]
    },
    {
     "name": "stdout",
     "output_type": "stream",
     "text": [
      "Epoch 0: Loss 2.3029625415802, Accuracy 0.3084000051021576\n",
      "check inj\n"
     ]
    },
    {
     "name": "stderr",
     "output_type": "stream",
     "text": []
    },
    {
     "name": "stdout",
     "output_type": "stream",
     "text": [
      "percent_inj:  0.223\n"
     ]
    },
    {
     "name": "stderr",
     "output_type": "stream",
     "text": []
    },
    {
     "name": "stdout",
     "output_type": "stream",
     "text": [
      "Epoch 5: Loss 1.806640386581421, Accuracy 0.6510999798774719\n",
      "check inj\n"
     ]
    },
    {
     "name": "stderr",
     "output_type": "stream",
     "text": []
    },
    {
     "name": "stdout",
     "output_type": "stream",
     "text": [
      "percent_inj:  0.311\n"
     ]
    },
    {
     "name": "stderr",
     "output_type": "stream",
     "text": []
    },
    {
     "name": "stdout",
     "output_type": "stream",
     "text": [
      "Epoch 10: Loss 1.755106806755066, Accuracy 0.7200000286102295\n",
      "check inj\n"
     ]
    },
    {
     "name": "stderr",
     "output_type": "stream",
     "text": []
    },
    {
     "name": "stdout",
     "output_type": "stream",
     "text": [
      "percent_inj:  0.312\n"
     ]
    },
    {
     "name": "stderr",
     "output_type": "stream",
     "text": []
    },
    {
     "name": "stdout",
     "output_type": "stream",
     "text": [
      "Epoch 15: Loss 1.699124813079834, Accuracy 0.7750999927520752\n",
      "check inj\n"
     ]
    },
    {
     "name": "stderr",
     "output_type": "stream",
     "text": []
    },
    {
     "name": "stdout",
     "output_type": "stream",
     "text": [
      "percent_inj:  0.331\n"
     ]
    },
    {
     "name": "stderr",
     "output_type": "stream",
     "text": []
    },
    {
     "name": "stdout",
     "output_type": "stream",
     "text": [
      "Epoch 20: Loss 1.6783608198165894, Accuracy 0.7864999771118164\n",
      "check inj\n"
     ]
    },
    {
     "name": "stderr",
     "output_type": "stream",
     "text": []
    },
    {
     "name": "stdout",
     "output_type": "stream",
     "text": [
      "percent_inj:  0.348\n"
     ]
    },
    {
     "name": "stderr",
     "output_type": "stream",
     "text": []
    },
    {
     "name": "stdout",
     "output_type": "stream",
     "text": [
      "Epoch 25: Loss 1.6611515283584595, Accuracy 0.803600013256073\n",
      "check inj\n"
     ]
    },
    {
     "name": "stderr",
     "output_type": "stream",
     "text": []
    },
    {
     "name": "stdout",
     "output_type": "stream",
     "text": [
      "percent_inj:  0.36\n"
     ]
    },
    {
     "name": "stderr",
     "output_type": "stream",
     "text": []
    },
    {
     "name": "stdout",
     "output_type": "stream",
     "text": [
      "Epoch 30: Loss 1.6471260786056519, Accuracy 0.817300021648407\n",
      "check inj\n"
     ]
    },
    {
     "name": "stderr",
     "output_type": "stream",
     "text": []
    },
    {
     "name": "stdout",
     "output_type": "stream",
     "text": [
      "percent_inj:  0.352\n"
     ]
    },
    {
     "name": "stderr",
     "output_type": "stream",
     "text": []
    },
    {
     "name": "stdout",
     "output_type": "stream",
     "text": [
      "Epoch 35: Loss 1.6349126100540161, Accuracy 0.8271999955177307\n",
      "check inj\n"
     ]
    },
    {
     "name": "stderr",
     "output_type": "stream",
     "text": []
    },
    {
     "name": "stdout",
     "output_type": "stream",
     "text": [
      "percent_inj:  0.359\n"
     ]
    },
    {
     "name": "stderr",
     "output_type": "stream",
     "text": []
    },
    {
     "name": "stdout",
     "output_type": "stream",
     "text": [
      "Epoch 40: Loss 1.6239838600158691, Accuracy 0.8378999829292297\n",
      "check inj\n"
     ]
    },
    {
     "name": "stderr",
     "output_type": "stream",
     "text": []
    },
    {
     "name": "stdout",
     "output_type": "stream",
     "text": [
      "percent_inj:  0.36\n"
     ]
    },
    {
     "name": "stderr",
     "output_type": "stream",
     "text": []
    },
    {
     "name": "stdout",
     "output_type": "stream",
     "text": [
      "Epoch 45: Loss 1.616256594657898, Accuracy 0.8443999886512756\n",
      "check inj\n"
     ]
    },
    {
     "name": "stderr",
     "output_type": "stream",
     "text": []
    },
    {
     "name": "stdout",
     "output_type": "stream",
     "text": [
      "percent_inj:  0.368\n"
     ]
    },
    {
     "name": "stderr",
     "output_type": "stream",
     "text": [
      "100%|██████████| 50/50 [05:32<00:00,  6.65s/it]\n",
      " 20%|██        | 2/10 [11:33<45:54, 344.27s/it]"
     ]
    },
    {
     "name": "stdout",
     "output_type": "stream",
     "text": [
      "Epoch 0: Loss 2.3018147945404053, Accuracy 0.3653999865055084\n",
      "check inj\n"
     ]
    },
    {
     "name": "stderr",
     "output_type": "stream",
     "text": []
    },
    {
     "name": "stdout",
     "output_type": "stream",
     "text": [
      "percent_inj:  0.214\n"
     ]
    },
    {
     "name": "stderr",
     "output_type": "stream",
     "text": []
    },
    {
     "name": "stdout",
     "output_type": "stream",
     "text": [
      "Epoch 5: Loss 1.867862343788147, Accuracy 0.7095999717712402\n",
      "check inj\n"
     ]
    },
    {
     "name": "stderr",
     "output_type": "stream",
     "text": []
    },
    {
     "name": "stdout",
     "output_type": "stream",
     "text": [
      "percent_inj:  0.24\n"
     ]
    },
    {
     "name": "stderr",
     "output_type": "stream",
     "text": []
    },
    {
     "name": "stdout",
     "output_type": "stream",
     "text": [
      "Epoch 10: Loss 1.7034608125686646, Accuracy 0.7631000280380249\n",
      "check inj\n"
     ]
    },
    {
     "name": "stderr",
     "output_type": "stream",
     "text": []
    },
    {
     "name": "stdout",
     "output_type": "stream",
     "text": [
      "percent_inj:  0.246\n"
     ]
    },
    {
     "name": "stderr",
     "output_type": "stream",
     "text": []
    },
    {
     "name": "stdout",
     "output_type": "stream",
     "text": [
      "Epoch 15: Loss 1.6617296934127808, Accuracy 0.8015000224113464\n",
      "check inj\n"
     ]
    },
    {
     "name": "stderr",
     "output_type": "stream",
     "text": []
    },
    {
     "name": "stdout",
     "output_type": "stream",
     "text": [
      "percent_inj:  0.282\n"
     ]
    },
    {
     "name": "stderr",
     "output_type": "stream",
     "text": []
    },
    {
     "name": "stdout",
     "output_type": "stream",
     "text": [
      "Epoch 20: Loss 1.6442055702209473, Accuracy 0.8145999908447266\n",
      "check inj\n"
     ]
    },
    {
     "name": "stderr",
     "output_type": "stream",
     "text": []
    },
    {
     "name": "stdout",
     "output_type": "stream",
     "text": [
      "percent_inj:  0.291\n"
     ]
    },
    {
     "name": "stderr",
     "output_type": "stream",
     "text": []
    },
    {
     "name": "stdout",
     "output_type": "stream",
     "text": [
      "Epoch 25: Loss 1.631961464881897, Accuracy 0.8240000009536743\n",
      "check inj\n"
     ]
    },
    {
     "name": "stderr",
     "output_type": "stream",
     "text": []
    },
    {
     "name": "stdout",
     "output_type": "stream",
     "text": [
      "percent_inj:  0.301\n"
     ]
    },
    {
     "name": "stderr",
     "output_type": "stream",
     "text": []
    },
    {
     "name": "stdout",
     "output_type": "stream",
     "text": [
      "Epoch 30: Loss 1.6228049993515015, Accuracy 0.8342000246047974\n",
      "check inj\n"
     ]
    },
    {
     "name": "stderr",
     "output_type": "stream",
     "text": []
    },
    {
     "name": "stdout",
     "output_type": "stream",
     "text": [
      "percent_inj:  0.308\n"
     ]
    },
    {
     "name": "stderr",
     "output_type": "stream",
     "text": []
    },
    {
     "name": "stdout",
     "output_type": "stream",
     "text": [
      "Epoch 35: Loss 1.6152455806732178, Accuracy 0.8398000001907349\n",
      "check inj\n"
     ]
    },
    {
     "name": "stderr",
     "output_type": "stream",
     "text": []
    },
    {
     "name": "stdout",
     "output_type": "stream",
     "text": [
      "percent_inj:  0.31\n"
     ]
    },
    {
     "name": "stderr",
     "output_type": "stream",
     "text": []
    },
    {
     "name": "stdout",
     "output_type": "stream",
     "text": [
      "Epoch 40: Loss 1.6093933582305908, Accuracy 0.8439000248908997\n",
      "check inj\n"
     ]
    },
    {
     "name": "stderr",
     "output_type": "stream",
     "text": []
    },
    {
     "name": "stdout",
     "output_type": "stream",
     "text": [
      "percent_inj:  0.319\n"
     ]
    },
    {
     "name": "stderr",
     "output_type": "stream",
     "text": []
    },
    {
     "name": "stdout",
     "output_type": "stream",
     "text": [
      "Epoch 45: Loss 1.6044255495071411, Accuracy 0.8456000089645386\n",
      "check inj\n"
     ]
    },
    {
     "name": "stderr",
     "output_type": "stream",
     "text": []
    },
    {
     "name": "stdout",
     "output_type": "stream",
     "text": [
      "percent_inj:  0.329\n"
     ]
    },
    {
     "name": "stderr",
     "output_type": "stream",
     "text": [
      "100%|██████████| 50/50 [05:47<00:00,  6.95s/it]\n",
      " 30%|███       | 3/10 [17:21<40:20, 345.80s/it]"
     ]
    },
    {
     "name": "stdout",
     "output_type": "stream",
     "text": [
      "Epoch 0: Loss 2.302651882171631, Accuracy 0.2842999994754791\n",
      "check inj\n"
     ]
    },
    {
     "name": "stderr",
     "output_type": "stream",
     "text": []
    },
    {
     "name": "stdout",
     "output_type": "stream",
     "text": [
      "percent_inj:  0.243\n"
     ]
    },
    {
     "name": "stderr",
     "output_type": "stream",
     "text": []
    },
    {
     "name": "stdout",
     "output_type": "stream",
     "text": [
      "Epoch 5: Loss 1.7787073850631714, Accuracy 0.7103000283241272\n",
      "check inj\n"
     ]
    },
    {
     "name": "stderr",
     "output_type": "stream",
     "text": []
    },
    {
     "name": "stdout",
     "output_type": "stream",
     "text": [
      "percent_inj:  0.244\n"
     ]
    },
    {
     "name": "stderr",
     "output_type": "stream",
     "text": []
    },
    {
     "name": "stdout",
     "output_type": "stream",
     "text": [
      "Epoch 10: Loss 1.6776124238967896, Accuracy 0.7919999957084656\n",
      "check inj\n"
     ]
    },
    {
     "name": "stderr",
     "output_type": "stream",
     "text": []
    },
    {
     "name": "stdout",
     "output_type": "stream",
     "text": [
      "percent_inj:  0.251\n"
     ]
    },
    {
     "name": "stderr",
     "output_type": "stream",
     "text": []
    },
    {
     "name": "stdout",
     "output_type": "stream",
     "text": [
      "Epoch 15: Loss 1.642956256866455, Accuracy 0.8199999928474426\n",
      "check inj\n"
     ]
    },
    {
     "name": "stderr",
     "output_type": "stream",
     "text": []
    },
    {
     "name": "stdout",
     "output_type": "stream",
     "text": [
      "percent_inj:  0.272\n"
     ]
    },
    {
     "name": "stderr",
     "output_type": "stream",
     "text": []
    },
    {
     "name": "stdout",
     "output_type": "stream",
     "text": [
      "Epoch 20: Loss 1.6311947107315063, Accuracy 0.8274999856948853\n",
      "check inj\n"
     ]
    },
    {
     "name": "stderr",
     "output_type": "stream",
     "text": []
    },
    {
     "name": "stdout",
     "output_type": "stream",
     "text": [
      "percent_inj:  0.284\n"
     ]
    },
    {
     "name": "stderr",
     "output_type": "stream",
     "text": []
    },
    {
     "name": "stdout",
     "output_type": "stream",
     "text": [
      "Epoch 25: Loss 1.6201746463775635, Accuracy 0.8346999883651733\n",
      "check inj\n"
     ]
    },
    {
     "name": "stderr",
     "output_type": "stream",
     "text": []
    },
    {
     "name": "stdout",
     "output_type": "stream",
     "text": [
      "percent_inj:  0.293\n"
     ]
    },
    {
     "name": "stderr",
     "output_type": "stream",
     "text": []
    },
    {
     "name": "stdout",
     "output_type": "stream",
     "text": [
      "Epoch 30: Loss 1.6128640174865723, Accuracy 0.839900016784668\n",
      "check inj\n"
     ]
    },
    {
     "name": "stderr",
     "output_type": "stream",
     "text": []
    },
    {
     "name": "stdout",
     "output_type": "stream",
     "text": [
      "percent_inj:  0.295\n"
     ]
    },
    {
     "name": "stderr",
     "output_type": "stream",
     "text": []
    },
    {
     "name": "stdout",
     "output_type": "stream",
     "text": [
      "Epoch 35: Loss 1.608125925064087, Accuracy 0.8442999720573425\n",
      "check inj\n"
     ]
    },
    {
     "name": "stderr",
     "output_type": "stream",
     "text": []
    },
    {
     "name": "stdout",
     "output_type": "stream",
     "text": [
      "percent_inj:  0.302\n"
     ]
    },
    {
     "name": "stderr",
     "output_type": "stream",
     "text": []
    },
    {
     "name": "stdout",
     "output_type": "stream",
     "text": [
      "Epoch 40: Loss 1.604042887687683, Accuracy 0.8464999794960022\n",
      "check inj\n"
     ]
    },
    {
     "name": "stderr",
     "output_type": "stream",
     "text": []
    },
    {
     "name": "stdout",
     "output_type": "stream",
     "text": [
      "percent_inj:  0.306\n"
     ]
    },
    {
     "name": "stderr",
     "output_type": "stream",
     "text": []
    },
    {
     "name": "stdout",
     "output_type": "stream",
     "text": [
      "Epoch 45: Loss 1.6009526252746582, Accuracy 0.8482999801635742\n",
      "check inj\n"
     ]
    },
    {
     "name": "stderr",
     "output_type": "stream",
     "text": []
    },
    {
     "name": "stdout",
     "output_type": "stream",
     "text": [
      "percent_inj:  0.309\n"
     ]
    },
    {
     "name": "stderr",
     "output_type": "stream",
     "text": [
      "100%|██████████| 50/50 [06:24<00:00,  7.68s/it]\n",
      " 40%|████      | 4/10 [23:45<36:05, 360.98s/it]"
     ]
    },
    {
     "name": "stdout",
     "output_type": "stream",
     "text": [
      "Epoch 0: Loss 2.3026678562164307, Accuracy 0.34880000352859497\n",
      "check inj\n"
     ]
    },
    {
     "name": "stderr",
     "output_type": "stream",
     "text": []
    },
    {
     "name": "stdout",
     "output_type": "stream",
     "text": [
      "percent_inj:  0.235\n"
     ]
    },
    {
     "name": "stderr",
     "output_type": "stream",
     "text": []
    },
    {
     "name": "stdout",
     "output_type": "stream",
     "text": [
      "Epoch 5: Loss 1.8011647462844849, Accuracy 0.6736000180244446\n",
      "check inj\n"
     ]
    },
    {
     "name": "stderr",
     "output_type": "stream",
     "text": []
    },
    {
     "name": "stdout",
     "output_type": "stream",
     "text": [
      "percent_inj:  0.273\n"
     ]
    },
    {
     "name": "stderr",
     "output_type": "stream",
     "text": []
    },
    {
     "name": "stdout",
     "output_type": "stream",
     "text": [
      "Epoch 10: Loss 1.7595716714859009, Accuracy 0.7099000215530396\n",
      "check inj\n"
     ]
    },
    {
     "name": "stderr",
     "output_type": "stream",
     "text": []
    },
    {
     "name": "stdout",
     "output_type": "stream",
     "text": [
      "percent_inj:  0.309\n"
     ]
    },
    {
     "name": "stderr",
     "output_type": "stream",
     "text": []
    },
    {
     "name": "stdout",
     "output_type": "stream",
     "text": [
      "Epoch 15: Loss 1.7298907041549683, Accuracy 0.7301999926567078\n",
      "check inj\n"
     ]
    },
    {
     "name": "stderr",
     "output_type": "stream",
     "text": []
    },
    {
     "name": "stdout",
     "output_type": "stream",
     "text": [
      "percent_inj:  0.309\n"
     ]
    },
    {
     "name": "stderr",
     "output_type": "stream",
     "text": []
    },
    {
     "name": "stdout",
     "output_type": "stream",
     "text": [
      "Epoch 20: Loss 1.717276930809021, Accuracy 0.742900013923645\n",
      "check inj\n"
     ]
    },
    {
     "name": "stderr",
     "output_type": "stream",
     "text": []
    },
    {
     "name": "stdout",
     "output_type": "stream",
     "text": [
      "percent_inj:  0.3\n"
     ]
    },
    {
     "name": "stderr",
     "output_type": "stream",
     "text": []
    },
    {
     "name": "stdout",
     "output_type": "stream",
     "text": [
      "Epoch 25: Loss 1.7084753513336182, Accuracy 0.7495999932289124\n",
      "check inj\n"
     ]
    },
    {
     "name": "stderr",
     "output_type": "stream",
     "text": []
    },
    {
     "name": "stdout",
     "output_type": "stream",
     "text": [
      "percent_inj:  0.301\n"
     ]
    },
    {
     "name": "stderr",
     "output_type": "stream",
     "text": []
    },
    {
     "name": "stdout",
     "output_type": "stream",
     "text": [
      "Epoch 30: Loss 1.7020200490951538, Accuracy 0.7523999810218811\n",
      "check inj\n"
     ]
    },
    {
     "name": "stderr",
     "output_type": "stream",
     "text": []
    },
    {
     "name": "stdout",
     "output_type": "stream",
     "text": [
      "percent_inj:  0.306\n"
     ]
    },
    {
     "name": "stderr",
     "output_type": "stream",
     "text": []
    },
    {
     "name": "stdout",
     "output_type": "stream",
     "text": [
      "Epoch 35: Loss 1.696603775024414, Accuracy 0.7551000118255615\n",
      "check inj\n"
     ]
    },
    {
     "name": "stderr",
     "output_type": "stream",
     "text": []
    },
    {
     "name": "stdout",
     "output_type": "stream",
     "text": [
      "percent_inj:  0.309\n"
     ]
    },
    {
     "name": "stderr",
     "output_type": "stream",
     "text": []
    },
    {
     "name": "stdout",
     "output_type": "stream",
     "text": [
      "Epoch 40: Loss 1.693367838859558, Accuracy 0.7577000260353088\n",
      "check inj\n"
     ]
    },
    {
     "name": "stderr",
     "output_type": "stream",
     "text": []
    },
    {
     "name": "stdout",
     "output_type": "stream",
     "text": [
      "percent_inj:  0.312\n"
     ]
    },
    {
     "name": "stderr",
     "output_type": "stream",
     "text": []
    },
    {
     "name": "stdout",
     "output_type": "stream",
     "text": [
      "Epoch 45: Loss 1.6912246942520142, Accuracy 0.7597000002861023\n",
      "check inj\n"
     ]
    },
    {
     "name": "stderr",
     "output_type": "stream",
     "text": []
    },
    {
     "name": "stdout",
     "output_type": "stream",
     "text": [
      "percent_inj:  0.319\n"
     ]
    },
    {
     "name": "stderr",
     "output_type": "stream",
     "text": [
      "100%|██████████| 50/50 [06:23<00:00,  7.68s/it]\n",
      " 50%|█████     | 5/10 [30:09<30:46, 369.28s/it]"
     ]
    },
    {
     "name": "stdout",
     "output_type": "stream",
     "text": [
      "Epoch 0: Loss 2.3021814823150635, Accuracy 0.3183000087738037\n",
      "check inj\n"
     ]
    },
    {
     "name": "stderr",
     "output_type": "stream",
     "text": []
    },
    {
     "name": "stdout",
     "output_type": "stream",
     "text": [
      "percent_inj:  0.37\n"
     ]
    },
    {
     "name": "stderr",
     "output_type": "stream",
     "text": []
    },
    {
     "name": "stdout",
     "output_type": "stream",
     "text": [
      "Epoch 5: Loss 1.7756506204605103, Accuracy 0.7501000165939331\n",
      "check inj\n"
     ]
    },
    {
     "name": "stderr",
     "output_type": "stream",
     "text": []
    },
    {
     "name": "stdout",
     "output_type": "stream",
     "text": [
      "percent_inj:  0.293\n"
     ]
    },
    {
     "name": "stderr",
     "output_type": "stream",
     "text": []
    },
    {
     "name": "stdout",
     "output_type": "stream",
     "text": [
      "Epoch 10: Loss 1.6847267150878906, Accuracy 0.7878000140190125\n",
      "check inj\n"
     ]
    },
    {
     "name": "stderr",
     "output_type": "stream",
     "text": []
    },
    {
     "name": "stdout",
     "output_type": "stream",
     "text": [
      "percent_inj:  0.286\n"
     ]
    },
    {
     "name": "stderr",
     "output_type": "stream",
     "text": []
    },
    {
     "name": "stdout",
     "output_type": "stream",
     "text": [
      "Epoch 15: Loss 1.6544636487960815, Accuracy 0.8105999827384949\n",
      "check inj\n"
     ]
    },
    {
     "name": "stderr",
     "output_type": "stream",
     "text": []
    },
    {
     "name": "stdout",
     "output_type": "stream",
     "text": [
      "percent_inj:  0.285\n"
     ]
    },
    {
     "name": "stderr",
     "output_type": "stream",
     "text": []
    },
    {
     "name": "stdout",
     "output_type": "stream",
     "text": [
      "Epoch 20: Loss 1.6418479681015015, Accuracy 0.8230000138282776\n",
      "check inj\n"
     ]
    },
    {
     "name": "stderr",
     "output_type": "stream",
     "text": []
    },
    {
     "name": "stdout",
     "output_type": "stream",
     "text": [
      "percent_inj:  0.297\n"
     ]
    },
    {
     "name": "stderr",
     "output_type": "stream",
     "text": []
    },
    {
     "name": "stdout",
     "output_type": "stream",
     "text": [
      "Epoch 25: Loss 1.630379319190979, Accuracy 0.8299000263214111\n",
      "check inj\n"
     ]
    },
    {
     "name": "stderr",
     "output_type": "stream",
     "text": []
    },
    {
     "name": "stdout",
     "output_type": "stream",
     "text": [
      "percent_inj:  0.312\n"
     ]
    },
    {
     "name": "stderr",
     "output_type": "stream",
     "text": []
    },
    {
     "name": "stdout",
     "output_type": "stream",
     "text": [
      "Epoch 30: Loss 1.6226969957351685, Accuracy 0.8360999822616577\n",
      "check inj\n"
     ]
    },
    {
     "name": "stderr",
     "output_type": "stream",
     "text": []
    },
    {
     "name": "stdout",
     "output_type": "stream",
     "text": [
      "percent_inj:  0.318\n"
     ]
    },
    {
     "name": "stderr",
     "output_type": "stream",
     "text": []
    },
    {
     "name": "stdout",
     "output_type": "stream",
     "text": [
      "Epoch 35: Loss 1.616700291633606, Accuracy 0.8389000296592712\n",
      "check inj\n"
     ]
    },
    {
     "name": "stderr",
     "output_type": "stream",
     "text": []
    },
    {
     "name": "stdout",
     "output_type": "stream",
     "text": [
      "percent_inj:  0.324\n"
     ]
    },
    {
     "name": "stderr",
     "output_type": "stream",
     "text": []
    },
    {
     "name": "stdout",
     "output_type": "stream",
     "text": [
      "Epoch 40: Loss 1.6126351356506348, Accuracy 0.8429999947547913\n",
      "check inj\n"
     ]
    },
    {
     "name": "stderr",
     "output_type": "stream",
     "text": []
    },
    {
     "name": "stdout",
     "output_type": "stream",
     "text": [
      "percent_inj:  0.331\n"
     ]
    },
    {
     "name": "stderr",
     "output_type": "stream",
     "text": []
    },
    {
     "name": "stdout",
     "output_type": "stream",
     "text": [
      "Epoch 45: Loss 1.6095373630523682, Accuracy 0.8475000262260437\n",
      "check inj\n"
     ]
    },
    {
     "name": "stderr",
     "output_type": "stream",
     "text": []
    },
    {
     "name": "stdout",
     "output_type": "stream",
     "text": [
      "percent_inj:  0.328\n"
     ]
    },
    {
     "name": "stderr",
     "output_type": "stream",
     "text": [
      "100%|██████████| 50/50 [07:04<00:00,  8.49s/it]\n",
      " 60%|██████    | 6/10 [37:13<25:52, 388.06s/it]"
     ]
    },
    {
     "name": "stdout",
     "output_type": "stream",
     "text": [
      "Epoch 0: Loss 2.3032171726226807, Accuracy 0.4925000071525574\n",
      "check inj\n"
     ]
    },
    {
     "name": "stderr",
     "output_type": "stream",
     "text": []
    },
    {
     "name": "stdout",
     "output_type": "stream",
     "text": [
      "percent_inj:  0.346\n"
     ]
    },
    {
     "name": "stderr",
     "output_type": "stream",
     "text": []
    },
    {
     "name": "stdout",
     "output_type": "stream",
     "text": [
      "Epoch 5: Loss 1.883074164390564, Accuracy 0.5735999941825867\n",
      "check inj\n"
     ]
    },
    {
     "name": "stderr",
     "output_type": "stream",
     "text": []
    },
    {
     "name": "stdout",
     "output_type": "stream",
     "text": [
      "percent_inj:  0.309\n"
     ]
    },
    {
     "name": "stderr",
     "output_type": "stream",
     "text": []
    },
    {
     "name": "stdout",
     "output_type": "stream",
     "text": [
      "Epoch 10: Loss 1.8717713356018066, Accuracy 0.5986999869346619\n",
      "check inj\n"
     ]
    },
    {
     "name": "stderr",
     "output_type": "stream",
     "text": []
    },
    {
     "name": "stdout",
     "output_type": "stream",
     "text": [
      "percent_inj:  0.357\n"
     ]
    },
    {
     "name": "stderr",
     "output_type": "stream",
     "text": []
    },
    {
     "name": "stdout",
     "output_type": "stream",
     "text": [
      "Epoch 15: Loss 1.8270000219345093, Accuracy 0.6499999761581421\n",
      "check inj\n"
     ]
    },
    {
     "name": "stderr",
     "output_type": "stream",
     "text": []
    },
    {
     "name": "stdout",
     "output_type": "stream",
     "text": [
      "percent_inj:  0.38\n"
     ]
    },
    {
     "name": "stderr",
     "output_type": "stream",
     "text": []
    },
    {
     "name": "stdout",
     "output_type": "stream",
     "text": [
      "Epoch 20: Loss 1.7659085988998413, Accuracy 0.7021999955177307\n",
      "check inj\n"
     ]
    },
    {
     "name": "stderr",
     "output_type": "stream",
     "text": []
    },
    {
     "name": "stdout",
     "output_type": "stream",
     "text": [
      "percent_inj:  0.378\n"
     ]
    },
    {
     "name": "stderr",
     "output_type": "stream",
     "text": []
    },
    {
     "name": "stdout",
     "output_type": "stream",
     "text": [
      "Epoch 25: Loss 1.744028091430664, Accuracy 0.7174000144004822\n",
      "check inj\n"
     ]
    },
    {
     "name": "stderr",
     "output_type": "stream",
     "text": []
    },
    {
     "name": "stdout",
     "output_type": "stream",
     "text": [
      "percent_inj:  0.359\n"
     ]
    },
    {
     "name": "stderr",
     "output_type": "stream",
     "text": []
    },
    {
     "name": "stdout",
     "output_type": "stream",
     "text": [
      "Epoch 30: Loss 1.7300310134887695, Accuracy 0.73089998960495\n",
      "check inj\n"
     ]
    },
    {
     "name": "stderr",
     "output_type": "stream",
     "text": []
    },
    {
     "name": "stdout",
     "output_type": "stream",
     "text": [
      "percent_inj:  0.35\n"
     ]
    },
    {
     "name": "stderr",
     "output_type": "stream",
     "text": []
    },
    {
     "name": "stdout",
     "output_type": "stream",
     "text": [
      "Epoch 35: Loss 1.722503423690796, Accuracy 0.7357000112533569\n",
      "check inj\n"
     ]
    },
    {
     "name": "stderr",
     "output_type": "stream",
     "text": []
    },
    {
     "name": "stdout",
     "output_type": "stream",
     "text": [
      "percent_inj:  0.351\n"
     ]
    },
    {
     "name": "stderr",
     "output_type": "stream",
     "text": []
    },
    {
     "name": "stdout",
     "output_type": "stream",
     "text": [
      "Epoch 40: Loss 1.7160342931747437, Accuracy 0.7400000095367432\n",
      "check inj\n"
     ]
    },
    {
     "name": "stderr",
     "output_type": "stream",
     "text": []
    },
    {
     "name": "stdout",
     "output_type": "stream",
     "text": [
      "percent_inj:  0.358\n"
     ]
    },
    {
     "name": "stderr",
     "output_type": "stream",
     "text": []
    },
    {
     "name": "stdout",
     "output_type": "stream",
     "text": [
      "Epoch 45: Loss 1.7104073762893677, Accuracy 0.7451000213623047\n",
      "check inj\n"
     ]
    },
    {
     "name": "stderr",
     "output_type": "stream",
     "text": []
    },
    {
     "name": "stdout",
     "output_type": "stream",
     "text": [
      "percent_inj:  0.363\n"
     ]
    },
    {
     "name": "stderr",
     "output_type": "stream",
     "text": [
      "100%|██████████| 50/50 [07:47<00:00,  9.35s/it]\n",
      " 70%|███████   | 7/10 [45:01<20:42, 414.10s/it]"
     ]
    },
    {
     "name": "stdout",
     "output_type": "stream",
     "text": [
      "Epoch 0: Loss 2.3021748065948486, Accuracy 0.3797999918460846\n",
      "check inj\n"
     ]
    },
    {
     "name": "stderr",
     "output_type": "stream",
     "text": []
    },
    {
     "name": "stdout",
     "output_type": "stream",
     "text": [
      "percent_inj:  0.331\n"
     ]
    },
    {
     "name": "stderr",
     "output_type": "stream",
     "text": []
    },
    {
     "name": "stdout",
     "output_type": "stream",
     "text": [
      "Epoch 5: Loss 1.8344382047653198, Accuracy 0.656000018119812\n",
      "check inj\n"
     ]
    },
    {
     "name": "stderr",
     "output_type": "stream",
     "text": []
    },
    {
     "name": "stdout",
     "output_type": "stream",
     "text": [
      "percent_inj:  0.27\n"
     ]
    },
    {
     "name": "stderr",
     "output_type": "stream",
     "text": []
    },
    {
     "name": "stdout",
     "output_type": "stream",
     "text": [
      "Epoch 10: Loss 1.7676481008529663, Accuracy 0.7084000110626221\n",
      "check inj\n"
     ]
    },
    {
     "name": "stderr",
     "output_type": "stream",
     "text": []
    },
    {
     "name": "stdout",
     "output_type": "stream",
     "text": [
      "percent_inj:  0.289\n"
     ]
    },
    {
     "name": "stderr",
     "output_type": "stream",
     "text": []
    },
    {
     "name": "stdout",
     "output_type": "stream",
     "text": [
      "Epoch 15: Loss 1.7398664951324463, Accuracy 0.7257999777793884\n",
      "check inj\n"
     ]
    },
    {
     "name": "stderr",
     "output_type": "stream",
     "text": []
    },
    {
     "name": "stdout",
     "output_type": "stream",
     "text": [
      "percent_inj:  0.292\n"
     ]
    },
    {
     "name": "stderr",
     "output_type": "stream",
     "text": []
    },
    {
     "name": "stdout",
     "output_type": "stream",
     "text": [
      "Epoch 20: Loss 1.7266356945037842, Accuracy 0.7366999983787537\n",
      "check inj\n"
     ]
    },
    {
     "name": "stderr",
     "output_type": "stream",
     "text": []
    },
    {
     "name": "stdout",
     "output_type": "stream",
     "text": [
      "percent_inj:  0.293\n"
     ]
    },
    {
     "name": "stderr",
     "output_type": "stream",
     "text": []
    },
    {
     "name": "stdout",
     "output_type": "stream",
     "text": [
      "Epoch 25: Loss 1.71724271774292, Accuracy 0.744700014591217\n",
      "check inj\n"
     ]
    },
    {
     "name": "stderr",
     "output_type": "stream",
     "text": []
    },
    {
     "name": "stdout",
     "output_type": "stream",
     "text": [
      "percent_inj:  0.296\n"
     ]
    },
    {
     "name": "stderr",
     "output_type": "stream",
     "text": []
    },
    {
     "name": "stdout",
     "output_type": "stream",
     "text": [
      "Epoch 30: Loss 1.7113902568817139, Accuracy 0.7497000098228455\n",
      "check inj\n"
     ]
    },
    {
     "name": "stderr",
     "output_type": "stream",
     "text": []
    },
    {
     "name": "stdout",
     "output_type": "stream",
     "text": [
      "percent_inj:  0.304\n"
     ]
    },
    {
     "name": "stderr",
     "output_type": "stream",
     "text": []
    },
    {
     "name": "stdout",
     "output_type": "stream",
     "text": [
      "Epoch 35: Loss 1.7070084810256958, Accuracy 0.7516999840736389\n",
      "check inj\n"
     ]
    },
    {
     "name": "stderr",
     "output_type": "stream",
     "text": []
    },
    {
     "name": "stdout",
     "output_type": "stream",
     "text": [
      "percent_inj:  0.307\n"
     ]
    },
    {
     "name": "stderr",
     "output_type": "stream",
     "text": []
    },
    {
     "name": "stdout",
     "output_type": "stream",
     "text": [
      "Epoch 40: Loss 1.703377604484558, Accuracy 0.755299985408783\n",
      "check inj\n"
     ]
    },
    {
     "name": "stderr",
     "output_type": "stream",
     "text": []
    },
    {
     "name": "stdout",
     "output_type": "stream",
     "text": [
      "percent_inj:  0.309\n"
     ]
    },
    {
     "name": "stderr",
     "output_type": "stream",
     "text": []
    },
    {
     "name": "stdout",
     "output_type": "stream",
     "text": [
      "Epoch 45: Loss 1.7003741264343262, Accuracy 0.7567999958992004\n",
      "check inj\n"
     ]
    },
    {
     "name": "stderr",
     "output_type": "stream",
     "text": []
    },
    {
     "name": "stdout",
     "output_type": "stream",
     "text": [
      "percent_inj:  0.315\n"
     ]
    },
    {
     "name": "stderr",
     "output_type": "stream",
     "text": [
      "100%|██████████| 50/50 [06:45<00:00,  8.11s/it]\n",
      " 80%|████████  | 8/10 [51:46<13:42, 411.31s/it]"
     ]
    },
    {
     "name": "stdout",
     "output_type": "stream",
     "text": [
      "Epoch 0: Loss 2.30300235748291, Accuracy 0.41850000619888306\n",
      "check inj\n"
     ]
    },
    {
     "name": "stderr",
     "output_type": "stream",
     "text": []
    },
    {
     "name": "stdout",
     "output_type": "stream",
     "text": [
      "percent_inj:  0.313\n"
     ]
    },
    {
     "name": "stderr",
     "output_type": "stream",
     "text": []
    },
    {
     "name": "stdout",
     "output_type": "stream",
     "text": [
      "Epoch 5: Loss 1.7698688507080078, Accuracy 0.7084000110626221\n",
      "check inj\n"
     ]
    },
    {
     "name": "stderr",
     "output_type": "stream",
     "text": []
    },
    {
     "name": "stdout",
     "output_type": "stream",
     "text": [
      "percent_inj:  0.265\n"
     ]
    },
    {
     "name": "stderr",
     "output_type": "stream",
     "text": []
    },
    {
     "name": "stdout",
     "output_type": "stream",
     "text": [
      "Epoch 10: Loss 1.6845990419387817, Accuracy 0.7885000109672546\n",
      "check inj\n"
     ]
    },
    {
     "name": "stderr",
     "output_type": "stream",
     "text": []
    },
    {
     "name": "stdout",
     "output_type": "stream",
     "text": [
      "percent_inj:  0.276\n"
     ]
    },
    {
     "name": "stderr",
     "output_type": "stream",
     "text": []
    },
    {
     "name": "stdout",
     "output_type": "stream",
     "text": [
      "Epoch 15: Loss 1.6579917669296265, Accuracy 0.8058000206947327\n",
      "check inj\n"
     ]
    },
    {
     "name": "stderr",
     "output_type": "stream",
     "text": []
    },
    {
     "name": "stdout",
     "output_type": "stream",
     "text": [
      "percent_inj:  0.282\n"
     ]
    },
    {
     "name": "stderr",
     "output_type": "stream",
     "text": []
    },
    {
     "name": "stdout",
     "output_type": "stream",
     "text": [
      "Epoch 20: Loss 1.6389275789260864, Accuracy 0.8222000002861023\n",
      "check inj\n"
     ]
    },
    {
     "name": "stderr",
     "output_type": "stream",
     "text": []
    },
    {
     "name": "stdout",
     "output_type": "stream",
     "text": [
      "percent_inj:  0.293\n"
     ]
    },
    {
     "name": "stderr",
     "output_type": "stream",
     "text": []
    },
    {
     "name": "stdout",
     "output_type": "stream",
     "text": [
      "Epoch 25: Loss 1.629797101020813, Accuracy 0.8281000256538391\n",
      "check inj\n"
     ]
    },
    {
     "name": "stderr",
     "output_type": "stream",
     "text": []
    },
    {
     "name": "stdout",
     "output_type": "stream",
     "text": [
      "percent_inj:  0.296\n"
     ]
    },
    {
     "name": "stderr",
     "output_type": "stream",
     "text": []
    },
    {
     "name": "stdout",
     "output_type": "stream",
     "text": [
      "Epoch 30: Loss 1.620822787284851, Accuracy 0.8345000147819519\n",
      "check inj\n"
     ]
    },
    {
     "name": "stderr",
     "output_type": "stream",
     "text": []
    },
    {
     "name": "stdout",
     "output_type": "stream",
     "text": [
      "percent_inj:  0.302\n"
     ]
    },
    {
     "name": "stderr",
     "output_type": "stream",
     "text": []
    },
    {
     "name": "stdout",
     "output_type": "stream",
     "text": [
      "Epoch 35: Loss 1.6148035526275635, Accuracy 0.8398000001907349\n",
      "check inj\n"
     ]
    },
    {
     "name": "stderr",
     "output_type": "stream",
     "text": []
    },
    {
     "name": "stdout",
     "output_type": "stream",
     "text": [
      "percent_inj:  0.304\n"
     ]
    },
    {
     "name": "stderr",
     "output_type": "stream",
     "text": []
    },
    {
     "name": "stdout",
     "output_type": "stream",
     "text": [
      "Epoch 40: Loss 1.6094189882278442, Accuracy 0.8432999849319458\n",
      "check inj\n"
     ]
    },
    {
     "name": "stderr",
     "output_type": "stream",
     "text": []
    },
    {
     "name": "stdout",
     "output_type": "stream",
     "text": [
      "percent_inj:  0.308\n"
     ]
    },
    {
     "name": "stderr",
     "output_type": "stream",
     "text": []
    },
    {
     "name": "stdout",
     "output_type": "stream",
     "text": [
      "Epoch 45: Loss 1.6052415370941162, Accuracy 0.8460000157356262\n",
      "check inj\n"
     ]
    },
    {
     "name": "stderr",
     "output_type": "stream",
     "text": []
    },
    {
     "name": "stdout",
     "output_type": "stream",
     "text": [
      "percent_inj:  0.307\n"
     ]
    },
    {
     "name": "stderr",
     "output_type": "stream",
     "text": [
      "100%|██████████| 50/50 [07:20<00:00,  8.81s/it]\n",
      " 90%|█████████ | 9/10 [59:07<07:00, 420.46s/it]"
     ]
    },
    {
     "name": "stdout",
     "output_type": "stream",
     "text": [
      "Epoch 0: Loss 2.3028807640075684, Accuracy 0.32089999318122864\n",
      "check inj\n"
     ]
    },
    {
     "name": "stderr",
     "output_type": "stream",
     "text": []
    },
    {
     "name": "stdout",
     "output_type": "stream",
     "text": [
      "percent_inj:  0.263\n"
     ]
    },
    {
     "name": "stderr",
     "output_type": "stream",
     "text": []
    },
    {
     "name": "stdout",
     "output_type": "stream",
     "text": [
      "Epoch 5: Loss 1.8426674604415894, Accuracy 0.6908000111579895\n",
      "check inj\n"
     ]
    },
    {
     "name": "stderr",
     "output_type": "stream",
     "text": []
    },
    {
     "name": "stdout",
     "output_type": "stream",
     "text": [
      "percent_inj:  0.333\n"
     ]
    },
    {
     "name": "stderr",
     "output_type": "stream",
     "text": []
    },
    {
     "name": "stdout",
     "output_type": "stream",
     "text": [
      "Epoch 10: Loss 1.7600582838058472, Accuracy 0.7135999798774719\n",
      "check inj\n"
     ]
    },
    {
     "name": "stderr",
     "output_type": "stream",
     "text": []
    },
    {
     "name": "stdout",
     "output_type": "stream",
     "text": [
      "percent_inj:  0.37\n"
     ]
    },
    {
     "name": "stderr",
     "output_type": "stream",
     "text": []
    },
    {
     "name": "stdout",
     "output_type": "stream",
     "text": [
      "Epoch 15: Loss 1.734941005706787, Accuracy 0.7440999746322632\n",
      "check inj\n"
     ]
    },
    {
     "name": "stderr",
     "output_type": "stream",
     "text": []
    },
    {
     "name": "stdout",
     "output_type": "stream",
     "text": [
      "percent_inj:  0.378\n"
     ]
    },
    {
     "name": "stderr",
     "output_type": "stream",
     "text": []
    },
    {
     "name": "stdout",
     "output_type": "stream",
     "text": [
      "Epoch 20: Loss 1.6590890884399414, Accuracy 0.7972000241279602\n",
      "check inj\n"
     ]
    },
    {
     "name": "stderr",
     "output_type": "stream",
     "text": []
    },
    {
     "name": "stdout",
     "output_type": "stream",
     "text": [
      "percent_inj:  0.402\n"
     ]
    },
    {
     "name": "stderr",
     "output_type": "stream",
     "text": []
    },
    {
     "name": "stdout",
     "output_type": "stream",
     "text": [
      "Epoch 25: Loss 1.6412230730056763, Accuracy 0.8263999819755554\n",
      "check inj\n"
     ]
    },
    {
     "name": "stderr",
     "output_type": "stream",
     "text": []
    },
    {
     "name": "stdout",
     "output_type": "stream",
     "text": [
      "percent_inj:  0.393\n"
     ]
    },
    {
     "name": "stderr",
     "output_type": "stream",
     "text": []
    },
    {
     "name": "stdout",
     "output_type": "stream",
     "text": [
      "Epoch 30: Loss 1.6303821802139282, Accuracy 0.8312000036239624\n",
      "check inj\n"
     ]
    },
    {
     "name": "stderr",
     "output_type": "stream",
     "text": []
    },
    {
     "name": "stdout",
     "output_type": "stream",
     "text": [
      "percent_inj:  0.384\n"
     ]
    },
    {
     "name": "stderr",
     "output_type": "stream",
     "text": []
    },
    {
     "name": "stdout",
     "output_type": "stream",
     "text": [
      "Epoch 35: Loss 1.6235628128051758, Accuracy 0.8360999822616577\n",
      "check inj\n"
     ]
    },
    {
     "name": "stderr",
     "output_type": "stream",
     "text": []
    },
    {
     "name": "stdout",
     "output_type": "stream",
     "text": [
      "percent_inj:  0.375\n"
     ]
    },
    {
     "name": "stderr",
     "output_type": "stream",
     "text": []
    },
    {
     "name": "stdout",
     "output_type": "stream",
     "text": [
      "Epoch 40: Loss 1.6177434921264648, Accuracy 0.8410999774932861\n",
      "check inj\n"
     ]
    },
    {
     "name": "stderr",
     "output_type": "stream",
     "text": []
    },
    {
     "name": "stdout",
     "output_type": "stream",
     "text": [
      "percent_inj:  0.364\n"
     ]
    },
    {
     "name": "stderr",
     "output_type": "stream",
     "text": []
    },
    {
     "name": "stdout",
     "output_type": "stream",
     "text": [
      "Epoch 45: Loss 1.613219141960144, Accuracy 0.8446000218391418\n",
      "check inj\n"
     ]
    },
    {
     "name": "stderr",
     "output_type": "stream",
     "text": []
    },
    {
     "name": "stdout",
     "output_type": "stream",
     "text": [
      "percent_inj:  0.366\n"
     ]
    },
    {
     "name": "stderr",
     "output_type": "stream",
     "text": [
      "100%|██████████| 50/50 [06:51<00:00,  8.23s/it]\n",
      "100%|██████████| 10/10 [1:05:58<00:00, 395.89s/it]\n"
     ]
    }
   ],
   "source": [
    "for i in tqdm.trange(num_iter):\n",
    "\n",
    "    # size of the layers\n",
    "    l1 = 784*redundandency\n",
    "    l2 = 128\n",
    "\n",
    "        \n",
    "    model     = Model(X_train.shape[1],l1)\n",
    "    optimizer = torch.optim.Adam(model.parameters(), lr=0.01)\n",
    "    loss_fn   = nn.CrossEntropyLoss()\n",
    "\n",
    "    weights = []\n",
    "    weights_norm = []\n",
    "    norms = []\n",
    "    biases = np.zeros([EPOCHS + 1,l1])\n",
    "    percent_inj_list = []\n",
    "\n",
    "    w1 = model.layer1.weight\n",
    "    b1 = model.layer1.bias\n",
    "    m1 = w1.shape[0]\n",
    "    n1 = w1.shape[1]\n",
    "    norm = w1.pow(2).sum(keepdim=True,dim=1).sqrt()\n",
    "    w1_norm = torch.div(w1,norm)\n",
    "    w1_norm[w1_norm == np.inf] = 0\n",
    "\n",
    "        \n",
    "    weights.append(w1.detach().numpy())\n",
    "    weights_norm.append(w1_norm.detach().numpy())\n",
    "    norms.append(norm.detach().numpy())\n",
    "    biases[0,:] = b1.detach().numpy()\n",
    "\n",
    "    #epoch counter\n",
    "    k = 1\n",
    "\n",
    "\n",
    "    loss_list     = np.zeros((EPOCHS,))\n",
    "    accuracy_list = np.zeros((EPOCHS,))\n",
    "\n",
    "    for epoch in tqdm.trange(EPOCHS):\n",
    "        y_pred = model(X_train)\n",
    "        loss = loss_fn(y_pred, y_train)\n",
    "        loss_list[epoch] = loss.item()\n",
    "        \n",
    "        # Zero gradients\n",
    "        optimizer.zero_grad()\n",
    "        loss.backward()\n",
    "        optimizer.step()\n",
    "        \n",
    "        with torch.no_grad():\n",
    "            y_pred = model(X_test)\n",
    "            correct = (torch.argmax(y_pred, dim=1) == y_test).type(torch.FloatTensor)\n",
    "            accuracy_list[epoch] = correct.mean()\n",
    "            if epoch % 5 == 0:\n",
    "                print(f\"Epoch {epoch}: Loss {loss.item()}, Accuracy {correct.mean()}\")\n",
    "        \n",
    "        \n",
    "        \n",
    "        w1 = model.layer1.weight\n",
    "        b1 = model.layer1.bias\n",
    "\n",
    "        if epoch % 5 == 0:\n",
    "            print(\"check inj\")\n",
    "            # check injectivity \n",
    "            percent_inj = mcbe.check_injectivity_naive(w1.detach().numpy(),b1.detach().numpy(),points=X_test[:1000,:],iter=X_test[:1000,:].shape[0])\n",
    "            percent_inj_list.append(percent_inj)\n",
    "            print(\"percent_inj: \", percent_inj)\n",
    "\n",
    "        norm = w1.pow(2).sum(keepdim=True,dim=1).sqrt()\n",
    "        w1_norm = torch.div(w1,norm)\n",
    "        w1_norm[w1_norm == np.inf] = 0\n",
    "        \n",
    "        weights.append(w1.detach().numpy())\n",
    "        weights_norm.append(w1_norm.detach().numpy())\n",
    "        norms.append(norm.detach().numpy())\n",
    "        biases[k,:] = b1.detach().numpy()\n",
    "        \n",
    "        k = k+1\n",
    "\n",
    "    percent_inj2.append(percent_inj_list)\n",
    "\n",
    "    \n",
    "        \n",
    "    \n",
    "\n",
    "    "
   ]
  },
  {
   "cell_type": "code",
   "execution_count": 16,
   "metadata": {},
   "outputs": [],
   "source": [
    "percent_inj3 = []\n",
    "redundandency = 3"
   ]
  },
  {
   "cell_type": "code",
   "execution_count": 17,
   "metadata": {},
   "outputs": [
    {
     "name": "stderr",
     "output_type": "stream",
     "text": [
      "  0%|          | 0/10 [00:00<?, ?it/s]"
     ]
    },
    {
     "name": "stdout",
     "output_type": "stream",
     "text": [
      "Epoch 0: Loss 2.302694320678711, Accuracy 0.26089999079704285\n",
      "check inj\n",
      "percent_inj:  1.0\n",
      "Epoch 5: Loss 1.8138740062713623, Accuracy 0.5655999779701233\n",
      "check inj\n",
      "percent_inj:  0.822\n",
      "Epoch 10: Loss 1.7443777322769165, Accuracy 0.7382000088691711\n",
      "check inj\n",
      "percent_inj:  0.836\n",
      "Epoch 15: Loss 1.6914780139923096, Accuracy 0.7792999744415283\n",
      "check inj\n",
      "percent_inj:  0.872\n",
      "Epoch 20: Loss 1.6660932302474976, Accuracy 0.7932000160217285\n",
      "check inj\n",
      "percent_inj:  0.883\n",
      "Epoch 25: Loss 1.6493080854415894, Accuracy 0.8100000023841858\n",
      "check inj\n",
      "percent_inj:  0.866\n",
      "Epoch 30: Loss 1.6393073797225952, Accuracy 0.820900022983551\n",
      "check inj\n",
      "percent_inj:  0.86\n",
      "Epoch 35: Loss 1.628646731376648, Accuracy 0.8278999924659729\n",
      "check inj\n",
      "percent_inj:  0.86\n",
      "Epoch 40: Loss 1.620458960533142, Accuracy 0.8360000252723694\n",
      "check inj\n",
      "percent_inj:  0.846\n",
      "Epoch 45: Loss 1.6142566204071045, Accuracy 0.840499997138977\n",
      "check inj\n",
      "percent_inj:  0.846\n"
     ]
    },
    {
     "name": "stderr",
     "output_type": "stream",
     "text": [
      " 10%|█         | 1/10 [08:16<1:14:32, 496.93s/it]"
     ]
    },
    {
     "name": "stdout",
     "output_type": "stream",
     "text": [
      "Epoch 0: Loss 2.3029069900512695, Accuracy 0.5401999950408936\n",
      "check inj\n",
      "percent_inj:  1.0\n",
      "Epoch 5: Loss 1.826807975769043, Accuracy 0.6607000231742859\n",
      "check inj\n",
      "percent_inj:  0.981\n",
      "Epoch 10: Loss 1.7554978132247925, Accuracy 0.7103999853134155\n",
      "check inj\n",
      "percent_inj:  0.959\n",
      "Epoch 15: Loss 1.7385907173156738, Accuracy 0.7228999733924866\n",
      "check inj\n",
      "percent_inj:  0.956\n",
      "Epoch 20: Loss 1.7251092195510864, Accuracy 0.7361000180244446\n",
      "check inj\n",
      "percent_inj:  0.952\n",
      "Epoch 25: Loss 1.7186747789382935, Accuracy 0.7409999966621399\n",
      "check inj\n",
      "percent_inj:  0.955\n",
      "Epoch 30: Loss 1.7129184007644653, Accuracy 0.7450000047683716\n",
      "check inj\n",
      "percent_inj:  0.954\n",
      "Epoch 35: Loss 1.7081408500671387, Accuracy 0.7480999827384949\n",
      "check inj\n",
      "percent_inj:  0.949\n",
      "Epoch 40: Loss 1.705213189125061, Accuracy 0.7491000294685364\n",
      "check inj\n",
      "percent_inj:  0.947\n",
      "Epoch 45: Loss 1.702966570854187, Accuracy 0.7513999938964844\n",
      "check inj\n",
      "percent_inj:  0.95\n"
     ]
    },
    {
     "name": "stderr",
     "output_type": "stream",
     "text": [
      " 20%|██        | 2/10 [15:16<1:00:10, 451.30s/it]"
     ]
    },
    {
     "name": "stdout",
     "output_type": "stream",
     "text": [
      "Epoch 0: Loss 2.302063465118408, Accuracy 0.48179998993873596\n",
      "check inj\n",
      "percent_inj:  1.0\n",
      "Epoch 5: Loss 1.8838022947311401, Accuracy 0.7085999846458435\n",
      "check inj\n",
      "percent_inj:  0.874\n",
      "Epoch 10: Loss 1.71368408203125, Accuracy 0.769599974155426\n",
      "check inj\n",
      "percent_inj:  0.866\n",
      "Epoch 15: Loss 1.6677956581115723, Accuracy 0.7986000180244446\n",
      "check inj\n",
      "percent_inj:  0.924\n",
      "Epoch 20: Loss 1.6468636989593506, Accuracy 0.8134999871253967\n",
      "check inj\n",
      "percent_inj:  0.93\n",
      "Epoch 25: Loss 1.6370978355407715, Accuracy 0.8238000273704529\n",
      "check inj\n",
      "percent_inj:  0.898\n",
      "Epoch 30: Loss 1.6291686296463013, Accuracy 0.8306999802589417\n",
      "check inj\n",
      "percent_inj:  0.884\n",
      "Epoch 35: Loss 1.6233717203140259, Accuracy 0.8357999920845032\n",
      "check inj\n",
      "percent_inj:  0.875\n",
      "Epoch 40: Loss 1.6185705661773682, Accuracy 0.839900016784668\n",
      "check inj\n",
      "percent_inj:  0.887\n",
      "Epoch 45: Loss 1.6142815351486206, Accuracy 0.8425999879837036\n",
      "check inj\n",
      "percent_inj:  0.883\n"
     ]
    },
    {
     "name": "stderr",
     "output_type": "stream",
     "text": [
      " 30%|███       | 3/10 [22:34<51:56, 445.24s/it]  "
     ]
    },
    {
     "name": "stdout",
     "output_type": "stream",
     "text": [
      "Epoch 0: Loss 2.3040127754211426, Accuracy 0.4009999930858612\n",
      "check inj\n",
      "percent_inj:  1.0\n",
      "Epoch 5: Loss 1.795184850692749, Accuracy 0.7336000204086304\n",
      "check inj\n",
      "percent_inj:  0.991\n",
      "Epoch 10: Loss 1.6715569496154785, Accuracy 0.802299976348877\n",
      "check inj\n",
      "percent_inj:  0.987\n",
      "Epoch 15: Loss 1.6469424962997437, Accuracy 0.8192999958992004\n",
      "check inj\n",
      "percent_inj:  0.968\n",
      "Epoch 20: Loss 1.6302194595336914, Accuracy 0.8313000202178955\n",
      "check inj\n",
      "percent_inj:  0.953\n",
      "Epoch 25: Loss 1.6214488744735718, Accuracy 0.8402000069618225\n",
      "check inj\n",
      "percent_inj:  0.949\n",
      "Epoch 30: Loss 1.6134849786758423, Accuracy 0.8468000292778015\n",
      "check inj\n",
      "percent_inj:  0.947\n",
      "Epoch 35: Loss 1.6084716320037842, Accuracy 0.8497999906539917\n",
      "check inj\n",
      "percent_inj:  0.95\n",
      "Epoch 40: Loss 1.6044468879699707, Accuracy 0.8547999858856201\n",
      "check inj\n",
      "percent_inj:  0.952\n",
      "Epoch 45: Loss 1.6012251377105713, Accuracy 0.859000027179718\n",
      "check inj\n",
      "percent_inj:  0.952\n"
     ]
    },
    {
     "name": "stderr",
     "output_type": "stream",
     "text": [
      " 40%|████      | 4/10 [31:52<48:58, 489.82s/it]"
     ]
    },
    {
     "name": "stdout",
     "output_type": "stream",
     "text": [
      "Epoch 0: Loss 2.3035728931427, Accuracy 0.4072999954223633\n",
      "check inj\n",
      "percent_inj:  1.0\n",
      "Epoch 5: Loss 1.8432903289794922, Accuracy 0.7203999757766724\n",
      "check inj\n",
      "percent_inj:  0.824\n",
      "Epoch 10: Loss 1.7006677389144897, Accuracy 0.7802000045776367\n",
      "check inj\n",
      "percent_inj:  0.845\n",
      "Epoch 15: Loss 1.665335774421692, Accuracy 0.8065999746322632\n",
      "check inj\n",
      "percent_inj:  0.89\n",
      "Epoch 20: Loss 1.6463966369628906, Accuracy 0.8215000033378601\n",
      "check inj\n",
      "percent_inj:  0.957\n",
      "Epoch 25: Loss 1.634429693222046, Accuracy 0.8307999968528748\n",
      "check inj\n",
      "percent_inj:  0.965\n",
      "Epoch 30: Loss 1.6255470514297485, Accuracy 0.8399999737739563\n",
      "check inj\n",
      "percent_inj:  0.964\n",
      "Epoch 35: Loss 1.6189497709274292, Accuracy 0.8431000113487244\n",
      "check inj\n",
      "percent_inj:  0.968\n",
      "Epoch 40: Loss 1.6130151748657227, Accuracy 0.8482000231742859\n",
      "check inj\n",
      "percent_inj:  0.967\n",
      "Epoch 45: Loss 1.607876181602478, Accuracy 0.8517000079154968\n",
      "check inj\n",
      "percent_inj:  0.969\n"
     ]
    },
    {
     "name": "stderr",
     "output_type": "stream",
     "text": [
      " 50%|█████     | 5/10 [40:20<41:21, 496.33s/it]"
     ]
    },
    {
     "name": "stdout",
     "output_type": "stream",
     "text": [
      "Epoch 0: Loss 2.30348539352417, Accuracy 0.28760001063346863\n",
      "check inj\n",
      "percent_inj:  1.0\n",
      "Epoch 5: Loss 1.950397253036499, Accuracy 0.538100004196167\n",
      "check inj\n",
      "percent_inj:  0.873\n",
      "Epoch 10: Loss 1.8573259115219116, Accuracy 0.6693000197410583\n",
      "check inj\n",
      "percent_inj:  0.858\n",
      "Epoch 15: Loss 1.765676736831665, Accuracy 0.7091000080108643\n",
      "check inj\n",
      "percent_inj:  0.9\n",
      "Epoch 20: Loss 1.7446633577346802, Accuracy 0.7232999801635742\n",
      "check inj\n",
      "percent_inj:  0.874\n",
      "Epoch 25: Loss 1.7299400568008423, Accuracy 0.7371000051498413\n",
      "check inj\n",
      "percent_inj:  0.9\n",
      "Epoch 30: Loss 1.7228467464447021, Accuracy 0.7419999837875366\n",
      "check inj\n",
      "percent_inj:  0.907\n",
      "Epoch 35: Loss 1.7164570093154907, Accuracy 0.7455999851226807\n",
      "check inj\n",
      "percent_inj:  0.9\n",
      "Epoch 40: Loss 1.7115821838378906, Accuracy 0.75\n",
      "check inj\n",
      "percent_inj:  0.896\n",
      "Epoch 45: Loss 1.7079315185546875, Accuracy 0.7522000074386597\n",
      "check inj\n",
      "percent_inj:  0.892\n"
     ]
    },
    {
     "name": "stderr",
     "output_type": "stream",
     "text": [
      " 60%|██████    | 6/10 [47:11<31:09, 467.47s/it]"
     ]
    },
    {
     "name": "stdout",
     "output_type": "stream",
     "text": [
      "Epoch 0: Loss 2.3025450706481934, Accuracy 0.2282000035047531\n",
      "check inj\n",
      "percent_inj:  1.0\n",
      "Epoch 5: Loss 1.8270236253738403, Accuracy 0.6492000222206116\n",
      "check inj\n",
      "percent_inj:  0.99\n",
      "Epoch 10: Loss 1.7983075380325317, Accuracy 0.6647999882698059\n",
      "check inj\n",
      "percent_inj:  0.984\n",
      "Epoch 15: Loss 1.7601655721664429, Accuracy 0.7028999924659729\n",
      "check inj\n",
      "percent_inj:  0.94\n",
      "Epoch 20: Loss 1.7234002351760864, Accuracy 0.7394999861717224\n",
      "check inj\n",
      "percent_inj:  0.892\n",
      "Epoch 25: Loss 1.709126353263855, Accuracy 0.7491999864578247\n",
      "check inj\n",
      "percent_inj:  0.887\n",
      "Epoch 30: Loss 1.7025340795516968, Accuracy 0.7537000179290771\n",
      "check inj\n",
      "percent_inj:  0.912\n",
      "Epoch 35: Loss 1.6963982582092285, Accuracy 0.7588000297546387\n",
      "check inj\n",
      "percent_inj:  0.883\n",
      "Epoch 40: Loss 1.6927244663238525, Accuracy 0.7605999708175659\n",
      "check inj\n",
      "percent_inj:  0.875\n",
      "Epoch 45: Loss 1.6898728609085083, Accuracy 0.762499988079071\n",
      "check inj\n",
      "percent_inj:  0.875\n"
     ]
    },
    {
     "name": "stderr",
     "output_type": "stream",
     "text": [
      " 70%|███████   | 7/10 [56:10<24:32, 490.91s/it]"
     ]
    },
    {
     "name": "stdout",
     "output_type": "stream",
     "text": [
      "Epoch 0: Loss 2.302220582962036, Accuracy 0.38339999318122864\n",
      "check inj\n",
      "percent_inj:  1.0\n",
      "Epoch 5: Loss 1.8727655410766602, Accuracy 0.6007999777793884\n",
      "check inj\n",
      "percent_inj:  0.998\n",
      "Epoch 10: Loss 1.830615758895874, Accuracy 0.6392999887466431\n",
      "check inj\n",
      "percent_inj:  0.985\n",
      "Epoch 15: Loss 1.813265085220337, Accuracy 0.651199996471405\n",
      "check inj\n",
      "percent_inj:  0.961\n",
      "Epoch 20: Loss 1.8397372961044312, Accuracy 0.6121000051498413\n",
      "check inj\n",
      "percent_inj:  0.936\n",
      "Epoch 25: Loss 1.8257744312286377, Accuracy 0.6413000226020813\n",
      "check inj\n",
      "percent_inj:  0.93\n",
      "Epoch 30: Loss 1.813635230064392, Accuracy 0.6523000001907349\n",
      "check inj\n",
      "percent_inj:  0.933\n",
      "Epoch 35: Loss 1.8073309659957886, Accuracy 0.6563000082969666\n",
      "check inj\n",
      "percent_inj:  0.922\n",
      "Epoch 40: Loss 1.803166151046753, Accuracy 0.6589000225067139\n",
      "check inj\n",
      "percent_inj:  0.935\n",
      "Epoch 45: Loss 1.7997970581054688, Accuracy 0.6611999869346619\n",
      "check inj\n",
      "percent_inj:  0.951\n"
     ]
    },
    {
     "name": "stderr",
     "output_type": "stream",
     "text": [
      " 80%|████████  | 8/10 [1:04:33<16:29, 494.77s/it]"
     ]
    },
    {
     "name": "stdout",
     "output_type": "stream",
     "text": [
      "Epoch 0: Loss 2.301543712615967, Accuracy 0.4377000033855438\n",
      "check inj\n",
      "percent_inj:  1.0\n",
      "Epoch 5: Loss 1.9910290241241455, Accuracy 0.491100013256073\n",
      "check inj\n",
      "percent_inj:  0.963\n",
      "Epoch 10: Loss 1.9385472536087036, Accuracy 0.5292999744415283\n",
      "check inj\n",
      "percent_inj:  0.963\n",
      "Epoch 15: Loss 1.927559494972229, Accuracy 0.5364999771118164\n",
      "check inj\n",
      "percent_inj:  0.97\n",
      "Epoch 20: Loss 1.9196051359176636, Accuracy 0.5422999858856201\n",
      "check inj\n",
      "percent_inj:  0.967\n",
      "Epoch 25: Loss 1.9148142337799072, Accuracy 0.5471000075340271\n",
      "check inj\n",
      "percent_inj:  0.964\n",
      "Epoch 30: Loss 1.910589575767517, Accuracy 0.5483999848365784\n",
      "check inj\n",
      "percent_inj:  0.968\n",
      "Epoch 35: Loss 1.9072493314743042, Accuracy 0.5508000254631042\n",
      "check inj\n",
      "percent_inj:  0.971\n",
      "Epoch 40: Loss 1.9045006036758423, Accuracy 0.5525000095367432\n",
      "check inj\n",
      "percent_inj:  0.972\n",
      "Epoch 45: Loss 1.9021527767181396, Accuracy 0.5537999868392944\n",
      "check inj\n",
      "percent_inj:  0.971\n"
     ]
    },
    {
     "name": "stderr",
     "output_type": "stream",
     "text": [
      " 90%|█████████ | 9/10 [1:12:08<08:02, 482.05s/it]"
     ]
    },
    {
     "name": "stdout",
     "output_type": "stream",
     "text": [
      "Epoch 0: Loss 2.302914619445801, Accuracy 0.42879998683929443\n",
      "check inj\n",
      "percent_inj:  1.0\n",
      "Epoch 5: Loss 1.8371806144714355, Accuracy 0.6563000082969666\n",
      "check inj\n",
      "percent_inj:  0.925\n",
      "Epoch 10: Loss 1.7807643413543701, Accuracy 0.6973000168800354\n",
      "check inj\n",
      "percent_inj:  0.995\n",
      "Epoch 15: Loss 1.7372113466262817, Accuracy 0.733299970626831\n",
      "check inj\n",
      "percent_inj:  0.995\n",
      "Epoch 20: Loss 1.7193509340286255, Accuracy 0.7440999746322632\n",
      "check inj\n",
      "percent_inj:  0.993\n",
      "Epoch 25: Loss 1.7117791175842285, Accuracy 0.7530999779701233\n",
      "check inj\n",
      "percent_inj:  0.991\n",
      "Epoch 30: Loss 1.7050743103027344, Accuracy 0.7574999928474426\n",
      "check inj\n",
      "percent_inj:  0.99\n",
      "Epoch 35: Loss 1.7012468576431274, Accuracy 0.7598999738693237\n",
      "check inj\n",
      "percent_inj:  0.99\n",
      "Epoch 40: Loss 1.6970583200454712, Accuracy 0.7613999843597412\n",
      "check inj\n",
      "percent_inj:  0.99\n",
      "Epoch 45: Loss 1.6942169666290283, Accuracy 0.7627999782562256\n",
      "check inj\n",
      "percent_inj:  0.99\n"
     ]
    },
    {
     "name": "stderr",
     "output_type": "stream",
     "text": [
      "100%|██████████| 10/10 [1:20:51<00:00, 485.19s/it]\n"
     ]
    }
   ],
   "source": [
    "for i in tqdm.trange(num_iter):\n",
    "\n",
    "    # size of the layers\n",
    "    l1 = 784*redundandency\n",
    "    l2 = 128\n",
    "\n",
    "        \n",
    "    model     = Model(X_train.shape[1],l1)\n",
    "    optimizer = torch.optim.Adam(model.parameters(), lr=0.01)\n",
    "    loss_fn   = nn.CrossEntropyLoss()\n",
    "\n",
    "    weights = []\n",
    "    weights_norm = []\n",
    "    norms = []\n",
    "    biases = np.zeros([EPOCHS + 1,l1])\n",
    "    percent_inj_list = []\n",
    "\n",
    "    w1 = model.layer1.weight\n",
    "    b1 = model.layer1.bias\n",
    "    m1 = w1.shape[0]\n",
    "    n1 = w1.shape[1]\n",
    "    norm = w1.pow(2).sum(keepdim=True,dim=1).sqrt()\n",
    "    w1_norm = torch.div(w1,norm)\n",
    "    w1_norm[w1_norm == np.inf] = 0\n",
    "\n",
    "        \n",
    "    weights.append(w1.detach().numpy())\n",
    "    weights_norm.append(w1_norm.detach().numpy())\n",
    "    norms.append(norm.detach().numpy())\n",
    "    biases[0,:] = b1.detach().numpy()\n",
    "\n",
    "    #epoch counter\n",
    "    k = 1\n",
    "\n",
    "\n",
    "    loss_list     = np.zeros((EPOCHS,))\n",
    "    accuracy_list = np.zeros((EPOCHS,))\n",
    "\n",
    "    for epoch in range(EPOCHS):\n",
    "        y_pred = model(X_train)\n",
    "        loss = loss_fn(y_pred, y_train)\n",
    "        loss_list[epoch] = loss.item()\n",
    "        \n",
    "        # Zero gradients\n",
    "        optimizer.zero_grad()\n",
    "        loss.backward()\n",
    "        optimizer.step()\n",
    "        \n",
    "        with torch.no_grad():\n",
    "            y_pred = model(X_test)\n",
    "            correct = (torch.argmax(y_pred, dim=1) == y_test).type(torch.FloatTensor)\n",
    "            accuracy_list[epoch] = correct.mean()\n",
    "            if epoch % 5 == 0:\n",
    "                print(f\"Epoch {epoch}: Loss {loss.item()}, Accuracy {correct.mean()}\")\n",
    "        \n",
    "        \n",
    "        \n",
    "        w1 = model.layer1.weight\n",
    "        b1 = model.layer1.bias\n",
    "\n",
    "        if epoch % 5 == 0:\n",
    "            print(\"check inj\")\n",
    "            # check injectivity \n",
    "            percent_inj = mcbe.check_injectivity_naive(w1.detach().numpy(),b1.detach().numpy(),points=X_test[:1000,:],iter=X_test[:1000,:].shape[0])\n",
    "            percent_inj_list.append(percent_inj)\n",
    "            print(\"percent_inj: \", percent_inj)\n",
    "\n",
    "        norm = w1.pow(2).sum(keepdim=True,dim=1).sqrt()\n",
    "        w1_norm = torch.div(w1,norm)\n",
    "        w1_norm[w1_norm == np.inf] = 0\n",
    "        \n",
    "        weights.append(w1.detach().numpy())\n",
    "        weights_norm.append(w1_norm.detach().numpy())\n",
    "        norms.append(norm.detach().numpy())\n",
    "        biases[k,:] = b1.detach().numpy()\n",
    "        \n",
    "        k = k+1\n",
    "\n",
    "    percent_inj3.append(percent_inj_list)"
   ]
  },
  {
   "cell_type": "code",
   "execution_count": 18,
   "metadata": {},
   "outputs": [],
   "source": [
    "percent_inj9 = []\n",
    "redundandency = 9"
   ]
  },
  {
   "cell_type": "code",
   "execution_count": 19,
   "metadata": {},
   "outputs": [
    {
     "name": "stderr",
     "output_type": "stream",
     "text": [
      "  0%|          | 0/10 [00:00<?, ?it/s]"
     ]
    },
    {
     "name": "stdout",
     "output_type": "stream",
     "text": [
      "Epoch 0: Loss 2.3014729022979736, Accuracy 0.164900004863739\n",
      "check inj\n",
      "percent_inj:  1.0\n",
      "Epoch 5: Loss 2.0873639583587646, Accuracy 0.3718000054359436\n",
      "check inj\n",
      "percent_inj:  1.0\n"
     ]
    }
   ],
   "source": [
    "for i in tqdm.trange(num_iter):\n",
    "\n",
    "    # size of the layers\n",
    "    l1 = 784*redundandency\n",
    "    l2 = 128\n",
    "\n",
    "        \n",
    "    model     = Model(X_train.shape[1],l1)\n",
    "    optimizer = torch.optim.Adam(model.parameters(), lr=0.01)\n",
    "    loss_fn   = nn.CrossEntropyLoss()\n",
    "\n",
    "    weights = []\n",
    "    weights_norm = []\n",
    "    norms = []\n",
    "    biases = np.zeros([EPOCHS + 1,l1])\n",
    "    percent_inj_list = []\n",
    "\n",
    "    w1 = model.layer1.weight\n",
    "    b1 = model.layer1.bias\n",
    "    m1 = w1.shape[0]\n",
    "    n1 = w1.shape[1]\n",
    "    norm = w1.pow(2).sum(keepdim=True,dim=1).sqrt()\n",
    "    w1_norm = torch.div(w1,norm)\n",
    "    w1_norm[w1_norm == np.inf] = 0\n",
    "\n",
    "        \n",
    "    weights.append(w1.detach().numpy())\n",
    "    weights_norm.append(w1_norm.detach().numpy())\n",
    "    norms.append(norm.detach().numpy())\n",
    "    biases[0,:] = b1.detach().numpy()\n",
    "\n",
    "    #epoch counter\n",
    "    k = 1\n",
    "\n",
    "\n",
    "    loss_list     = np.zeros((EPOCHS,))\n",
    "    accuracy_list = np.zeros((EPOCHS,))\n",
    "\n",
    "    for epoch in range(EPOCHS):\n",
    "        y_pred = model(X_train)\n",
    "        loss = loss_fn(y_pred, y_train)\n",
    "        loss_list[epoch] = loss.item()\n",
    "        \n",
    "        # Zero gradients\n",
    "        optimizer.zero_grad()\n",
    "        loss.backward()\n",
    "        optimizer.step()\n",
    "        \n",
    "        with torch.no_grad():\n",
    "            y_pred = model(X_test)\n",
    "            correct = (torch.argmax(y_pred, dim=1) == y_test).type(torch.FloatTensor)\n",
    "            accuracy_list[epoch] = correct.mean()\n",
    "            if epoch % 5 == 0:\n",
    "                print(f\"Epoch {epoch}: Loss {loss.item()}, Accuracy {correct.mean()}\")\n",
    "        \n",
    "        \n",
    "        \n",
    "        w1 = model.layer1.weight\n",
    "        b1 = model.layer1.bias\n",
    "\n",
    "        if epoch % 5 == 0:\n",
    "            print(\"check inj\")\n",
    "            # check injectivity \n",
    "            percent_inj = mcbe.check_injectivity_naive(w1.detach().numpy(),b1.detach().numpy(),points=X_test[:1000,:],iter=X_test[:1000,:].shape[0])\n",
    "            percent_inj_list.append(percent_inj)\n",
    "            print(\"percent_inj: \", percent_inj)\n",
    "\n",
    "        norm = w1.pow(2).sum(keepdim=True,dim=1).sqrt()\n",
    "        w1_norm = torch.div(w1,norm)\n",
    "        w1_norm[w1_norm == np.inf] = 0\n",
    "        \n",
    "        weights.append(w1.detach().numpy())\n",
    "        weights_norm.append(w1_norm.detach().numpy())\n",
    "        norms.append(norm.detach().numpy())\n",
    "        biases[k,:] = b1.detach().numpy()\n",
    "        \n",
    "        k = k+1\n",
    "\n",
    "    percent_inj9.append(percent_inj_list)"
   ]
  },
  {
   "cell_type": "code",
   "execution_count": null,
   "metadata": {},
   "outputs": [],
   "source": [
    "plt.rcParams.update({'font.family':'Times New Roman', 'font.size': 22})"
   ]
  },
  {
   "cell_type": "code",
   "execution_count": null,
   "metadata": {},
   "outputs": [],
   "source": [
    "mean_inj2 = np.mean(percent_inj2,axis=0)\n",
    "std_inj2 = np.std(percent_inj2,axis=0)\n",
    "mean_inj3 = np.mean(percent_inj3,axis=0)\n",
    "std_inj3 = np.std(percent_inj3,axis=0)\n",
    "mean_inj9 = np.mean(percent_inj9,axis=0)\n",
    "std_inj9 = np.std(percent_inj9,axis=0)\n",
    "plt.plot(mean_inj2,label='Redundancy 2',color=\"blue\",linestyle=\"--\")\n",
    "plt.fill_between(range(EPOCHS),mean_inj2-std_inj2,mean_inj2+std_inj2,alpha=0.2,color = \"blue\")\n",
    "plt.plot(mean_inj3,label='Redundancy 3',color=\"red\",linestyle=\":\")\n",
    "plt.fill_between(range(EPOCHS),mean_inj3-std_inj3,mean_inj3+std_inj3,alpha=0.2,color=\"red\")\n",
    "plt.plot(mean_inj9,label='Redundancy 9',color = \"lime\")\n",
    "plt.fill_between(range(EPOCHS),mean_inj9-std_inj9,mean_inj9+std_inj9,alpha=0.2)\n",
    "plt.xlabel('Epoch')\n",
    "plt.ylabel('Percent injectivity test set')\n",
    "plt.ylim([0,1.1])\n",
    "plt.legend()\n",
    "plt.gca().spines['top'].set_visible(False)\n",
    "plt.gca().spines['right'].set_visible(False)\n",
    "plt.grid(linestyle='--', alpha=0.5)"
   ]
  },
  {
   "cell_type": "code",
   "execution_count": null,
   "metadata": {},
   "outputs": [],
   "source": [
    "#safe data\n",
    "np.save('mean_inj2_mnist.npy',mean_inj2)\n",
    "np.save('std_inj2_mnist.npy',std_inj2)\n",
    "np.save('mean_inj3_mnist.npy',mean_inj3)\n",
    "np.save('std_inj3_mnist.npy',std_inj3)\n",
    "np.save('mean_inj9_mnist.npy',mean_inj9)\n",
    "np.save('std_inj9_mnist.npy',std_inj9)"
   ]
  },
  {
   "cell_type": "code",
   "execution_count": null,
   "metadata": {},
   "outputs": [],
   "source": []
  }
 ],
 "metadata": {
  "kernelspec": {
   "display_name": "pbe",
   "language": "python",
   "name": "python3"
  },
  "language_info": {
   "codemirror_mode": {
    "name": "ipython",
    "version": 3
   },
   "file_extension": ".py",
   "mimetype": "text/x-python",
   "name": "python",
   "nbconvert_exporter": "python",
   "pygments_lexer": "ipython3",
   "version": "3.11.5"
  }
 },
 "nbformat": 4,
 "nbformat_minor": 2
}
