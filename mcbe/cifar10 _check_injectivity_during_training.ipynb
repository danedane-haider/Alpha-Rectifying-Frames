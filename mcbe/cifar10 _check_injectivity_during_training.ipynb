{
 "cells": [
  {
   "cell_type": "code",
   "execution_count": 14,
   "metadata": {},
   "outputs": [
    {
     "name": "stdout",
     "output_type": "stream",
     "text": [
      "The autoreload extension is already loaded. To reload it, use:\n",
      "  %reload_ext autoreload\n"
     ]
    }
   ],
   "source": [
    "%load_ext autoreload\n",
    "%autoreload 2\n",
    "\n",
    "import numpy as np\n",
    "import pandas as pd\n",
    "import matplotlib.pyplot as plt\n",
    "\n",
    "import torch\n",
    "import torch.nn.functional as F\n",
    "import torch.nn as nn\n",
    "from torch.autograd import Variable\n",
    "\n",
    "import tqdm\n",
    "import os\n",
    "import mcbe\n",
    "from mpl_toolkits.mplot3d import Axes3D\n",
    "from sklearn.model_selection import train_test_split\n",
    "from sklearn.preprocessing import StandardScaler\n",
    "import keras.datasets\n",
    "from skimage.color import rgb2gray"
   ]
  },
  {
   "cell_type": "code",
   "execution_count": 15,
   "metadata": {},
   "outputs": [],
   "source": [
    "(X_train, y_train), (X_test, y_test) = keras.datasets.cifar10.load_data()"
   ]
  },
  {
   "cell_type": "code",
   "execution_count": 16,
   "metadata": {},
   "outputs": [],
   "source": [
    "#transform to grayscale\n",
    "X_train = rgb2gray(X_train)\n",
    "X_test = rgb2gray(X_test)"
   ]
  },
  {
   "cell_type": "code",
   "execution_count": 17,
   "metadata": {},
   "outputs": [],
   "source": [
    "X_train = np.array([X_train[i].flatten() for i in range(X_train.shape[0])])\n",
    "X_test = np.array([X_test[i].flatten() for i in range(X_test.shape[0])])"
   ]
  },
  {
   "cell_type": "code",
   "execution_count": 18,
   "metadata": {},
   "outputs": [],
   "source": [
    "#normalize data\n",
    "scaler = StandardScaler()\n",
    "X_train = scaler.fit_transform(X_train)\n",
    "X_test = scaler.transform(X_test)"
   ]
  },
  {
   "cell_type": "code",
   "execution_count": 20,
   "metadata": {},
   "outputs": [],
   "source": [
    "l2 = 256\n",
    "l3 = 128"
   ]
  },
  {
   "cell_type": "code",
   "execution_count": 21,
   "metadata": {},
   "outputs": [],
   "source": [
    "class Model(nn.Module):\n",
    "    def __init__(self, input_dim, l1):\n",
    "        super(Model, self).__init__()\n",
    "        self.layer1 = nn.Linear(input_dim, l1)\n",
    "        self.layer2 = nn.Linear(l1, l2)\n",
    "        self.layer3 = nn.Linear(l2, l3)\n",
    "        self.layer4 = nn.Linear(l3, 10)\n",
    "\n",
    "        \n",
    "    def forward(self, x):\n",
    "        x = F.relu(self.layer1(x))\n",
    "        x = F.relu(self.layer2(x))\n",
    "        x = F.relu(self.layer3(x))\n",
    "        x = F.softmax(self.layer4(x), dim=1)\n",
    "        return x"
   ]
  },
  {
   "cell_type": "code",
   "execution_count": 22,
   "metadata": {},
   "outputs": [],
   "source": [
    "\n",
    "X_train = Variable(torch.from_numpy(X_train)).float()\n",
    "y_train = Variable(torch.from_numpy(y_train)).long()\n",
    "X_test  = Variable(torch.from_numpy(X_test)).float()\n",
    "y_test  = Variable(torch.from_numpy(y_test)).long()"
   ]
  },
  {
   "cell_type": "code",
   "execution_count": 23,
   "metadata": {},
   "outputs": [],
   "source": [
    "y_train = y_train.squeeze()\n",
    "y_test = y_test.squeeze()"
   ]
  },
  {
   "cell_type": "markdown",
   "metadata": {},
   "source": [
    "# mean over multiple trainings"
   ]
  },
  {
   "cell_type": "code",
   "execution_count": 24,
   "metadata": {},
   "outputs": [],
   "source": [
    "EPOCHS = 50\n",
    "num_iter = 10\n",
    "percent_inj2 = []\n",
    "redundandency = 2"
   ]
  },
  {
   "cell_type": "code",
   "execution_count": 28,
   "metadata": {},
   "outputs": [
    {
     "name": "stderr",
     "output_type": "stream",
     "text": [
      "  0%|          | 0/10 [00:00<?, ?it/s]"
     ]
    },
    {
     "name": "stdout",
     "output_type": "stream",
     "text": [
      "Epoch 0: Loss 2.3024752140045166, Accuracy 0.15530000627040863\n",
      "check inj\n"
     ]
    },
    {
     "name": "stderr",
     "output_type": "stream",
     "text": []
    },
    {
     "name": "stdout",
     "output_type": "stream",
     "text": [
      "percent_inj:  0.504\n"
     ]
    },
    {
     "name": "stderr",
     "output_type": "stream",
     "text": []
    },
    {
     "name": "stdout",
     "output_type": "stream",
     "text": [
      "Epoch 5: Loss 2.3116636276245117, Accuracy 0.15160000324249268\n",
      "check inj\n"
     ]
    },
    {
     "name": "stderr",
     "output_type": "stream",
     "text": []
    },
    {
     "name": "stdout",
     "output_type": "stream",
     "text": [
      "percent_inj:  0.527\n"
     ]
    },
    {
     "name": "stderr",
     "output_type": "stream",
     "text": []
    },
    {
     "name": "stdout",
     "output_type": "stream",
     "text": [
      "Epoch 10: Loss 2.3094279766082764, Accuracy 0.15360000729560852\n",
      "check inj\n"
     ]
    },
    {
     "name": "stderr",
     "output_type": "stream",
     "text": []
    },
    {
     "name": "stdout",
     "output_type": "stream",
     "text": [
      "percent_inj:  0.519\n"
     ]
    },
    {
     "name": "stderr",
     "output_type": "stream",
     "text": [
      " 24%|██▍       | 12/50 [03:25<10:51, 17.15s/it]\n",
      "  0%|          | 0/10 [03:25<?, ?it/s]\n"
     ]
    },
    {
     "ename": "KeyboardInterrupt",
     "evalue": "",
     "output_type": "error",
     "traceback": [
      "\u001b[1;31m---------------------------------------------------------------------------\u001b[0m",
      "\u001b[1;31mKeyboardInterrupt\u001b[0m                         Traceback (most recent call last)",
      "Cell \u001b[1;32mIn[28], line 44\u001b[0m\n\u001b[0;32m     42\u001b[0m \u001b[38;5;66;03m# Zero gradients\u001b[39;00m\n\u001b[0;32m     43\u001b[0m optimizer\u001b[38;5;241m.\u001b[39mzero_grad()\n\u001b[1;32m---> 44\u001b[0m loss\u001b[38;5;241m.\u001b[39mbackward()\n\u001b[0;32m     45\u001b[0m optimizer\u001b[38;5;241m.\u001b[39mstep()\n\u001b[0;32m     47\u001b[0m \u001b[38;5;28;01mwith\u001b[39;00m torch\u001b[38;5;241m.\u001b[39mno_grad():\n",
      "File \u001b[1;32mc:\\Users\\heckert\\AppData\\Local\\anaconda3_new\\envs\\pbe\\Lib\\site-packages\\torch\\_tensor.py:487\u001b[0m, in \u001b[0;36mTensor.backward\u001b[1;34m(self, gradient, retain_graph, create_graph, inputs)\u001b[0m\n\u001b[0;32m    477\u001b[0m \u001b[38;5;28;01mif\u001b[39;00m has_torch_function_unary(\u001b[38;5;28mself\u001b[39m):\n\u001b[0;32m    478\u001b[0m     \u001b[38;5;28;01mreturn\u001b[39;00m handle_torch_function(\n\u001b[0;32m    479\u001b[0m         Tensor\u001b[38;5;241m.\u001b[39mbackward,\n\u001b[0;32m    480\u001b[0m         (\u001b[38;5;28mself\u001b[39m,),\n\u001b[1;32m   (...)\u001b[0m\n\u001b[0;32m    485\u001b[0m         inputs\u001b[38;5;241m=\u001b[39minputs,\n\u001b[0;32m    486\u001b[0m     )\n\u001b[1;32m--> 487\u001b[0m torch\u001b[38;5;241m.\u001b[39mautograd\u001b[38;5;241m.\u001b[39mbackward(\n\u001b[0;32m    488\u001b[0m     \u001b[38;5;28mself\u001b[39m, gradient, retain_graph, create_graph, inputs\u001b[38;5;241m=\u001b[39minputs\n\u001b[0;32m    489\u001b[0m )\n",
      "File \u001b[1;32mc:\\Users\\heckert\\AppData\\Local\\anaconda3_new\\envs\\pbe\\Lib\\site-packages\\torch\\autograd\\__init__.py:200\u001b[0m, in \u001b[0;36mbackward\u001b[1;34m(tensors, grad_tensors, retain_graph, create_graph, grad_variables, inputs)\u001b[0m\n\u001b[0;32m    195\u001b[0m     retain_graph \u001b[38;5;241m=\u001b[39m create_graph\n\u001b[0;32m    197\u001b[0m \u001b[38;5;66;03m# The reason we repeat same the comment below is that\u001b[39;00m\n\u001b[0;32m    198\u001b[0m \u001b[38;5;66;03m# some Python versions print out the first line of a multi-line function\u001b[39;00m\n\u001b[0;32m    199\u001b[0m \u001b[38;5;66;03m# calls in the traceback and some print out the last line\u001b[39;00m\n\u001b[1;32m--> 200\u001b[0m Variable\u001b[38;5;241m.\u001b[39m_execution_engine\u001b[38;5;241m.\u001b[39mrun_backward(  \u001b[38;5;66;03m# Calls into the C++ engine to run the backward pass\u001b[39;00m\n\u001b[0;32m    201\u001b[0m     tensors, grad_tensors_, retain_graph, create_graph, inputs,\n\u001b[0;32m    202\u001b[0m     allow_unreachable\u001b[38;5;241m=\u001b[39m\u001b[38;5;28;01mTrue\u001b[39;00m, accumulate_grad\u001b[38;5;241m=\u001b[39m\u001b[38;5;28;01mTrue\u001b[39;00m)\n",
      "\u001b[1;31mKeyboardInterrupt\u001b[0m: "
     ]
    }
   ],
   "source": [
    "for i in tqdm.trange(num_iter):\n",
    "\n",
    "    # size of the layers\n",
    "    l1 = 1024*redundandency\n",
    "\n",
    "    model     = Model(X_train.shape[1],l1)\n",
    "    optimizer = torch.optim.Adam(model.parameters(), lr=0.005)\n",
    "    loss_fn   = nn.CrossEntropyLoss()\n",
    "\n",
    "    weights = []\n",
    "    weights_norm = []\n",
    "    norms = []\n",
    "    biases = np.zeros([EPOCHS + 1,l1])\n",
    "    percent_inj_list = []\n",
    "\n",
    "    w1 = model.layer1.weight\n",
    "    b1 = model.layer1.bias\n",
    "    m1 = w1.shape[0]\n",
    "    n1 = w1.shape[1]\n",
    "    norm = w1.pow(2).sum(keepdim=True,dim=1).sqrt()\n",
    "    w1_norm = torch.div(w1,norm)\n",
    "    w1_norm[w1_norm == np.inf] = 0\n",
    "\n",
    "        \n",
    "    weights.append(w1.detach().numpy())\n",
    "    weights_norm.append(w1_norm.detach().numpy())\n",
    "    norms.append(norm.detach().numpy())\n",
    "    biases[0,:] = b1.detach().numpy()\n",
    "\n",
    "    #epoch counter\n",
    "    k = 1\n",
    "\n",
    "\n",
    "    loss_list     = np.zeros((EPOCHS,))\n",
    "    accuracy_list = np.zeros((EPOCHS,))\n",
    "\n",
    "    for epoch in tqdm.trange(EPOCHS):\n",
    "        y_pred = model(X_train)\n",
    "        loss = loss_fn(y_pred, y_train)\n",
    "        loss_list[epoch] = loss.item()\n",
    "        \n",
    "        # Zero gradients\n",
    "        optimizer.zero_grad()\n",
    "        loss.backward()\n",
    "        optimizer.step()\n",
    "        \n",
    "        with torch.no_grad():\n",
    "            y_pred = model(X_test)\n",
    "            correct = (torch.argmax(y_pred, dim=1) == y_test).type(torch.FloatTensor)\n",
    "            accuracy_list[epoch] = correct.mean()\n",
    "            if epoch % 5 == 0:\n",
    "                print(f\"Epoch {epoch}: Loss {loss.item()}, Accuracy {correct.mean()}\")\n",
    "        \n",
    "        \n",
    "        \n",
    "        w1 = model.layer1.weight\n",
    "        b1 = model.layer1.bias\n",
    "\n",
    "        if epoch % 5 == 0:\n",
    "            print(\"check inj\")\n",
    "            # check injectivity \n",
    "            percent_inj = mcbe.check_injectivity_naive(w1.detach().numpy(),b1.detach().numpy(),points=X_test[:1000,:],iter=X_test[:1000,:].shape[0])\n",
    "            percent_inj_list.append(percent_inj)\n",
    "            print(\"percent_inj: \", percent_inj)\n",
    "\n",
    "        norm = w1.pow(2).sum(keepdim=True,dim=1).sqrt()\n",
    "        w1_norm = torch.div(w1,norm)\n",
    "        w1_norm[w1_norm == np.inf] = 0\n",
    "        \n",
    "        weights.append(w1.detach().numpy())\n",
    "        weights_norm.append(w1_norm.detach().numpy())\n",
    "        norms.append(norm.detach().numpy())\n",
    "        biases[k,:] = b1.detach().numpy()\n",
    "        \n",
    "        k = k+1\n",
    "\n",
    "    percent_inj2.append(percent_inj_list)"
   ]
  },
  {
   "cell_type": "code",
   "execution_count": null,
   "metadata": {},
   "outputs": [],
   "source": [
    "mean_inj2 = np.mean(percent_inj2,axis=0)\n",
    "std_inj2 = np.std(percent_inj2,axis=0)\n",
    "np.save('mean_inj2_cifar.npy',mean_inj2)\n",
    "np.save('std_inj2_cifar.npy',std_inj2)"
   ]
  },
  {
   "cell_type": "code",
   "execution_count": null,
   "metadata": {},
   "outputs": [],
   "source": [
    "percent_inj3 = []\n",
    "redundandency = 3"
   ]
  },
  {
   "cell_type": "code",
   "execution_count": null,
   "metadata": {},
   "outputs": [],
   "source": [
    "for i in tqdm.trange(num_iter):\n",
    "\n",
    "    # size of the layers\n",
    "    l1 = 1024*redundandency\n",
    "\n",
    "    model     = Model(X_train.shape[1],l1)\n",
    "    optimizer = torch.optim.Adam(model.parameters(), lr=0.005)\n",
    "    loss_fn   = nn.CrossEntropyLoss()\n",
    "\n",
    "    weights = []\n",
    "    weights_norm = []\n",
    "    norms = []\n",
    "    biases = np.zeros([EPOCHS + 1,l1])\n",
    "    percent_inj_list = []\n",
    "\n",
    "    w1 = model.layer1.weight\n",
    "    b1 = model.layer1.bias\n",
    "    m1 = w1.shape[0]\n",
    "    n1 = w1.shape[1]\n",
    "    norm = w1.pow(2).sum(keepdim=True,dim=1).sqrt()\n",
    "    w1_norm = torch.div(w1,norm)\n",
    "    w1_norm[w1_norm == np.inf] = 0\n",
    "\n",
    "        \n",
    "    weights.append(w1.detach().numpy())\n",
    "    weights_norm.append(w1_norm.detach().numpy())\n",
    "    norms.append(norm.detach().numpy())\n",
    "    biases[0,:] = b1.detach().numpy()\n",
    "\n",
    "    #epoch counter\n",
    "    k = 1\n",
    "\n",
    "\n",
    "    loss_list     = np.zeros((EPOCHS,))\n",
    "    accuracy_list = np.zeros((EPOCHS,))\n",
    "\n",
    "    for epoch in tqdm.trange(EPOCHS):\n",
    "        y_pred = model(X_train)\n",
    "        loss = loss_fn(y_pred, y_train)\n",
    "        loss_list[epoch] = loss.item()\n",
    "        \n",
    "        # Zero gradients\n",
    "        optimizer.zero_grad()\n",
    "        loss.backward()\n",
    "        optimizer.step()\n",
    "        \n",
    "        with torch.no_grad():\n",
    "            y_pred = model(X_test)\n",
    "            correct = (torch.argmax(y_pred, dim=1) == y_test).type(torch.FloatTensor)\n",
    "            accuracy_list[epoch] = correct.mean()\n",
    "            if epoch % 5 == 0:\n",
    "                print(f\"Epoch {epoch}: Loss {loss.item()}, Accuracy {correct.mean()}\")\n",
    "        \n",
    "        \n",
    "        \n",
    "        w1 = model.layer1.weight\n",
    "        b1 = model.layer1.bias\n",
    "\n",
    "        if epoch % 5 == 0:\n",
    "            print(\"check inj\")\n",
    "            # check injectivity \n",
    "            percent_inj = mcbe.check_injectivity_naive(w1.detach().numpy(),b1.detach().numpy(),points=X_test[:1000,:],iter=X_test[:1000,:].shape[0])\n",
    "            percent_inj_list.append(percent_inj)\n",
    "            print(\"percent_inj: \", percent_inj)\n",
    "\n",
    "        norm = w1.pow(2).sum(keepdim=True,dim=1).sqrt()\n",
    "        w1_norm = torch.div(w1,norm)\n",
    "        w1_norm[w1_norm == np.inf] = 0\n",
    "        \n",
    "        weights.append(w1.detach().numpy())\n",
    "        weights_norm.append(w1_norm.detach().numpy())\n",
    "        norms.append(norm.detach().numpy())\n",
    "        biases[k,:] = b1.detach().numpy()\n",
    "        \n",
    "        k = k+1\n",
    "\n",
    "    percent_inj3.append(percent_inj_list)"
   ]
  },
  {
   "cell_type": "code",
   "execution_count": null,
   "metadata": {},
   "outputs": [],
   "source": [
    "mean_inj3 = np.mean(percent_inj3,axis=0)\n",
    "std_inj3 = np.std(percent_inj3,axis=0)\n",
    "np.save('mean_inj3_cifar.npy',mean_inj3)\n",
    "np.save('std_inj3_cifar.npy',std_inj3)"
   ]
  },
  {
   "cell_type": "code",
   "execution_count": null,
   "metadata": {},
   "outputs": [],
   "source": [
    "percent_inj9 = []\n",
    "redundandency = 9"
   ]
  },
  {
   "cell_type": "code",
   "execution_count": null,
   "metadata": {},
   "outputs": [],
   "source": [
    "for i in tqdm.trange(num_iter):\n",
    "\n",
    "    # size of the layers\n",
    "    l1 = 1024*redundandency\n",
    "\n",
    "    model     = Model(X_train.shape[1],l1)\n",
    "    optimizer = torch.optim.Adam(model.parameters(), lr=0.005)\n",
    "    loss_fn   = nn.CrossEntropyLoss()\n",
    "\n",
    "    weights = []\n",
    "    weights_norm = []\n",
    "    norms = []\n",
    "    biases = np.zeros([EPOCHS + 1,l1])\n",
    "    percent_inj_list = []\n",
    "\n",
    "    w1 = model.layer1.weight\n",
    "    b1 = model.layer1.bias\n",
    "    m1 = w1.shape[0]\n",
    "    n1 = w1.shape[1]\n",
    "    norm = w1.pow(2).sum(keepdim=True,dim=1).sqrt()\n",
    "    w1_norm = torch.div(w1,norm)\n",
    "    w1_norm[w1_norm == np.inf] = 0\n",
    "\n",
    "        \n",
    "    weights.append(w1.detach().numpy())\n",
    "    weights_norm.append(w1_norm.detach().numpy())\n",
    "    norms.append(norm.detach().numpy())\n",
    "    biases[0,:] = b1.detach().numpy()\n",
    "\n",
    "    #epoch counter\n",
    "    k = 1\n",
    "\n",
    "\n",
    "    loss_list     = np.zeros((EPOCHS,))\n",
    "    accuracy_list = np.zeros((EPOCHS,))\n",
    "\n",
    "    for epoch in tqdm.trange(EPOCHS):\n",
    "        y_pred = model(X_train)\n",
    "        loss = loss_fn(y_pred, y_train)\n",
    "        loss_list[epoch] = loss.item()\n",
    "        \n",
    "        # Zero gradients\n",
    "        optimizer.zero_grad()\n",
    "        loss.backward()\n",
    "        optimizer.step()\n",
    "        \n",
    "        with torch.no_grad():\n",
    "            y_pred = model(X_test)\n",
    "            correct = (torch.argmax(y_pred, dim=1) == y_test).type(torch.FloatTensor)\n",
    "            accuracy_list[epoch] = correct.mean()\n",
    "            if epoch % 5 == 0:\n",
    "                print(f\"Epoch {epoch}: Loss {loss.item()}, Accuracy {correct.mean()}\")\n",
    "        \n",
    "        \n",
    "        \n",
    "        w1 = model.layer1.weight\n",
    "        b1 = model.layer1.bias\n",
    "\n",
    "        if epoch % 5 == 0:\n",
    "            print(\"check inj\")\n",
    "            # check injectivity \n",
    "            percent_inj = mcbe.check_injectivity_naive(w1.detach().numpy(),b1.detach().numpy(),points=X_test[:1000,:],iter=X_test[:1000,:].shape[0])\n",
    "            percent_inj_list.append(percent_inj)\n",
    "            print(\"percent_inj: \", percent_inj)\n",
    "\n",
    "        norm = w1.pow(2).sum(keepdim=True,dim=1).sqrt()\n",
    "        w1_norm = torch.div(w1,norm)\n",
    "        w1_norm[w1_norm == np.inf] = 0\n",
    "        \n",
    "        weights.append(w1.detach().numpy())\n",
    "        weights_norm.append(w1_norm.detach().numpy())\n",
    "        norms.append(norm.detach().numpy())\n",
    "        biases[k,:] = b1.detach().numpy()\n",
    "        \n",
    "        k = k+1\n",
    "\n",
    "    percent_inj9.append(percent_inj_list)"
   ]
  },
  {
   "cell_type": "code",
   "execution_count": null,
   "metadata": {},
   "outputs": [],
   "source": [
    "mean_inj9 = np.mean(percent_inj9,axis=0)\n",
    "std_inj9 = np.std(percent_inj9,axis=0)\n",
    "np.save('mean_inj9_cifar.npy',mean_inj9)\n",
    "np.save('std_inj9_cifar.npy',std_inj9)"
   ]
  }
 ],
 "metadata": {
  "kernelspec": {
   "display_name": "pbe",
   "language": "python",
   "name": "python3"
  },
  "language_info": {
   "codemirror_mode": {
    "name": "ipython",
    "version": 3
   },
   "file_extension": ".py",
   "mimetype": "text/x-python",
   "name": "python",
   "nbconvert_exporter": "python",
   "pygments_lexer": "ipython3",
   "version": "3.11.5"
  }
 },
 "nbformat": 4,
 "nbformat_minor": 2
}
