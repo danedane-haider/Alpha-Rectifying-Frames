{
 "cells": [
  {
   "cell_type": "code",
   "execution_count": 2,
   "metadata": {},
   "outputs": [
    {
     "name": "stdout",
     "output_type": "stream",
     "text": [
      "WARNING:tensorflow:From c:\\Users\\heckert\\AppData\\Local\\anaconda3_new\\envs\\pbe\\Lib\\site-packages\\keras\\src\\losses.py:2976: The name tf.losses.sparse_softmax_cross_entropy is deprecated. Please use tf.compat.v1.losses.sparse_softmax_cross_entropy instead.\n",
      "\n"
     ]
    }
   ],
   "source": [
    "%load_ext autoreload\n",
    "%autoreload 2\n",
    "\n",
    "import numpy as np\n",
    "import pandas as pd\n",
    "import matplotlib.pyplot as plt\n",
    "\n",
    "import torch\n",
    "import torch.nn.functional as F\n",
    "import torch.nn as nn\n",
    "from torch.autograd import Variable\n",
    "\n",
    "import tqdm\n",
    "import os\n",
    "import mcbe\n",
    "from mpl_toolkits.mplot3d import Axes3D\n",
    "from sklearn.model_selection import train_test_split\n",
    "from sklearn.preprocessing import StandardScaler\n",
    "import keras.datasets"
   ]
  },
  {
   "cell_type": "code",
   "execution_count": 24,
   "metadata": {},
   "outputs": [],
   "source": [
    "(X_train, y_train), (X_test, y_test) = keras.datasets.mnist.load_data()\n"
   ]
  },
  {
   "cell_type": "code",
   "execution_count": 25,
   "metadata": {},
   "outputs": [],
   "source": [
    "X_train = np.array([X_train[i].flatten() for i in range(X_train.shape[0])])\n",
    "X_test = np.array([X_test[i].flatten() for i in range(X_test.shape[0])])"
   ]
  },
  {
   "cell_type": "code",
   "execution_count": 26,
   "metadata": {},
   "outputs": [],
   "source": [
    "#normalize data\n",
    "scaler = StandardScaler()\n",
    "X_train = scaler.fit_transform(X_train)\n",
    "X_test = scaler.transform(X_test)"
   ]
  },
  {
   "cell_type": "code",
   "execution_count": 6,
   "metadata": {},
   "outputs": [],
   "source": [
    "# size of the layers\n",
    "l1 = 1024\n",
    "l2 = 128\n"
   ]
  },
  {
   "cell_type": "code",
   "execution_count": 7,
   "metadata": {},
   "outputs": [],
   "source": [
    "class Model(nn.Module):\n",
    "    def __init__(self, input_dim, l1):\n",
    "        super(Model, self).__init__()\n",
    "        self.layer1 = nn.Linear(input_dim, l1)\n",
    "        self.layer2 = nn.Linear(l1, l2)\n",
    "        self.layer3 = nn.Linear(l2, 10)\n",
    "        \n",
    "    def forward(self, x):\n",
    "        x = F.relu(self.layer1(x))\n",
    "        x = F.relu(self.layer2(x))\n",
    "        x = F.softmax(self.layer3(x), dim=1)\n",
    "        return x"
   ]
  },
  {
   "cell_type": "code",
   "execution_count": 8,
   "metadata": {},
   "outputs": [
    {
     "data": {
      "text/plain": [
       "Model(\n",
       "  (layer1): Linear(in_features=784, out_features=1024, bias=True)\n",
       "  (layer2): Linear(in_features=1024, out_features=128, bias=True)\n",
       "  (layer3): Linear(in_features=128, out_features=10, bias=True)\n",
       ")"
      ]
     },
     "execution_count": 8,
     "metadata": {},
     "output_type": "execute_result"
    }
   ],
   "source": [
    "model     = Model(X_train.shape[1],l1)\n",
    "optimizer = torch.optim.Adam(model.parameters(), lr=0.01)\n",
    "loss_fn   = nn.CrossEntropyLoss()\n",
    "model"
   ]
  },
  {
   "cell_type": "code",
   "execution_count": 27,
   "metadata": {},
   "outputs": [],
   "source": [
    "\n",
    "X_train = Variable(torch.from_numpy(X_train)).float()\n",
    "y_train = Variable(torch.from_numpy(y_train)).long()\n",
    "X_test  = Variable(torch.from_numpy(X_test)).float()\n",
    "y_test  = Variable(torch.from_numpy(y_test)).long()"
   ]
  },
  {
   "cell_type": "code",
   "execution_count": 78,
   "metadata": {},
   "outputs": [
    {
     "name": "stderr",
     "output_type": "stream",
     "text": [
      "  2%|▏         | 1/50 [00:07<06:21,  7.79s/it]"
     ]
    },
    {
     "name": "stdout",
     "output_type": "stream",
     "text": [
      "Epoch 0: Loss 1.60113525390625, Accuracy 0.8540999889373779\n"
     ]
    },
    {
     "name": "stderr",
     "output_type": "stream",
     "text": [
      " 12%|█▏        | 6/50 [00:43<05:20,  7.28s/it]"
     ]
    },
    {
     "name": "stdout",
     "output_type": "stream",
     "text": [
      "Epoch 5: Loss 1.5988787412643433, Accuracy 0.8557000160217285\n"
     ]
    },
    {
     "name": "stderr",
     "output_type": "stream",
     "text": [
      " 22%|██▏       | 11/50 [01:18<04:30,  6.95s/it]"
     ]
    },
    {
     "name": "stdout",
     "output_type": "stream",
     "text": [
      "Epoch 10: Loss 1.5970122814178467, Accuracy 0.8578000068664551\n"
     ]
    },
    {
     "name": "stderr",
     "output_type": "stream",
     "text": [
      " 32%|███▏      | 16/50 [01:52<03:54,  6.91s/it]"
     ]
    },
    {
     "name": "stdout",
     "output_type": "stream",
     "text": [
      "Epoch 15: Loss 1.5952856540679932, Accuracy 0.8590999841690063\n"
     ]
    },
    {
     "name": "stderr",
     "output_type": "stream",
     "text": [
      " 38%|███▊      | 19/50 [02:23<03:53,  7.53s/it]\n"
     ]
    },
    {
     "ename": "KeyboardInterrupt",
     "evalue": "",
     "output_type": "error",
     "traceback": [
      "\u001b[1;31m---------------------------------------------------------------------------\u001b[0m",
      "\u001b[1;31mKeyboardInterrupt\u001b[0m                         Traceback (most recent call last)",
      "Cell \u001b[1;32mIn[78], line 38\u001b[0m\n\u001b[0;32m     36\u001b[0m \u001b[38;5;66;03m# Zero gradients\u001b[39;00m\n\u001b[0;32m     37\u001b[0m optimizer\u001b[38;5;241m.\u001b[39mzero_grad()\n\u001b[1;32m---> 38\u001b[0m loss\u001b[38;5;241m.\u001b[39mbackward()\n\u001b[0;32m     39\u001b[0m optimizer\u001b[38;5;241m.\u001b[39mstep()\n\u001b[0;32m     41\u001b[0m \u001b[38;5;28;01mwith\u001b[39;00m torch\u001b[38;5;241m.\u001b[39mno_grad():\n",
      "File \u001b[1;32mc:\\Users\\heckert\\AppData\\Local\\anaconda3_new\\envs\\pbe\\Lib\\site-packages\\torch\\_tensor.py:487\u001b[0m, in \u001b[0;36mTensor.backward\u001b[1;34m(self, gradient, retain_graph, create_graph, inputs)\u001b[0m\n\u001b[0;32m    477\u001b[0m \u001b[38;5;28;01mif\u001b[39;00m has_torch_function_unary(\u001b[38;5;28mself\u001b[39m):\n\u001b[0;32m    478\u001b[0m     \u001b[38;5;28;01mreturn\u001b[39;00m handle_torch_function(\n\u001b[0;32m    479\u001b[0m         Tensor\u001b[38;5;241m.\u001b[39mbackward,\n\u001b[0;32m    480\u001b[0m         (\u001b[38;5;28mself\u001b[39m,),\n\u001b[1;32m   (...)\u001b[0m\n\u001b[0;32m    485\u001b[0m         inputs\u001b[38;5;241m=\u001b[39minputs,\n\u001b[0;32m    486\u001b[0m     )\n\u001b[1;32m--> 487\u001b[0m torch\u001b[38;5;241m.\u001b[39mautograd\u001b[38;5;241m.\u001b[39mbackward(\n\u001b[0;32m    488\u001b[0m     \u001b[38;5;28mself\u001b[39m, gradient, retain_graph, create_graph, inputs\u001b[38;5;241m=\u001b[39minputs\n\u001b[0;32m    489\u001b[0m )\n",
      "File \u001b[1;32mc:\\Users\\heckert\\AppData\\Local\\anaconda3_new\\envs\\pbe\\Lib\\site-packages\\torch\\autograd\\__init__.py:200\u001b[0m, in \u001b[0;36mbackward\u001b[1;34m(tensors, grad_tensors, retain_graph, create_graph, grad_variables, inputs)\u001b[0m\n\u001b[0;32m    195\u001b[0m     retain_graph \u001b[38;5;241m=\u001b[39m create_graph\n\u001b[0;32m    197\u001b[0m \u001b[38;5;66;03m# The reason we repeat same the comment below is that\u001b[39;00m\n\u001b[0;32m    198\u001b[0m \u001b[38;5;66;03m# some Python versions print out the first line of a multi-line function\u001b[39;00m\n\u001b[0;32m    199\u001b[0m \u001b[38;5;66;03m# calls in the traceback and some print out the last line\u001b[39;00m\n\u001b[1;32m--> 200\u001b[0m Variable\u001b[38;5;241m.\u001b[39m_execution_engine\u001b[38;5;241m.\u001b[39mrun_backward(  \u001b[38;5;66;03m# Calls into the C++ engine to run the backward pass\u001b[39;00m\n\u001b[0;32m    201\u001b[0m     tensors, grad_tensors_, retain_graph, create_graph, inputs,\n\u001b[0;32m    202\u001b[0m     allow_unreachable\u001b[38;5;241m=\u001b[39m\u001b[38;5;28;01mTrue\u001b[39;00m, accumulate_grad\u001b[38;5;241m=\u001b[39m\u001b[38;5;28;01mTrue\u001b[39;00m)\n",
      "\u001b[1;31mKeyboardInterrupt\u001b[0m: "
     ]
    }
   ],
   "source": [
    "#initialize lists\n",
    "\n",
    "EPOCHS  = 50\n",
    "\n",
    "weights = []\n",
    "weights_norm = []\n",
    "norms = []\n",
    "biases = np.zeros([EPOCHS + 1,l1])\n",
    "\n",
    "w1 = model.layer1.weight\n",
    "b1 = model.layer1.bias\n",
    "m1 = w1.shape[0]\n",
    "n1 = w1.shape[1]\n",
    "norm = w1.pow(2).sum(keepdim=True,dim=1).sqrt()\n",
    "w1_norm = torch.div(w1,norm)\n",
    "w1_norm[w1_norm == np.inf] = 0\n",
    "\n",
    "    \n",
    "weights.append(w1.detach().numpy())\n",
    "weights_norm.append(w1_norm.detach().numpy())\n",
    "norms.append(norm.detach().numpy())\n",
    "biases[0,:] = b1.detach().numpy()\n",
    "\n",
    "#epoch counter\n",
    "k = 1\n",
    "\n",
    "\n",
    "loss_list     = np.zeros((EPOCHS,))\n",
    "accuracy_list = np.zeros((EPOCHS,))\n",
    "\n",
    "for epoch in tqdm.trange(EPOCHS):\n",
    "    y_pred = model(X_train)\n",
    "    loss = loss_fn(y_pred, y_train)\n",
    "    loss_list[epoch] = loss.item()\n",
    "    \n",
    "    # Zero gradients\n",
    "    optimizer.zero_grad()\n",
    "    loss.backward()\n",
    "    optimizer.step()\n",
    "    \n",
    "    with torch.no_grad():\n",
    "        y_pred = model(X_test)\n",
    "        correct = (torch.argmax(y_pred, dim=1) == y_test).type(torch.FloatTensor)\n",
    "        accuracy_list[epoch] = correct.mean()\n",
    "        if epoch % 5 == 0:\n",
    "            print(f\"Epoch {epoch}: Loss {loss.item()}, Accuracy {correct.mean()}\")\n",
    "    \n",
    "    \n",
    "    \n",
    "    w1 = model.layer1.weight\n",
    "    b1 = model.layer1.bias\n",
    "\n",
    "    norm = w1.pow(2).sum(keepdim=True,dim=1).sqrt()\n",
    "    w1_norm = torch.div(w1,norm)\n",
    "    w1_norm[w1_norm == np.inf] = 0\n",
    "    \n",
    "    weights.append(w1.detach().numpy())\n",
    "    weights_norm.append(w1_norm.detach().numpy())\n",
    "    norms.append(norm.detach().numpy())\n",
    "    biases[k,:] = b1.detach().numpy()\n",
    "    \n",
    "    k = k+1\n",
    "   \n",
    "accuracy_list"
   ]
  },
  {
   "cell_type": "code",
   "execution_count": 11,
   "metadata": {},
   "outputs": [
    {
     "data": {
      "text/plain": [
       "Text(0, 0.5, 'Accuracy')"
      ]
     },
     "execution_count": 11,
     "metadata": {},
     "output_type": "execute_result"
    },
    {
     "data": {
      "image/png": "[encoded data removed]",
      "text/plain": [
       "<Figure size 640x480 with 1 Axes>"
      ]
     },
     "metadata": {},
     "output_type": "display_data"
    }
   ],
   "source": [
    "plt.plot(accuracy_list)\n",
    "plt.xlabel('Epoch')\n",
    "plt.ylabel('Accuracy')"
   ]
  },
  {
   "cell_type": "code",
   "execution_count": 37,
   "metadata": {},
   "outputs": [
    {
     "data": {
      "text/plain": [
       "torch.Size([60000, 784])"
      ]
     },
     "execution_count": 37,
     "metadata": {},
     "output_type": "execute_result"
    }
   ],
   "source": [
    "X_train.shape"
   ]
  },
  {
   "cell_type": "code",
   "execution_count": 38,
   "metadata": {},
   "outputs": [
    {
     "data": {
      "text/plain": [
       "torch.Size([10000, 784])"
      ]
     },
     "execution_count": 38,
     "metadata": {},
     "output_type": "execute_result"
    }
   ],
   "source": [
    "X_test.shape"
   ]
  },
  {
   "cell_type": "code",
   "execution_count": 77,
   "metadata": {},
   "outputs": [],
   "source": [
    "est_alpha_kd = mcbe.dd_mcbe(np.array(weights)[-1], X_train, num_estimation_points=10000, dd_method=\"blowup\")"
   ]
  },
  {
   "cell_type": "code",
   "execution_count": 66,
   "metadata": {},
   "outputs": [
    {
     "name": "stderr",
     "output_type": "stream",
     "text": [
      "  1%|          | 683/100000 [00:10<25:06, 65.92it/s]\n"
     ]
    },
    {
     "ename": "KeyboardInterrupt",
     "evalue": "",
     "output_type": "error",
     "traceback": [
      "\u001b[1;31m---------------------------------------------------------------------------\u001b[0m",
      "\u001b[1;31mKeyboardInterrupt\u001b[0m                         Traceback (most recent call last)",
      "Cell \u001b[1;32mIn[66], line 1\u001b[0m\n\u001b[1;32m----> 1\u001b[0m est_alpha_kd \u001b[38;5;241m=\u001b[39m mcbe\u001b[38;5;241m.\u001b[39mdd_mcbe(np\u001b[38;5;241m.\u001b[39marray(weights)[\u001b[38;5;241m-\u001b[39m\u001b[38;5;241m1\u001b[39m], X_train, num_estimation_points\u001b[38;5;241m=\u001b[39m\u001b[38;5;241m100000\u001b[39m, dd_method\u001b[38;5;241m=\u001b[39m\u001b[38;5;124m\"\u001b[39m\u001b[38;5;124mkde\u001b[39m\u001b[38;5;124m\"\u001b[39m)\n\u001b[0;32m      2\u001b[0m \u001b[38;5;28mprint\u001b[39m(\u001b[38;5;124m\"\u001b[39m\u001b[38;5;124mdone\u001b[39m\u001b[38;5;124m\"\u001b[39m)\n\u001b[0;32m      3\u001b[0m percent_inj_kd \u001b[38;5;241m=\u001b[39m mcbe\u001b[38;5;241m.\u001b[39mcheck_injectivity_naive(W \u001b[38;5;241m=\u001b[39m np\u001b[38;5;241m.\u001b[39marray(weights)[\u001b[38;5;241m-\u001b[39m\u001b[38;5;241m1\u001b[39m], b\u001b[38;5;241m=\u001b[39mest_alpha_kd, points\u001b[38;5;241m=\u001b[39mX_test[:\u001b[38;5;241m1000\u001b[39m,:],\u001b[38;5;28miter\u001b[39m\u001b[38;5;241m=\u001b[39mX_test\u001b[38;5;241m.\u001b[39mshape[\u001b[38;5;241m0\u001b[39m])\n",
      "File \u001b[1;32mc:\\Users\\heckert\\Documents\\GitHub\\Alpha-rectifying-frames\\mcbe\\mcbe.py:443\u001b[0m, in \u001b[0;36mdd_mcbe\u001b[1;34m(W, X_train, num_estimation_points, dd_method, var_dd, initialze)\u001b[0m\n\u001b[0;32m    440\u001b[0m     \u001b[38;5;28;01melse\u001b[39;00m:\n\u001b[0;32m    441\u001b[0m         \u001b[38;5;28;01mraise\u001b[39;00m \u001b[38;5;167;01mValueError\u001b[39;00m(\u001b[38;5;124m\"\u001b[39m\u001b[38;5;124mdd_method not found\u001b[39m\u001b[38;5;124m\"\u001b[39m)\n\u001b[1;32m--> 443\u001b[0m corr_x_vert \u001b[38;5;241m=\u001b[39m np\u001b[38;5;241m.\u001b[39marray([np\u001b[38;5;241m.\u001b[39mdot(point, phi) \u001b[38;5;28;01mfor\u001b[39;00m phi \u001b[38;5;129;01min\u001b[39;00m W])\u001b[38;5;241m.\u001b[39mflatten()\n\u001b[0;32m    445\u001b[0m \u001b[38;5;66;03m# find the d-nearest point of the polytope\u001b[39;00m\n\u001b[0;32m    446\u001b[0m idx \u001b[38;5;241m=\u001b[39m np\u001b[38;5;241m.\u001b[39margsort(corr_x_vert)[\u001b[38;5;241m-\u001b[39md]\n",
      "File \u001b[1;32mc:\\Users\\heckert\\Documents\\GitHub\\Alpha-rectifying-frames\\mcbe\\mcbe.py:443\u001b[0m, in \u001b[0;36m<listcomp>\u001b[1;34m(.0)\u001b[0m\n\u001b[0;32m    440\u001b[0m     \u001b[38;5;28;01melse\u001b[39;00m:\n\u001b[0;32m    441\u001b[0m         \u001b[38;5;28;01mraise\u001b[39;00m \u001b[38;5;167;01mValueError\u001b[39;00m(\u001b[38;5;124m\"\u001b[39m\u001b[38;5;124mdd_method not found\u001b[39m\u001b[38;5;124m\"\u001b[39m)\n\u001b[1;32m--> 443\u001b[0m corr_x_vert \u001b[38;5;241m=\u001b[39m np\u001b[38;5;241m.\u001b[39marray([np\u001b[38;5;241m.\u001b[39mdot(point, phi) \u001b[38;5;28;01mfor\u001b[39;00m phi \u001b[38;5;129;01min\u001b[39;00m W])\u001b[38;5;241m.\u001b[39mflatten()\n\u001b[0;32m    445\u001b[0m \u001b[38;5;66;03m# find the d-nearest point of the polytope\u001b[39;00m\n\u001b[0;32m    446\u001b[0m idx \u001b[38;5;241m=\u001b[39m np\u001b[38;5;241m.\u001b[39margsort(corr_x_vert)[\u001b[38;5;241m-\u001b[39md]\n",
      "\u001b[1;31mKeyboardInterrupt\u001b[0m: "
     ]
    }
   ],
   "source": [
    "est_alpha_kd = mcbe.dd_mcbe(np.array(weights)[-1], X_train, num_estimation_points=100000, dd_method=\"kde\")\n",
    "print(\"done\")\n",
    "percent_inj_kd = mcbe.check_injectivity_naive(W = np.array(weights)[-1], b=est_alpha_kd, points=X_test[:1000,:],iter=X_test.shape[0])\n",
    "percent_inj_kd"
   ]
  },
  {
   "cell_type": "code",
   "execution_count": 21,
   "metadata": {},
   "outputs": [
    {
     "name": "stderr",
     "output_type": "stream",
     "text": [
      "  0%|          | 0/10 [00:00<?, ?it/s]"
     ]
    },
    {
     "name": "stdout",
     "output_type": "stream",
     "text": [
      "kernel done\n",
      "blowup done\n"
     ]
    },
    {
     "name": "stderr",
     "output_type": "stream",
     "text": [
      "  0%|          | 0/10 [12:10<?, ?it/s]\n"
     ]
    },
    {
     "ename": "KeyboardInterrupt",
     "evalue": "",
     "output_type": "error",
     "traceback": [
      "\u001b[1;31m---------------------------------------------------------------------------\u001b[0m",
      "\u001b[1;31mKeyboardInterrupt\u001b[0m                         Traceback (most recent call last)",
      "Cell \u001b[1;32mIn[21], line 26\u001b[0m\n\u001b[0;32m     23\u001b[0m \u001b[38;5;28mprint\u001b[39m(\u001b[38;5;124m\"\u001b[39m\u001b[38;5;124mblowup done\u001b[39m\u001b[38;5;124m\"\u001b[39m)\n\u001b[0;32m     25\u001b[0m \u001b[38;5;66;03m#mcbe\u001b[39;00m\n\u001b[1;32m---> 26\u001b[0m est_alpha \u001b[38;5;241m=\u001b[39m mcbe\u001b[38;5;241m.\u001b[39mmcbe(polytope\u001b[38;5;241m=\u001b[39mnp\u001b[38;5;241m.\u001b[39marray(weights)[\u001b[38;5;241m-\u001b[39m\u001b[38;5;241m1\u001b[39m],N\u001b[38;5;241m=\u001b[39mnum_estimation_points,distribution\u001b[38;5;241m=\u001b[39m\u001b[38;5;124m\"\u001b[39m\u001b[38;5;124mnormal\u001b[39m\u001b[38;5;124m\"\u001b[39m,radius\u001b[38;5;241m=\u001b[39mnp\u001b[38;5;241m.\u001b[39mmax(np\u001b[38;5;241m.\u001b[39marray(X_train)), sample_on_sphere\u001b[38;5;241m=\u001b[39m\u001b[38;5;28;01mFalse\u001b[39;00m)\n\u001b[0;32m     27\u001b[0m percent_inj \u001b[38;5;241m=\u001b[39m mcbe\u001b[38;5;241m.\u001b[39mcheck_injectivity_naive(W \u001b[38;5;241m=\u001b[39m np\u001b[38;5;241m.\u001b[39marray(weights)[\u001b[38;5;241m-\u001b[39m\u001b[38;5;241m1\u001b[39m], b\u001b[38;5;241m=\u001b[39mest_alpha, points\u001b[38;5;241m=\u001b[39mX_test,\u001b[38;5;28miter\u001b[39m\u001b[38;5;241m=\u001b[39mX_test\u001b[38;5;241m.\u001b[39mshape[\u001b[38;5;241m0\u001b[39m])\n\u001b[0;32m     28\u001b[0m inj_mcbe\u001b[38;5;241m.\u001b[39mappend(percent_inj)\n",
      "File \u001b[1;32mc:\\Users\\heckert\\Documents\\GitHub\\Alpha-rectifying-frames\\mcbe\\mcbe.py:240\u001b[0m, in \u001b[0;36mmcbe\u001b[1;34m(polytope, N, distribution, radius, radius_inner, give_subframes, plot, iter_plot, K_positive, init, sample_on_sphere, return_alpha_list, return_plot_data, remove_covering_radius)\u001b[0m\n\u001b[0;32m    237\u001b[0m     point \u001b[38;5;241m=\u001b[39m get_point(distribution, d, radius, radius_inner, positive\u001b[38;5;241m=\u001b[39mpositive, nonnegative\u001b[38;5;241m=\u001b[39mnonnegative)\n\u001b[0;32m    238\u001b[0m     points\u001b[38;5;241m.\u001b[39mappend(point)\n\u001b[1;32m--> 240\u001b[0m corr_x_vert \u001b[38;5;241m=\u001b[39m [np\u001b[38;5;241m.\u001b[39mdot(point, phi) \u001b[38;5;28;01mfor\u001b[39;00m phi \u001b[38;5;129;01min\u001b[39;00m polytope]\n\u001b[0;32m    242\u001b[0m \u001b[38;5;66;03m#find subframes\u001b[39;00m\n\u001b[0;32m    243\u001b[0m \u001b[38;5;28;01mif\u001b[39;00m give_subframes \u001b[38;5;241m==\u001b[39m \u001b[38;5;28;01mTrue\u001b[39;00m:\n",
      "File \u001b[1;32mc:\\Users\\heckert\\Documents\\GitHub\\Alpha-rectifying-frames\\mcbe\\mcbe.py:240\u001b[0m, in \u001b[0;36m<listcomp>\u001b[1;34m(.0)\u001b[0m\n\u001b[0;32m    237\u001b[0m     point \u001b[38;5;241m=\u001b[39m get_point(distribution, d, radius, radius_inner, positive\u001b[38;5;241m=\u001b[39mpositive, nonnegative\u001b[38;5;241m=\u001b[39mnonnegative)\n\u001b[0;32m    238\u001b[0m     points\u001b[38;5;241m.\u001b[39mappend(point)\n\u001b[1;32m--> 240\u001b[0m corr_x_vert \u001b[38;5;241m=\u001b[39m [np\u001b[38;5;241m.\u001b[39mdot(point, phi) \u001b[38;5;28;01mfor\u001b[39;00m phi \u001b[38;5;129;01min\u001b[39;00m polytope]\n\u001b[0;32m    242\u001b[0m \u001b[38;5;66;03m#find subframes\u001b[39;00m\n\u001b[0;32m    243\u001b[0m \u001b[38;5;28;01mif\u001b[39;00m give_subframes \u001b[38;5;241m==\u001b[39m \u001b[38;5;28;01mTrue\u001b[39;00m:\n",
      "\u001b[1;31mKeyboardInterrupt\u001b[0m: "
     ]
    }
   ],
   "source": [
    "num_iter = 10\n",
    "num_estimation_points = 100000\n",
    "\n",
    "inj_kd = []\n",
    "inj_rd = []\n",
    "inj_blowup = []\n",
    "inj_mcbe = []\n",
    "inj_og = []\n",
    "inj_small_bias = []\n",
    "\n",
    "for i in tqdm.tqdm(range(num_iter)):\n",
    "\n",
    "    #kernel density estimation\n",
    "    est_alpha_kd = mcbe.dd_mcbe(np.array(weights)[-1], X_train, num_estimation_points, dd_method=\"kd\")\n",
    "    percent_inj_kd = mcbe.check_injectivity_naive(W = np.array(weights)[-1], b=est_alpha_kd, points=X_test,iter=X_test.shape[0])\n",
    "    inj_kd.append(percent_inj_kd)\n",
    "\n",
    "    #blown up data\n",
    "    est_alpha_blowup = mcbe.dd_mcbe(np.array(weights)[-1], X_train,  num_estimation_points, dd_method=\"blowup\")\n",
    "    percent_inj_blowup = mcbe.check_injectivity_naive(W = np.array(weights)[-1], b=est_alpha_blowup, points=X_test,iter=X_test.shape[0])\n",
    "    inj_blowup.append(percent_inj_blowup)\n",
    "\n",
    "    #mcbe\n",
    "    est_alpha = mcbe.mcbe(polytope=np.array(weights)[-1],N=num_estimation_points,distribution=\"normal\",radius=np.max(np.array(X_train)), sample_on_sphere=False)\n",
    "    percent_inj = mcbe.check_injectivity_naive(W = np.array(weights)[-1], b=est_alpha, points=X_test,iter=X_test.shape[0])\n",
    "    inj_mcbe.append(percent_inj)\n",
    "\n",
    "\n",
    "    \n",
    "\n",
    "\n",
    "\n",
    "    "
   ]
  },
  {
   "cell_type": "code",
   "execution_count": null,
   "metadata": {},
   "outputs": [
    {
     "data": {
      "text/plain": [
       "Text(0.5, 1.0, 'percent of injectivity on test set for differnet bias estimation methods')"
      ]
     },
     "execution_count": 15,
     "metadata": {},
     "output_type": "execute_result"
    },
    {
     "data": {
      "image/png": "[encoded data removed]",
      "text/plain": [
       "<Figure size 1000x800 with 1 Axes>"
      ]
     },
     "metadata": {},
     "output_type": "display_data"
    }
   ],
   "source": [
    "#compare inj lists in boxplots\n",
    "fig = plt.figure(figsize=(10, 8))\n",
    "ax = fig.add_subplot(111)\n",
    "ax.boxplot([inj_kd,inj_blowup,inj_mcbe],labels=[\"kd\",\"blowup\",\"mcbe\"])\n",
    "plt.title(\"percent of injectivity on test set for differnet bias estimation methods\")"
   ]
  },
  {
   "cell_type": "code",
   "execution_count": null,
   "metadata": {},
   "outputs": [],
   "source": [
    "inj_mnist = pd.DataFrame({\"kd\":inj_kd,\"blowup\":inj_blowup,\"mcbe\":inj_mcbe})\n",
    "inj_mnist.to_csv(\"inj_mnist.csv\")"
   ]
  },
  {
   "cell_type": "code",
   "execution_count": null,
   "metadata": {},
   "outputs": [],
   "source": []
  },
  {
   "cell_type": "code",
   "execution_count": null,
   "metadata": {},
   "outputs": [],
   "source": []
  },
  {
   "cell_type": "code",
   "execution_count": null,
   "metadata": {},
   "outputs": [],
   "source": []
  }
 ],
 "metadata": {
  "kernelspec": {
   "display_name": "pbe",
   "language": "python",
   "name": "python3"
  },
  "language_info": {
   "codemirror_mode": {
    "name": "ipython",
    "version": 3
   },
   "file_extension": ".py",
   "mimetype": "text/x-python",
   "name": "python",
   "nbconvert_exporter": "python",
   "pygments_lexer": "ipython3",
   "version": "3.11.5"
  }
 },
 "nbformat": 4,
 "nbformat_minor": 2
}
