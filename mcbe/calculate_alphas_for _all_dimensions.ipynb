{
 "cells": [
  {
   "cell_type": "code",
   "execution_count": 2,
   "metadata": {},
   "outputs": [
    {
     "name": "stdout",
     "output_type": "stream",
     "text": [
      "WARNING:tensorflow:From c:\\Users\\heckert\\AppData\\Local\\anaconda3_new\\envs\\pbe\\Lib\\site-packages\\keras\\src\\losses.py:2976: The name tf.losses.sparse_softmax_cross_entropy is deprecated. Please use tf.compat.v1.losses.sparse_softmax_cross_entropy instead.\n",
      "\n"
     ]
    }
   ],
   "source": [
    "%load_ext autoreload\n",
    "%autoreload 2\n",
    "\n",
    "import numpy as np\n",
    "import pandas as pd\n",
    "import matplotlib.pyplot as plt\n",
    "\n",
    "from tqdm import tqdm\n",
    "import mcbe\n",
    "\n",
    "from PIL import Image\n",
    "from scipy.spatial import ConvexHull\n",
    "from mpl_toolkits.mplot3d.art3d import Poly3DCollection\n",
    "from random import randint\n",
    "import random\n",
    "import tensorflow as tf"
   ]
  },
  {
   "cell_type": "code",
   "execution_count": 3,
   "metadata": {},
   "outputs": [],
   "source": [
    "m_max = 150\n",
    "n_max = 30\n",
    "alphas_normal = np.zeros((m_max,n_max,m_max))\n",
    "alphas_sphere = np.zeros((m_max,n_max,m_max))"
   ]
  },
  {
   "cell_type": "code",
   "execution_count": 4,
   "metadata": {},
   "outputs": [
    {
     "name": "stderr",
     "output_type": "stream",
     "text": [
      "100%|██████████| 148/148 [272:24:29<00:00, 6626.15s/it]    \n"
     ]
    }
   ],
   "source": [
    "\n",
    "#long runtime!!\n",
    "m_range = range(2,m_max)\n",
    "\n",
    "for m in tqdm(m_range):\n",
    "    for n in range(2,np.min([m,n_max])):\n",
    "\n",
    "        W = mcbe.random_point(m,n)\n",
    "        alpha_normal = mcbe.mcbe(W,500000,distribution=\"normal\")\n",
    "        alpha_sphere = mcbe.mcbe(W,500000,distribution=\"sphere\")\n",
    "        \n",
    "    \n",
    "        alphas_normal[m,n,:m] = alpha_normal\n",
    "        alphas_sphere[m,n,:m] = alpha_sphere"
   ]
  },
  {
   "cell_type": "code",
   "execution_count": 5,
   "metadata": {},
   "outputs": [],
   "source": [
    "alphas_normal_tensor = tf.Variable(tf.constant(alphas_normal))\n",
    "alphas_sphere_tensor = tf.Variable(tf.constant(alphas_sphere))"
   ]
  },
  {
   "cell_type": "code",
   "execution_count": 6,
   "metadata": {},
   "outputs": [
    {
     "name": "stdout",
     "output_type": "stream",
     "text": [
      "INFO:tensorflow:Assets written to: alphas_normal\\assets\n"
     ]
    },
    {
     "name": "stdout",
     "output_type": "stream",
     "text": [
      "INFO:tensorflow:Assets written to: alphas_sphere\\assets\n"
     ]
    },
    {
     "name": "stderr",
     "output_type": "stream",
     "text": [
      "INFO:tensorflow:Assets written to: alphas_sphere\\assets\n"
     ]
    }
   ],
   "source": [
    "tf.saved_model.save(alphas_normal_tensor, \"alphas_normal\")\n",
    "tf.saved_model.save(alphas_sphere_tensor, \"alphas_sphere\")"
   ]
  }
 ],
 "metadata": {
  "kernelspec": {
   "display_name": "pbe",
   "language": "python",
   "name": "python3"
  },
  "language_info": {
   "codemirror_mode": {
    "name": "ipython",
    "version": 3
   },
   "file_extension": ".py",
   "mimetype": "text/x-python",
   "name": "python",
   "nbconvert_exporter": "python",
   "pygments_lexer": "ipython3",
   "version": "3.11.5"
  }
 },
 "nbformat": 4,
 "nbformat_minor": 2
}
