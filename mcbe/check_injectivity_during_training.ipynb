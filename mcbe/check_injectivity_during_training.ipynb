{
 "cells": [
  {
   "cell_type": "code",
   "execution_count": 302,
   "metadata": {},
   "outputs": [
    {
     "name": "stdout",
     "output_type": "stream",
     "text": [
      "The autoreload extension is already loaded. To reload it, use:\n",
      "  %reload_ext autoreload\n"
     ]
    }
   ],
   "source": [
    "%load_ext autoreload\n",
    "%autoreload 2\n",
    "\n",
    "import numpy as np\n",
    "import pandas as pd\n",
    "import matplotlib.pyplot as plt\n",
    "\n",
    "import torch\n",
    "import torch.nn.functional as F\n",
    "import torch.nn as nn\n",
    "from torch.autograd import Variable\n",
    "\n",
    "import tqdm\n",
    "import os\n",
    "import mcbe\n",
    "from mpl_toolkits.mplot3d import Axes3D"
   ]
  },
  {
   "cell_type": "markdown",
   "metadata": {},
   "source": [
    "# Iris"
   ]
  },
  {
   "cell_type": "code",
   "execution_count": 303,
   "metadata": {},
   "outputs": [],
   "source": [
    "from sklearn.datasets import load_iris\n",
    "from sklearn.model_selection import train_test_split\n",
    "from sklearn.preprocessing import StandardScaler\n",
    "\n",
    "iris = load_iris()\n",
    "X = iris['data']\n",
    "y = iris['target']\n",
    "names = iris['target_names']\n",
    "feature_names = iris['feature_names']\n",
    "\n",
    "X_3 = X[:,[0,2,3]]\n",
    "\n",
    "# Scale data to have mean 0 and variance 1 \n",
    "# which is importance for convergence of the neural network\n",
    "scaler = StandardScaler()\n",
    "X_scaled = scaler.fit_transform(X_3)\n",
    "#m = np.amax(X_scaled)\n",
    "#X_ball = X_scaled/m\n",
    "\n",
    "# Split the data set into training and testing\n",
    "X_train, X_test, y_train, y_test = train_test_split(\n",
    "    X_scaled, y, test_size=0.2, random_state=2)"
   ]
  },
  {
   "cell_type": "code",
   "execution_count": 304,
   "metadata": {},
   "outputs": [],
   "source": [
    "# size of the first layer\n",
    "l1 = 6"
   ]
  },
  {
   "cell_type": "code",
   "execution_count": 305,
   "metadata": {},
   "outputs": [],
   "source": [
    "class Model(nn.Module):\n",
    "    def __init__(self, input_dim, l1):\n",
    "        super(Model, self).__init__()\n",
    "        self.layer1 = nn.Linear(input_dim, l1)\n",
    "        #self.layer2 = nn.Linear(20, 10)\n",
    "        self.layer3 = nn.Linear(l1, 3)\n",
    "        \n",
    "    def forward(self, x):\n",
    "        x = F.relu(self.layer1(x))\n",
    "        #x = F.relu(self.layer2(x))\n",
    "        x = F.softmax(self.layer3(x), dim=1)\n",
    "        return x"
   ]
  },
  {
   "cell_type": "code",
   "execution_count": 306,
   "metadata": {},
   "outputs": [],
   "source": [
    "X_train = Variable(torch.from_numpy(X_train)).float()\n",
    "y_train = Variable(torch.from_numpy(y_train)).long()\n",
    "X_test  = Variable(torch.from_numpy(X_test)).float()\n",
    "y_test  = Variable(torch.from_numpy(y_test)).long()"
   ]
  },
  {
   "cell_type": "code",
   "execution_count": 307,
   "metadata": {},
   "outputs": [
    {
     "data": {
      "text/plain": [
       "Model(\n",
       "  (layer1): Linear(in_features=3, out_features=6, bias=True)\n",
       "  (layer3): Linear(in_features=6, out_features=3, bias=True)\n",
       ")"
      ]
     },
     "execution_count": 307,
     "metadata": {},
     "output_type": "execute_result"
    }
   ],
   "source": [
    "model     = Model(X_train.shape[1],l1)\n",
    "optimizer = torch.optim.Adam(model.parameters(), lr=0.1)\n",
    "loss_fn   = nn.CrossEntropyLoss() \n",
    "model"
   ]
  },
  {
   "cell_type": "code",
   "execution_count": 308,
   "metadata": {},
   "outputs": [
    {
     "name": "stderr",
     "output_type": "stream",
     "text": [
      "100%|██████████| 100/100 [00:00<00:00, 284.04it/s]\n"
     ]
    },
    {
     "data": {
      "text/plain": [
       "array([0.26666668, 0.26666668, 0.26666668, 0.30000001, 0.73333335,\n",
       "       0.73333335, 0.76666665, 0.93333334, 0.96666664, 0.93333334,\n",
       "       0.86666667, 0.83333331, 0.83333331, 0.83333331, 0.83333331,\n",
       "       0.83333331, 0.83333331, 0.83333331, 0.89999998, 0.89999998,\n",
       "       0.93333334, 0.96666664, 0.96666664, 0.96666664, 1.        ,\n",
       "       1.        , 0.96666664, 0.96666664, 0.96666664, 0.96666664,\n",
       "       0.96666664, 0.96666664, 0.96666664, 0.96666664, 0.96666664,\n",
       "       0.96666664, 0.96666664, 0.96666664, 0.96666664, 0.96666664,\n",
       "       1.        , 1.        , 1.        , 1.        , 1.        ,\n",
       "       0.96666664, 0.96666664, 0.96666664, 0.96666664, 0.96666664,\n",
       "       0.96666664, 0.96666664, 0.96666664, 0.96666664, 0.96666664,\n",
       "       0.96666664, 0.96666664, 0.96666664, 0.96666664, 0.96666664,\n",
       "       0.96666664, 0.96666664, 0.96666664, 0.96666664, 0.96666664,\n",
       "       0.96666664, 0.96666664, 0.96666664, 0.96666664, 0.96666664,\n",
       "       0.96666664, 0.96666664, 0.96666664, 0.96666664, 0.96666664,\n",
       "       0.96666664, 0.96666664, 0.96666664, 0.96666664, 0.96666664,\n",
       "       0.96666664, 0.96666664, 0.96666664, 0.96666664, 0.96666664,\n",
       "       0.96666664, 0.96666664, 0.96666664, 0.96666664, 0.96666664,\n",
       "       0.96666664, 0.96666664, 0.96666664, 0.96666664, 0.96666664,\n",
       "       0.96666664, 0.96666664, 0.96666664, 0.96666664, 0.96666664])"
      ]
     },
     "execution_count": 308,
     "metadata": {},
     "output_type": "execute_result"
    }
   ],
   "source": [
    "EPOCHS  = 100\n",
    "\n",
    "weights = []\n",
    "weights_norm = []\n",
    "norms = []\n",
    "biases = np.zeros([EPOCHS + 1,l1])\n",
    "percent_inj_list = []\n",
    "\n",
    "w1 = model.layer1.weight\n",
    "b1 = model.layer1.bias\n",
    "m1 = w1.shape[0]\n",
    "n1 = w1.shape[1]\n",
    "norm = w1.pow(2).sum(keepdim=True,dim=1).sqrt()\n",
    "w1_norm = torch.div(w1,norm)\n",
    "w1_norm[w1_norm == np.inf] = 0\n",
    "\n",
    "weights.append(w1.detach().numpy())\n",
    "weights_norm.append(w1_norm.detach().numpy())\n",
    "norms.append(norm.detach().numpy())\n",
    "biases[0,:] = b1.detach().numpy()\n",
    "\n",
    "#epoch counter\n",
    "k = 1\n",
    "\n",
    "loss_list     = np.zeros((EPOCHS,))\n",
    "accuracy_list = np.zeros((EPOCHS,))\n",
    "\n",
    "loss_list_injective     = np.zeros((EPOCHS,))\n",
    "accuracy_list_injective = np.zeros((EPOCHS,))\n",
    "\n",
    "for epoch in tqdm.trange(EPOCHS):\n",
    "    y_pred = model(X_train)\n",
    "    loss = loss_fn(y_pred, y_train)\n",
    "    loss_list[epoch] = loss.item()\n",
    "    \n",
    "    # Zero gradients\n",
    "    optimizer.zero_grad()\n",
    "    loss.backward()\n",
    "    optimizer.step()\n",
    "\n",
    "    w1 = model.layer1.weight\n",
    "    b1 = model.layer1.bias\n",
    "\n",
    "    print(\"check inj\")\n",
    "    # check injectivity \n",
    "    percent_inj = mcbe.check_injectivity_naive(w1.detach().numpy(),b1.detach().numpy(),points=X_test[:1000,:],iter=X_test[:1000,:].shape[0])\n",
    "    percent_inj_list.append(percent_inj)\n",
    "    print(\"percent_inj: \", percent_inj)\n",
    "\n",
    "\n",
    "    norm = w1.pow(2).sum(keepdim=True,dim=1).sqrt()\n",
    "    w1_norm = torch.div(w1,norm)\n",
    "    w1_norm[w1_norm == np.inf] = 0\n",
    "    \n",
    "    weights.append(w1.detach().numpy())\n",
    "    weights_norm.append(w1_norm.detach().numpy())\n",
    "    norms.append(norm.detach().numpy())\n",
    "    biases[k,:] = b1.detach().numpy()\n",
    "    \n",
    "    with torch.no_grad():\n",
    "        y_pred = model(X_test)\n",
    "        correct = (torch.argmax(y_pred, dim=1) == y_test).type(torch.FloatTensor)\n",
    "        accuracy_list[epoch] = correct.mean()\n",
    "    \n",
    "    \n",
    "\n",
    "    \n",
    "    k = k+1\n",
    "\n",
    "accuracy_list"
   ]
  },
  {
   "cell_type": "code",
   "execution_count": 309,
   "metadata": {},
   "outputs": [
    {
     "data": {
      "text/plain": [
       "[<matplotlib.lines.Line2D at 0x1d901b32290>]"
      ]
     },
     "execution_count": 309,
     "metadata": {},
     "output_type": "execute_result"
    },
    {
     "data": {
      "image/png": "[encoded data removed]",
      "text/plain": [
       "<Figure size 640x480 with 1 Axes>"
      ]
     },
     "metadata": {},
     "output_type": "display_data"
    }
   ],
   "source": [
    "plt.plot(accuracy_list)"
   ]
  },
  {
   "cell_type": "markdown",
   "metadata": {},
   "source": [
    "# mean over multiple trainings"
   ]
  },
  {
   "cell_type": "code",
   "execution_count": 310,
   "metadata": {},
   "outputs": [],
   "source": [
    "num_iter = 25\n",
    "percent_inj2 = []\n",
    "redundancy = 2"
   ]
  },
  {
   "cell_type": "code",
   "execution_count": 311,
   "metadata": {},
   "outputs": [
    {
     "name": "stderr",
     "output_type": "stream",
     "text": [
      "  0%|          | 0/25 [00:00<?, ?it/s]"
     ]
    },
    {
     "name": "stderr",
     "output_type": "stream",
     "text": [
      "100%|██████████| 25/25 [00:12<00:00,  2.02it/s]\n"
     ]
    }
   ],
   "source": [
    "for i in tqdm.trange(num_iter):\n",
    "    \n",
    "    # size of the first layer\n",
    "    l1 = 3*redundancy\n",
    "\n",
    "    model     = Model(X_train.shape[1],l1)\n",
    "    optimizer = torch.optim.Adam(model.parameters(), lr=0.1)\n",
    "    loss_fn   = nn.CrossEntropyLoss() \n",
    "\n",
    "    EPOCHS  = 50\n",
    "\n",
    "    weights = []\n",
    "    weights_norm = []\n",
    "    norms = []\n",
    "    biases = np.zeros([EPOCHS + 1,l1])\n",
    "    percent_inj_list = []\n",
    "\n",
    "    w1 = model.layer1.weight\n",
    "    b1 = model.layer1.bias\n",
    "    m1 = w1.shape[0]\n",
    "    n1 = w1.shape[1]\n",
    "    norm = w1.pow(2).sum(keepdim=True,dim=1).sqrt()\n",
    "    w1_norm = torch.div(w1,norm)\n",
    "    w1_norm[w1_norm == np.inf] = 0\n",
    "\n",
    "    weights.append(w1.detach().numpy())\n",
    "    weights_norm.append(w1_norm.detach().numpy())\n",
    "    norms.append(norm.detach().numpy())\n",
    "    biases[0,:] = b1.detach().numpy()\n",
    "\n",
    "    #epoch counter\n",
    "    k = 1\n",
    "\n",
    "    loss_list     = np.zeros((EPOCHS,))\n",
    "    accuracy_list = np.zeros((EPOCHS,))\n",
    "\n",
    "    for epoch in range(EPOCHS):\n",
    "        y_pred = model(X_train)\n",
    "        loss = loss_fn(y_pred, y_train)\n",
    "        loss_list[epoch] = loss.item()\n",
    "        \n",
    "        # Zero gradients\n",
    "        optimizer.zero_grad()\n",
    "        loss.backward()\n",
    "        optimizer.step()\n",
    "\n",
    "        w1 = model.layer1.weight\n",
    "        b1 = model.layer1.bias\n",
    "\n",
    "        # check injectivity \n",
    "        percent_inj = mcbe.check_injectivity_naive(w1.detach().numpy(),b1.detach().numpy(),points=X_test,iter=X_test.shape[0])\n",
    "        percent_inj_list.append(percent_inj)\n",
    "\n",
    "\n",
    "        norm = w1.pow(2).sum(keepdim=True,dim=1).sqrt()\n",
    "        w1_norm = torch.div(w1,norm)\n",
    "        w1_norm[w1_norm == np.inf] = 0\n",
    "        \n",
    "        weights.append(w1.detach().numpy())\n",
    "        weights_norm.append(w1_norm.detach().numpy())\n",
    "        norms.append(norm.detach().numpy())\n",
    "        biases[k,:] = b1.detach().numpy()\n",
    "        \n",
    "        with torch.no_grad():\n",
    "            y_pred = model(X_test)\n",
    "            correct = (torch.argmax(y_pred, dim=1) == y_test).type(torch.FloatTensor)\n",
    "            accuracy_list[epoch] = correct.mean()\n",
    "        \n",
    "        \n",
    "\n",
    "        \n",
    "        k = k+1\n",
    "\n",
    "    percent_inj2.append(percent_inj_list)\n",
    "\n",
    "\n",
    "    "
   ]
  },
  {
   "cell_type": "code",
   "execution_count": 312,
   "metadata": {},
   "outputs": [],
   "source": [
    "percent_inj3 = []\n",
    "redundancy = 3"
   ]
  },
  {
   "cell_type": "code",
   "execution_count": 313,
   "metadata": {},
   "outputs": [
    {
     "name": "stderr",
     "output_type": "stream",
     "text": [
      "100%|██████████| 25/25 [00:11<00:00,  2.09it/s]\n"
     ]
    }
   ],
   "source": [
    "for i in tqdm.trange(num_iter):\n",
    "    \n",
    "    # size of the first layer\n",
    "    l1 = 3*redundancy\n",
    "\n",
    "    model     = Model(X_train.shape[1],l1)\n",
    "    optimizer = torch.optim.Adam(model.parameters(), lr=0.1)\n",
    "    loss_fn   = nn.CrossEntropyLoss() \n",
    "\n",
    "    EPOCHS  = 50\n",
    "\n",
    "    weights = []\n",
    "    weights_norm = []\n",
    "    norms = []\n",
    "    biases = np.zeros([EPOCHS + 1,l1])\n",
    "    percent_inj_list = []\n",
    "\n",
    "    w1 = model.layer1.weight\n",
    "    b1 = model.layer1.bias\n",
    "    m1 = w1.shape[0]\n",
    "    n1 = w1.shape[1]\n",
    "    norm = w1.pow(2).sum(keepdim=True,dim=1).sqrt()\n",
    "    w1_norm = torch.div(w1,norm)\n",
    "    w1_norm[w1_norm == np.inf] = 0\n",
    "\n",
    "    weights.append(w1.detach().numpy())\n",
    "    weights_norm.append(w1_norm.detach().numpy())\n",
    "    norms.append(norm.detach().numpy())\n",
    "    biases[0,:] = b1.detach().numpy()\n",
    "\n",
    "    #epoch counter\n",
    "    k = 1\n",
    "\n",
    "    loss_list     = np.zeros((EPOCHS,))\n",
    "    accuracy_list = np.zeros((EPOCHS,))\n",
    "\n",
    "    for epoch in range(EPOCHS):\n",
    "        y_pred = model(X_train)\n",
    "        loss = loss_fn(y_pred, y_train)\n",
    "        loss_list[epoch] = loss.item()\n",
    "        \n",
    "        # Zero gradients\n",
    "        optimizer.zero_grad()\n",
    "        loss.backward()\n",
    "        optimizer.step()\n",
    "\n",
    "        w1 = model.layer1.weight\n",
    "        b1 = model.layer1.bias\n",
    "\n",
    "        # check injectivity \n",
    "        percent_inj = mcbe.check_injectivity_naive(w1.detach().numpy(),b1.detach().numpy(),points=X_test,iter=X_test.shape[0])\n",
    "        percent_inj_list.append(percent_inj)\n",
    "\n",
    "\n",
    "        norm = w1.pow(2).sum(keepdim=True,dim=1).sqrt()\n",
    "        w1_norm = torch.div(w1,norm)\n",
    "        w1_norm[w1_norm == np.inf] = 0\n",
    "        \n",
    "        weights.append(w1.detach().numpy())\n",
    "        weights_norm.append(w1_norm.detach().numpy())\n",
    "        norms.append(norm.detach().numpy())\n",
    "        biases[k,:] = b1.detach().numpy()\n",
    "        \n",
    "        with torch.no_grad():\n",
    "            y_pred = model(X_test)\n",
    "            correct = (torch.argmax(y_pred, dim=1) == y_test).type(torch.FloatTensor)\n",
    "            accuracy_list[epoch] = correct.mean()\n",
    "        \n",
    "        \n",
    "\n",
    "        \n",
    "        k = k+1\n",
    "\n",
    "    percent_inj3.append(percent_inj_list)"
   ]
  },
  {
   "cell_type": "code",
   "execution_count": 314,
   "metadata": {},
   "outputs": [],
   "source": [
    "percent_inj9 = []\n",
    "redundancy = 9"
   ]
  },
  {
   "cell_type": "code",
   "execution_count": 315,
   "metadata": {},
   "outputs": [
    {
     "name": "stderr",
     "output_type": "stream",
     "text": [
      "100%|██████████| 25/25 [00:11<00:00,  2.18it/s]\n"
     ]
    }
   ],
   "source": [
    "for i in tqdm.trange(num_iter):\n",
    "    \n",
    "    # size of the first layer\n",
    "    l1 = 3*redundancy\n",
    "\n",
    "    model     = Model(X_train.shape[1],l1)\n",
    "    optimizer = torch.optim.Adam(model.parameters(), lr=0.1)\n",
    "    loss_fn   = nn.CrossEntropyLoss() \n",
    "\n",
    "    EPOCHS  = 50\n",
    "\n",
    "    weights = []\n",
    "    weights_norm = []\n",
    "    norms = []\n",
    "    biases = np.zeros([EPOCHS + 1,l1])\n",
    "    percent_inj_list = []\n",
    "\n",
    "    w1 = model.layer1.weight\n",
    "    b1 = model.layer1.bias\n",
    "    m1 = w1.shape[0]\n",
    "    n1 = w1.shape[1]\n",
    "    norm = w1.pow(2).sum(keepdim=True,dim=1).sqrt()\n",
    "    w1_norm = torch.div(w1,norm)\n",
    "    w1_norm[w1_norm == np.inf] = 0\n",
    "\n",
    "    weights.append(w1.detach().numpy())\n",
    "    weights_norm.append(w1_norm.detach().numpy())\n",
    "    norms.append(norm.detach().numpy())\n",
    "    biases[0,:] = b1.detach().numpy()\n",
    "\n",
    "    #epoch counter\n",
    "    k = 1\n",
    "\n",
    "    loss_list     = np.zeros((EPOCHS,))\n",
    "    accuracy_list = np.zeros((EPOCHS,))\n",
    "\n",
    "    for epoch in range(EPOCHS):\n",
    "        y_pred = model(X_train)\n",
    "        loss = loss_fn(y_pred, y_train)\n",
    "        loss_list[epoch] = loss.item()\n",
    "        \n",
    "        # Zero gradients\n",
    "        optimizer.zero_grad()\n",
    "        loss.backward()\n",
    "        optimizer.step()\n",
    "\n",
    "        w1 = model.layer1.weight\n",
    "        b1 = model.layer1.bias\n",
    "\n",
    "        # check injectivity \n",
    "        percent_inj = mcbe.check_injectivity_naive(w1.detach().numpy(),b1.detach().numpy(),points=X_test,iter=X_test.shape[0])\n",
    "        percent_inj_list.append(percent_inj)\n",
    "\n",
    "\n",
    "        norm = w1.pow(2).sum(keepdim=True,dim=1).sqrt()\n",
    "        w1_norm = torch.div(w1,norm)\n",
    "        w1_norm[w1_norm == np.inf] = 0\n",
    "        \n",
    "        weights.append(w1.detach().numpy())\n",
    "        weights_norm.append(w1_norm.detach().numpy())\n",
    "        norms.append(norm.detach().numpy())\n",
    "        biases[k,:] = b1.detach().numpy()\n",
    "        \n",
    "        with torch.no_grad():\n",
    "            y_pred = model(X_test)\n",
    "            correct = (torch.argmax(y_pred, dim=1) == y_test).type(torch.FloatTensor)\n",
    "            accuracy_list[epoch] = correct.mean()\n",
    "        \n",
    "        \n",
    "\n",
    "        \n",
    "        k = k+1\n",
    "\n",
    "    percent_inj9.append(percent_inj_list)"
   ]
  },
  {
   "cell_type": "code",
   "execution_count": 316,
   "metadata": {},
   "outputs": [],
   "source": [
    "plt.rcParams.update({'font.family':'Times New Roman', 'font.size': 22})"
   ]
  },
  {
   "cell_type": "code",
   "execution_count": 319,
   "metadata": {},
   "outputs": [
    {
     "data": {
      "image/png": "[encoded data removed]",
      "text/plain": [
       "<Figure size 640x480 with 1 Axes>"
      ]
     },
     "metadata": {},
     "output_type": "display_data"
    }
   ],
   "source": [
    "mean_inj2 = np.mean(percent_inj2,axis=0)\n",
    "std_inj2 = np.std(percent_inj2,axis=0)\n",
    "mean_inj3 = np.mean(percent_inj3,axis=0)\n",
    "std_inj3 = np.std(percent_inj3,axis=0)\n",
    "mean_inj9 = np.mean(percent_inj9,axis=0)\n",
    "std_inj9 = np.std(percent_inj9,axis=0)\n",
    "plt.plot(mean_inj2,label='Redundancy 2',color=\"blue\",linestyle=\"--\")\n",
    "plt.fill_between(range(EPOCHS),mean_inj2-std_inj2,mean_inj2+std_inj2,alpha=0.2,color = \"blue\")\n",
    "plt.plot(mean_inj3,label='Redundancy 3',color=\"red\",linestyle=\":\")\n",
    "#plt.fill_between(range(EPOCHS),mean_inj3-std_inj3,mean_inj3+std_inj3,alpha=0.2,color=\"red\")\n",
    "#plot std under 1\n",
    "plt.fill_between(range(EPOCHS),1-2*std_inj3,1,alpha=0.2,color=\"red\")\n",
    "plt.plot(mean_inj9,label='Redundancy 9',color = \"lime\")\n",
    "plt.fill_between(range(EPOCHS),mean_inj9-std_inj9,mean_inj9+std_inj9,alpha=0.2)\n",
    "plt.xlabel('Epoch')\n",
    "plt.ylabel('Percent injectivity test set')\n",
    "plt.ylim([0,1.1])\n",
    "plt.legend()\n",
    "plt.gca().spines['top'].set_visible(False)\n",
    "plt.gca().spines['right'].set_visible(False)\n",
    "plt.grid(linestyle='--', alpha=0.5)"
   ]
  },
  {
   "cell_type": "code",
   "execution_count": null,
   "metadata": {},
   "outputs": [],
   "source": []
  }
 ],
 "metadata": {
  "kernelspec": {
   "display_name": "pbe",
   "language": "python",
   "name": "python3"
  },
  "language_info": {
   "codemirror_mode": {
    "name": "ipython",
    "version": 3
   },
   "file_extension": ".py",
   "mimetype": "text/x-python",
   "name": "python",
   "nbconvert_exporter": "python",
   "pygments_lexer": "ipython3",
   "version": "3.11.5"
  }
 },
 "nbformat": 4,
 "nbformat_minor": 2
}
