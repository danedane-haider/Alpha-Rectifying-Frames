{
 "cells": [
  {
   "cell_type": "code",
   "execution_count": 355,
   "metadata": {},
   "outputs": [
    {
     "name": "stdout",
     "output_type": "stream",
     "text": [
      "The autoreload extension is already loaded. To reload it, use:\n",
      "  %reload_ext autoreload\n"
     ]
    }
   ],
   "source": [
    "%load_ext autoreload\n",
    "%autoreload 2\n",
    "\n",
    "import numpy as np\n",
    "import pandas as pd\n",
    "import matplotlib.pyplot as plt\n",
    "\n",
    "import torch\n",
    "import torch.nn.functional as F\n",
    "import torch.nn as nn\n",
    "from torch.autograd import Variable\n",
    "\n",
    "import tqdm\n",
    "import os\n",
    "import mcbe\n",
    "from mpl_toolkits.mplot3d import Axes3D"
   ]
  },
  {
   "cell_type": "markdown",
   "metadata": {},
   "source": [
    "# Iris"
   ]
  },
  {
   "cell_type": "code",
   "execution_count": 356,
   "metadata": {},
   "outputs": [],
   "source": [
    "#iris\n",
    "'''from sklearn.datasets import load_iris\n",
    "from sklearn.model_selection import train_test_split\n",
    "from sklearn.preprocessing import StandardScaler\n",
    "\n",
    "iris = load_iris()\n",
    "X = iris['data']\n",
    "y = iris['target']\n",
    "names = iris['target_names']\n",
    "feature_names = iris['feature_names']\n",
    "\n",
    "X_3 = X[:,[0,2,3]]\n",
    "\n",
    "# Scale data to have mean 0 and variance 1 \n",
    "# which is importance for convergence of the neural network\n",
    "scaler = StandardScaler()\n",
    "X_scaled = scaler.fit_transform(X_3)\n",
    "#m = np.amax(X_scaled)\n",
    "#X_ball = X_scaled/m\n",
    "\n",
    "# Split the data set into training and testing\n",
    "X_train, X_test, y_train, y_test = train_test_split(\n",
    "    X_scaled, y, test_size=0.2, random_state=2)'''"
   ]
  },
  {
   "cell_type": "code",
   "execution_count": 358,
   "metadata": {},
   "outputs": [],
   "source": [
    "#iris\n",
    "'''# size of the first layer\n",
    "l1 = 6\n",
    "l2 = 27'''"
   ]
  },
  {
   "cell_type": "code",
   "execution_count": 386,
   "metadata": {},
   "outputs": [],
   "source": [
    "'''class Model(nn.Module):\n",
    "    def __init__(self, input_dim, l1):\n",
    "        super(Model, self).__init__()\n",
    "        self.layer1 = nn.Linear(input_dim, l1)\n",
    "        self.layer2 = nn.Linear(l1, l2)\n",
    "        self.layer3 = nn.Linear(l2, 3)\n",
    "        \n",
    "    def forward(self, x):\n",
    "        x = F.relu(self.layer1(x))\n",
    "        x = F.relu(self.layer2(x))\n",
    "        x = F.softmax(self.layer3(x), dim=1)\n",
    "        return x'''"
   ]
  },
  {
   "cell_type": "markdown",
   "metadata": {},
   "source": [
    "# MNIST"
   ]
  },
  {
   "cell_type": "code",
   "execution_count": 382,
   "metadata": {},
   "outputs": [],
   "source": [
    "import keras.datasets\n",
    "from sklearn.preprocessing import StandardScaler"
   ]
  },
  {
   "cell_type": "code",
   "execution_count": 397,
   "metadata": {},
   "outputs": [],
   "source": [
    "(X_train, y_train), (X_test, y_test) = keras.datasets.mnist.load_data()"
   ]
  },
  {
   "cell_type": "code",
   "execution_count": 398,
   "metadata": {},
   "outputs": [],
   "source": [
    "X_train = np.array([X_train[i].flatten() for i in range(X_train.shape[0])])\n",
    "X_test = np.array([X_test[i].flatten() for i in range(X_test.shape[0])])"
   ]
  },
  {
   "cell_type": "code",
   "execution_count": 399,
   "metadata": {},
   "outputs": [],
   "source": [
    "#normalize data\n",
    "scaler = StandardScaler()\n",
    "X_train = scaler.fit_transform(X_train)\n",
    "X_test = scaler.transform(X_test)"
   ]
  },
  {
   "cell_type": "code",
   "execution_count": 400,
   "metadata": {},
   "outputs": [],
   "source": [
    "# size of the layers\n",
    "l1 = 1024\n",
    "l2 = 128"
   ]
  },
  {
   "cell_type": "code",
   "execution_count": 401,
   "metadata": {},
   "outputs": [],
   "source": [
    "class Model(nn.Module):\n",
    "    def __init__(self, input_dim, l1):\n",
    "        super(Model, self).__init__()\n",
    "        self.layer1 = nn.Linear(input_dim, l1)\n",
    "        self.layer2 = nn.Linear(l1, l2)\n",
    "        self.layer3 = nn.Linear(l2, 10)\n",
    "        \n",
    "    def forward(self, x):\n",
    "        x = F.relu(self.layer1(x))\n",
    "        x = F.relu(self.layer2(x))\n",
    "        x = F.softmax(self.layer3(x), dim=1)\n",
    "        return x"
   ]
  },
  {
   "cell_type": "code",
   "execution_count": null,
   "metadata": {},
   "outputs": [],
   "source": []
  },
  {
   "cell_type": "code",
   "execution_count": 402,
   "metadata": {},
   "outputs": [],
   "source": [
    "\n",
    "X_train = Variable(torch.from_numpy(X_train)).float()\n",
    "y_train = Variable(torch.from_numpy(y_train)).long()\n",
    "X_test  = Variable(torch.from_numpy(X_test)).float()\n",
    "y_test  = Variable(torch.from_numpy(y_test)).long()"
   ]
  },
  {
   "cell_type": "code",
   "execution_count": 403,
   "metadata": {},
   "outputs": [
    {
     "data": {
      "text/plain": [
       "Model(\n",
       "  (layer1): Linear(in_features=784, out_features=1024, bias=True)\n",
       "  (layer2): Linear(in_features=1024, out_features=128, bias=True)\n",
       "  (layer3): Linear(in_features=128, out_features=10, bias=True)\n",
       ")"
      ]
     },
     "execution_count": 403,
     "metadata": {},
     "output_type": "execute_result"
    }
   ],
   "source": [
    "model     = Model(X_train.shape[1],l1)\n",
    "optimizer = torch.optim.Adam(model.parameters(), lr=0.01)\n",
    "loss_fn   = nn.CrossEntropyLoss() \n",
    "model"
   ]
  },
  {
   "cell_type": "code",
   "execution_count": 404,
   "metadata": {},
   "outputs": [
    {
     "data": {
      "text/plain": [
       "Model(\n",
       "  (layer1): Linear(in_features=784, out_features=1024, bias=True)\n",
       "  (layer2): Linear(in_features=1024, out_features=128, bias=True)\n",
       "  (layer3): Linear(in_features=128, out_features=10, bias=True)\n",
       ")"
      ]
     },
     "execution_count": 404,
     "metadata": {},
     "output_type": "execute_result"
    }
   ],
   "source": [
    "model_injective = Model(X_train.shape[1],l1)\n",
    "optimizer_injective = torch.optim.Adam(model_injective.parameters(), lr=0.01)\n",
    "model"
   ]
  },
  {
   "cell_type": "code",
   "execution_count": 405,
   "metadata": {},
   "outputs": [],
   "source": [
    "times_to_blowup = 1\n",
    "X_kd = mcbe.add_kd_samples(X_train,times_to_blowup)"
   ]
  },
  {
   "cell_type": "code",
   "execution_count": 408,
   "metadata": {},
   "outputs": [
    {
     "name": "stderr",
     "output_type": "stream",
     "text": [
      "  0%|          | 0/50 [15:02<?, ?it/s]\n"
     ]
    },
    {
     "ename": "KeyboardInterrupt",
     "evalue": "",
     "output_type": "error",
     "traceback": [
      "\u001b[1;31m---------------------------------------------------------------------------\u001b[0m",
      "\u001b[1;31mKeyboardInterrupt\u001b[0m                         Traceback (most recent call last)",
      "Cell \u001b[1;32mIn[408], line 69\u001b[0m\n\u001b[0;32m     66\u001b[0m w1_injective \u001b[38;5;241m=\u001b[39m model_injective\u001b[38;5;241m.\u001b[39mlayer1\u001b[38;5;241m.\u001b[39mweight\n\u001b[0;32m     67\u001b[0m b1_injective \u001b[38;5;241m=\u001b[39m model_injective\u001b[38;5;241m.\u001b[39mlayer1\u001b[38;5;241m.\u001b[39mbias\n\u001b[1;32m---> 69\u001b[0m est_alpha_kd \u001b[38;5;241m=\u001b[39m mcbe\u001b[38;5;241m.\u001b[39mdd_mcbe(np\u001b[38;5;241m.\u001b[39marray(weights)[\u001b[38;5;241m-\u001b[39m\u001b[38;5;241m1\u001b[39m], X_train, num_estimation_points\u001b[38;5;241m=\u001b[39m\u001b[38;5;241m100000\u001b[39m, dd_method\u001b[38;5;241m=\u001b[39m\u001b[38;5;124m\"\u001b[39m\u001b[38;5;124mblowup\u001b[39m\u001b[38;5;124m\"\u001b[39m)\n\u001b[0;32m     71\u001b[0m model_injective\u001b[38;5;241m.\u001b[39mlayer1\u001b[38;5;241m.\u001b[39mbias \u001b[38;5;241m=\u001b[39m torch\u001b[38;5;241m.\u001b[39mnn\u001b[38;5;241m.\u001b[39mParameter(torch\u001b[38;5;241m.\u001b[39mfrom_numpy(np\u001b[38;5;241m.\u001b[39mmin(np\u001b[38;5;241m.\u001b[39marray([b1\u001b[38;5;241m.\u001b[39mdetach()\u001b[38;5;241m.\u001b[39mnumpy(), est_alpha_kd]),axis\u001b[38;5;241m=\u001b[39m\u001b[38;5;241m0\u001b[39m))\u001b[38;5;241m.\u001b[39mfloat())\n\u001b[0;32m     74\u001b[0m norm \u001b[38;5;241m=\u001b[39m w1\u001b[38;5;241m.\u001b[39mpow(\u001b[38;5;241m2\u001b[39m)\u001b[38;5;241m.\u001b[39msum(keepdim\u001b[38;5;241m=\u001b[39m\u001b[38;5;28;01mTrue\u001b[39;00m,dim\u001b[38;5;241m=\u001b[39m\u001b[38;5;241m1\u001b[39m)\u001b[38;5;241m.\u001b[39msqrt()\n",
      "File \u001b[1;32mc:\\Users\\heckert\\Documents\\GitHub\\Alpha-rectifying-frames\\mcbe\\mcbe.py:443\u001b[0m, in \u001b[0;36mdd_mcbe\u001b[1;34m(W, X_train, num_estimation_points, dd_method, var_dd, initialze)\u001b[0m\n\u001b[0;32m    440\u001b[0m     \u001b[38;5;28;01melse\u001b[39;00m:\n\u001b[0;32m    441\u001b[0m         \u001b[38;5;28;01mraise\u001b[39;00m \u001b[38;5;167;01mValueError\u001b[39;00m(\u001b[38;5;124m\"\u001b[39m\u001b[38;5;124mdd_method not found\u001b[39m\u001b[38;5;124m\"\u001b[39m)\n\u001b[1;32m--> 443\u001b[0m corr_x_vert \u001b[38;5;241m=\u001b[39m np\u001b[38;5;241m.\u001b[39marray([np\u001b[38;5;241m.\u001b[39mdot(point, phi) \u001b[38;5;28;01mfor\u001b[39;00m phi \u001b[38;5;129;01min\u001b[39;00m W])\u001b[38;5;241m.\u001b[39mflatten()\n\u001b[0;32m    445\u001b[0m \u001b[38;5;66;03m# find the d-nearest point of the polytope\u001b[39;00m\n\u001b[0;32m    446\u001b[0m idx \u001b[38;5;241m=\u001b[39m np\u001b[38;5;241m.\u001b[39margsort(corr_x_vert)[\u001b[38;5;241m-\u001b[39md]\n",
      "File \u001b[1;32mc:\\Users\\heckert\\Documents\\GitHub\\Alpha-rectifying-frames\\mcbe\\mcbe.py:443\u001b[0m, in \u001b[0;36m<listcomp>\u001b[1;34m(.0)\u001b[0m\n\u001b[0;32m    440\u001b[0m     \u001b[38;5;28;01melse\u001b[39;00m:\n\u001b[0;32m    441\u001b[0m         \u001b[38;5;28;01mraise\u001b[39;00m \u001b[38;5;167;01mValueError\u001b[39;00m(\u001b[38;5;124m\"\u001b[39m\u001b[38;5;124mdd_method not found\u001b[39m\u001b[38;5;124m\"\u001b[39m)\n\u001b[1;32m--> 443\u001b[0m corr_x_vert \u001b[38;5;241m=\u001b[39m np\u001b[38;5;241m.\u001b[39marray([np\u001b[38;5;241m.\u001b[39mdot(point, phi) \u001b[38;5;28;01mfor\u001b[39;00m phi \u001b[38;5;129;01min\u001b[39;00m W])\u001b[38;5;241m.\u001b[39mflatten()\n\u001b[0;32m    445\u001b[0m \u001b[38;5;66;03m# find the d-nearest point of the polytope\u001b[39;00m\n\u001b[0;32m    446\u001b[0m idx \u001b[38;5;241m=\u001b[39m np\u001b[38;5;241m.\u001b[39margsort(corr_x_vert)[\u001b[38;5;241m-\u001b[39md]\n",
      "File \u001b[1;32mc:\\Users\\heckert\\AppData\\Local\\anaconda3_new\\envs\\pbe\\Lib\\site-packages\\torch\\_tensor.py:966\u001b[0m, in \u001b[0;36mTensor.__array__\u001b[1;34m(self, dtype)\u001b[0m\n\u001b[0;32m    963\u001b[0m \u001b[38;5;66;03m# Numpy array interface, to support `numpy.asarray(tensor) -> ndarray`\u001b[39;00m\n\u001b[0;32m    964\u001b[0m __array_priority__ \u001b[38;5;241m=\u001b[39m \u001b[38;5;241m1000\u001b[39m  \u001b[38;5;66;03m# prefer Tensor ops over numpy ones\u001b[39;00m\n\u001b[1;32m--> 966\u001b[0m \u001b[38;5;28;01mdef\u001b[39;00m \u001b[38;5;21m__array__\u001b[39m(\u001b[38;5;28mself\u001b[39m, dtype\u001b[38;5;241m=\u001b[39m\u001b[38;5;28;01mNone\u001b[39;00m):\n\u001b[0;32m    967\u001b[0m     \u001b[38;5;28;01mif\u001b[39;00m has_torch_function_unary(\u001b[38;5;28mself\u001b[39m):\n\u001b[0;32m    968\u001b[0m         \u001b[38;5;28;01mreturn\u001b[39;00m handle_torch_function(Tensor\u001b[38;5;241m.\u001b[39m__array__, (\u001b[38;5;28mself\u001b[39m,), \u001b[38;5;28mself\u001b[39m, dtype\u001b[38;5;241m=\u001b[39mdtype)\n",
      "\u001b[1;31mKeyboardInterrupt\u001b[0m: "
     ]
    }
   ],
   "source": [
    "EPOCHS  = 50\n",
    "\n",
    "weights = []\n",
    "weights_norm = []\n",
    "norms = []\n",
    "biases = np.zeros([EPOCHS + 1,l1])\n",
    "\n",
    "weights_injective = []\n",
    "weights_norm_injective = []\n",
    "norms_injective = []\n",
    "biases_injective = np.zeros([EPOCHS + 1,l1])\n",
    "\n",
    "w1 = model.layer1.weight\n",
    "b1 = model.layer1.bias\n",
    "m1 = w1.shape[0]\n",
    "n1 = w1.shape[1]\n",
    "norm = w1.pow(2).sum(keepdim=True,dim=1).sqrt()\n",
    "w1_norm = torch.div(w1,norm)\n",
    "w1_norm[w1_norm == np.inf] = 0\n",
    "\n",
    "w1_injective = model_injective.layer1.weight\n",
    "b1_injective = model_injective.layer1.bias\n",
    "\n",
    "weights.append(w1.detach().numpy())\n",
    "weights_norm.append(w1_norm.detach().numpy())\n",
    "norms.append(norm.detach().numpy())\n",
    "biases[0,:] = b1.detach().numpy()\n",
    "\n",
    "weights_injective.append(w1_injective.detach().numpy())\n",
    "weights_norm_injective.append(w1_norm.detach().numpy())\n",
    "norms_injective.append(norm.detach().numpy())\n",
    "biases_injective[0,:] = b1_injective.detach().numpy()\n",
    "\n",
    "\n",
    "#epoch counter\n",
    "k = 1\n",
    "\n",
    "loss_list     = np.zeros((EPOCHS,))\n",
    "accuracy_list = np.zeros((EPOCHS,))\n",
    "\n",
    "loss_list_injective     = np.zeros((EPOCHS,))\n",
    "accuracy_list_injective = np.zeros((EPOCHS,))\n",
    "\n",
    "for epoch in tqdm.trange(EPOCHS):\n",
    "    y_pred = model(X_train)\n",
    "    loss = loss_fn(y_pred, y_train)\n",
    "    loss_list[epoch] = loss.item()\n",
    "\n",
    "    y_pred_injective = model_injective(X_train)\n",
    "    loss_injective = loss_fn(y_pred_injective, y_train)\n",
    "    loss_list_injective[epoch] = loss_injective.item()\n",
    "    \n",
    "    # Zero gradients\n",
    "    optimizer.zero_grad()\n",
    "    loss.backward()\n",
    "    optimizer.step()\n",
    "\n",
    "    # Zero gradients\n",
    "    optimizer_injective.zero_grad()\n",
    "    loss_injective.backward()\n",
    "    optimizer_injective.step()\n",
    "\n",
    "    w1 = model.layer1.weight\n",
    "    b1 = model.layer1.bias\n",
    "\n",
    "    w1_injective = model_injective.layer1.weight\n",
    "    b1_injective = model_injective.layer1.bias\n",
    "\n",
    "    est_alpha_kd = mcbe.dd_mcbe(np.array(weights)[-1], X_train, num_estimation_points=100000, dd_method=\"blowup\")\n",
    "\n",
    "    model_injective.layer1.bias = torch.nn.Parameter(torch.from_numpy(np.min(np.array([b1.detach().numpy(), est_alpha_kd]),axis=0)).float())\n",
    "    \n",
    "\n",
    "    norm = w1.pow(2).sum(keepdim=True,dim=1).sqrt()\n",
    "    w1_norm = torch.div(w1,norm)\n",
    "    w1_norm[w1_norm == np.inf] = 0\n",
    "\n",
    "    norm_injective = w1_injective.pow(2).sum(keepdim=True,dim=1).sqrt()\n",
    "    w1_norm_injective = torch.div(w1_injective,norm_injective)\n",
    "    w1_norm_injective[w1_norm_injective == np.inf] = 0\n",
    "    \n",
    "    \n",
    "    weights.append(w1.detach().numpy())\n",
    "    weights_norm.append(w1_norm.detach().numpy())\n",
    "    norms.append(norm.detach().numpy())\n",
    "    biases[k,:] = b1.detach().numpy()\n",
    "\n",
    "    weights_injective.append(w1_injective.detach().numpy())\n",
    "    weights_norm_injective.append(w1_norm_injective.detach().numpy())\n",
    "    norms_injective.append(norm_injective.detach().numpy())\n",
    "    biases_injective[k,:] = b1_injective.detach().numpy()\n",
    "    \n",
    "    with torch.no_grad():\n",
    "        y_pred = model(X_test)\n",
    "        correct = (torch.argmax(y_pred, dim=1) == y_test).type(torch.FloatTensor)\n",
    "        accuracy_list[epoch] = correct.mean()\n",
    "\n",
    "    with torch.no_grad():\n",
    "        y_pred_injective = model_injective(X_test)\n",
    "        correct_injective = (torch.argmax(y_pred_injective, dim=1) == y_test).type(torch.FloatTensor)\n",
    "        accuracy_list_injective[epoch] = correct_injective.mean()\n",
    "    \n",
    "    \n",
    "\n",
    "    \n",
    "    k = k+1\n",
    "\n",
    "accuracy_list"
   ]
  },
  {
   "cell_type": "code",
   "execution_count": null,
   "metadata": {},
   "outputs": [
    {
     "data": {
      "text/plain": [
       "Text(0, 0.5, 'Accuracy')"
      ]
     },
     "execution_count": 364,
     "metadata": {},
     "output_type": "execute_result"
    },
    {
     "data": {
      "image/png": "[encoded data removed]",
      "text/plain": [
       "<Figure size 640x480 with 1 Axes>"
      ]
     },
     "metadata": {},
     "output_type": "display_data"
    }
   ],
   "source": [
    "plt.plot(accuracy_list, label='Standard')\n",
    "plt.plot(accuracy_list_injective, label='Injective')\n",
    "plt.legend()\n",
    "plt.title('Accuracy')\n",
    "plt.xlabel('Epoch')\n",
    "plt.ylabel('Accuracy')"
   ]
  },
  {
   "cell_type": "markdown",
   "metadata": {},
   "source": [
    "# mean over multiple trainings"
   ]
  },
  {
   "cell_type": "code",
   "execution_count": 365,
   "metadata": {},
   "outputs": [],
   "source": [
    "num_iter = 25\n",
    "accuracy = []\n",
    "accuracy_injective = []"
   ]
  },
  {
   "cell_type": "code",
   "execution_count": 366,
   "metadata": {},
   "outputs": [
    {
     "name": "stderr",
     "output_type": "stream",
     "text": [
      "100%|██████████| 25/25 [02:39<00:00,  6.37s/it]\n"
     ]
    }
   ],
   "source": [
    "for i in tqdm.tqdm(range(num_iter)):\n",
    "    \n",
    "    model     = Model(X_train.shape[1],l1)\n",
    "    optimizer = torch.optim.Adam(model.parameters(), lr=0.01)\n",
    "    loss_fn   = nn.CrossEntropyLoss()\n",
    "    model\n",
    "\n",
    "    model_injective = Model(X_train.shape[1],l1)\n",
    "    optimizer_injective = torch.optim.Adam(model_injective.parameters(), lr=0.01)\n",
    "    model\n",
    "\n",
    "    times_to_blowup = 3\n",
    "    X_kd = mcbe.add_kd_samples(X_train,times_to_blowup)\n",
    "\n",
    "    weights = []\n",
    "    weights_norm = []\n",
    "    norms = []\n",
    "    biases = np.zeros([EPOCHS + 1,l1])\n",
    "\n",
    "    weights_injective = []\n",
    "    weights_norm_injective = []\n",
    "    norms_injective = []\n",
    "    biases_injective = np.zeros([EPOCHS + 1,l1])\n",
    "\n",
    "    w1 = model.layer1.weight\n",
    "    b1 = model.layer1.bias\n",
    "    m1 = w1.shape[0]\n",
    "    n1 = w1.shape[1]\n",
    "    norm = w1.pow(2).sum(keepdim=True,dim=1).sqrt()\n",
    "    w1_norm = torch.div(w1,norm)\n",
    "    w1_norm[w1_norm == np.inf] = 0\n",
    "\n",
    "    w1_injective = model_injective.layer1.weight\n",
    "    b1_injective = model_injective.layer1.bias\n",
    "\n",
    "    weights.append(w1.detach().numpy())\n",
    "    weights_norm.append(w1_norm.detach().numpy())\n",
    "    norms.append(norm.detach().numpy())\n",
    "    biases[0,:] = b1.detach().numpy()\n",
    "\n",
    "    weights_injective.append(w1_injective.detach().numpy())\n",
    "    weights_norm_injective.append(w1_norm.detach().numpy())\n",
    "    norms_injective.append(norm.detach().numpy())\n",
    "    biases_injective[0,:] = b1_injective.detach().numpy()\n",
    "\n",
    "\n",
    "    #epoch counter\n",
    "    k = 1\n",
    "\n",
    "    loss_list     = np.zeros((EPOCHS,))\n",
    "    accuracy_list = np.zeros((EPOCHS,))\n",
    "\n",
    "    loss_list_injective     = np.zeros((EPOCHS,))\n",
    "    accuracy_list_injective = np.zeros((EPOCHS,))\n",
    "\n",
    "    for epoch in range(EPOCHS):\n",
    "        y_pred = model(X_train)\n",
    "        loss = loss_fn(y_pred, y_train)\n",
    "        loss_list[epoch] = loss.item()\n",
    "\n",
    "        y_pred_injective = model_injective(X_train)\n",
    "        loss_injective = loss_fn(y_pred_injective, y_train)\n",
    "        loss_list_injective[epoch] = loss_injective.item()\n",
    "        \n",
    "        # Zero gradients\n",
    "        optimizer.zero_grad()\n",
    "        loss.backward()\n",
    "        optimizer.step()\n",
    "\n",
    "        # Zero gradients\n",
    "        optimizer_injective.zero_grad()\n",
    "        loss_injective.backward()\n",
    "        optimizer_injective.step()\n",
    "\n",
    "        w1 = model.layer1.weight\n",
    "        b1 = model.layer1.bias\n",
    "\n",
    "        w1_injective = model_injective.layer1.weight\n",
    "        b1_injective = model_injective.layer1.bias\n",
    "\n",
    "        est_alpha_kd, subframes_kd, est_points_kd = mcbe.be_given_points(polytope=np.array(weights)[-1],points=X_kd, give_subframes=True)\n",
    "\n",
    "        model_injective.layer1.bias = torch.nn.Parameter(torch.from_numpy(np.min(np.array([b1.detach().numpy(), est_alpha_kd]),axis=0)).float())\n",
    "        \n",
    "\n",
    "        norm = w1.pow(2).sum(keepdim=True,dim=1).sqrt()\n",
    "        w1_norm = torch.div(w1,norm)\n",
    "        w1_norm[w1_norm == np.inf] = 0\n",
    "\n",
    "        norm_injective = w1_injective.pow(2).sum(keepdim=True,dim=1).sqrt()\n",
    "        w1_norm_injective = torch.div(w1_injective,norm_injective)\n",
    "        w1_norm_injective[w1_norm_injective == np.inf] = 0\n",
    "        \n",
    "        \n",
    "        weights.append(w1.detach().numpy())\n",
    "        weights_norm.append(w1_norm.detach().numpy())\n",
    "        norms.append(norm.detach().numpy())\n",
    "        biases[k,:] = b1.detach().numpy()\n",
    "\n",
    "        weights_injective.append(w1_injective.detach().numpy())\n",
    "        weights_norm_injective.append(w1_norm_injective.detach().numpy())\n",
    "        norms_injective.append(norm_injective.detach().numpy())\n",
    "        biases_injective[k,:] = b1_injective.detach().numpy()\n",
    "        \n",
    "        with torch.no_grad():\n",
    "            y_pred = model(X_test)\n",
    "            correct = (torch.argmax(y_pred, dim=1) == y_test).type(torch.FloatTensor)\n",
    "            accuracy_list[epoch] = correct.mean()\n",
    "\n",
    "        with torch.no_grad():\n",
    "            y_pred_injective = model_injective(X_test)\n",
    "            correct_injective = (torch.argmax(y_pred_injective, dim=1) == y_test).type(torch.FloatTensor)\n",
    "            accuracy_list_injective[epoch] = correct_injective.mean()\n",
    "        \n",
    "        \n",
    "\n",
    "        \n",
    "        k = k+1\n",
    "\n",
    "    accuracy.append(accuracy_list)\n",
    "    accuracy_injective.append(accuracy_list_injective)\n",
    "\n",
    "    "
   ]
  },
  {
   "cell_type": "code",
   "execution_count": 367,
   "metadata": {},
   "outputs": [],
   "source": [
    "accuracy = np.array(accuracy)\n",
    "accuracy_injective = np.array(accuracy_injective)"
   ]
  },
  {
   "cell_type": "code",
   "execution_count": 368,
   "metadata": {},
   "outputs": [],
   "source": [
    "mean_accuracy = np.mean(accuracy,axis=0)\n",
    "std_accuracy = np.std(accuracy,axis=0)\n",
    "mean_accuracy_injective = np.mean(accuracy_injective,axis=0)\n",
    "std_accuracy_injective = np.std(accuracy_injective,axis=0)"
   ]
  },
  {
   "cell_type": "code",
   "execution_count": 369,
   "metadata": {},
   "outputs": [
    {
     "data": {
      "text/plain": [
       "Text(0, 0.5, 'Accuracy')"
      ]
     },
     "execution_count": 369,
     "metadata": {},
     "output_type": "execute_result"
    },
    {
     "data": {
      "image/png": "[encoded data removed]",
      "text/plain": [
       "<Figure size 640x480 with 1 Axes>"
      ]
     },
     "metadata": {},
     "output_type": "display_data"
    }
   ],
   "source": [
    "plt.plot(mean_accuracy, label='Standard')\n",
    "plt.fill_between(range(EPOCHS), mean_accuracy-std_accuracy, mean_accuracy+std_accuracy, alpha=0.2)\n",
    "plt.plot(mean_accuracy_injective, label='Injective')\n",
    "plt.fill_between(range(EPOCHS), mean_accuracy_injective-std_accuracy_injective, mean_accuracy_injective+std_accuracy_injective, alpha=0.2)\n",
    "plt.legend()\n",
    "plt.xlabel('Epoch')\n",
    "plt.ylabel('Accuracy')"
   ]
  },
  {
   "cell_type": "code",
   "execution_count": 370,
   "metadata": {},
   "outputs": [],
   "source": [
    "#save the data\n",
    "np.save('mean_accuracy_injective_enforced.npy', mean_accuracy_injective)\n",
    "np.save('std_accuracy_injective_enforced.npy', std_accuracy_injective)\n"
   ]
  },
  {
   "cell_type": "code",
   "execution_count": null,
   "metadata": {},
   "outputs": [],
   "source": []
  }
 ],
 "metadata": {
  "kernelspec": {
   "display_name": "pbe",
   "language": "python",
   "name": "python3"
  },
  "language_info": {
   "codemirror_mode": {
    "name": "ipython",
    "version": 3
   },
   "file_extension": ".py",
   "mimetype": "text/x-python",
   "name": "python",
   "nbconvert_exporter": "python",
   "pygments_lexer": "ipython3",
   "version": "3.11.5"
  }
 },
 "nbformat": 4,
 "nbformat_minor": 2
}
